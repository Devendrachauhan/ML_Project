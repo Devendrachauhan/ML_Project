{
  "nbformat": 4,
  "nbformat_minor": 0,
  "metadata": {
    "kernelspec": {
      "display_name": "Python 3",
      "language": "python",
      "name": "python3"
    },
    "language_info": {
      "codemirror_mode": {
        "name": "ipython",
        "version": 3
      },
      "file_extension": ".py",
      "mimetype": "text/x-python",
      "name": "python",
      "nbconvert_exporter": "python",
      "pygments_lexer": "ipython3",
      "version": "3.7.3"
    },
    "colab": {
      "name": "Cars_price.ipynb",
      "provenance": [],
      "collapsed_sections": []
    }
  },
  "cells": [
    {
      "cell_type": "markdown",
      "metadata": {
        "id": "1k-50zp51twA"
      },
      "source": [
        "#**Car Price Prediction**\n",
        "\n"
      ]
    },
    {
      "cell_type": "markdown",
      "metadata": {
        "id": "c4n-L6gk6Ogh"
      },
      "source": [
        "The goal of this project is to predict the price of cars using Machine Learning. The algorithm that is used here to decide the price of the cars.The prices of new cars in the industry is fixed by the manufacturer. So, customers buying a new car can be assured of the money they invest to be worthy.\n"
      ]
    },
    {
      "cell_type": "markdown",
      "metadata": {
        "id": "j0oP3Rob7EOI"
      },
      "source": [
        "1- Data understanding and exploration\n",
        "\n",
        "2- Data cleaning\n",
        "\n",
        "3- Data preparation: Feature Engineering and Scaling\n",
        "\n",
        "4- Feature Selection using RFE and Model Building\n",
        "\n",
        "5- Linear Regression Assumptions Validation and Outlier Removal"
      ]
    },
    {
      "cell_type": "code",
      "metadata": {
        "id": "E2xJdYyJ7XVA"
      },
      "source": [
        "import warnings\n",
        "warnings.filterwarnings('ignore')"
      ],
      "execution_count": 1,
      "outputs": []
    },
    {
      "cell_type": "code",
      "metadata": {
        "id": "x6URhJ-Q8J30",
        "colab": {
          "base_uri": "https://localhost:8080/",
          "height": 35
        },
        "outputId": "5ff81d88-2590-497c-eea2-931f67d642d3"
      },
      "source": [
        "import os\n",
        "os.getcwd()"
      ],
      "execution_count": 2,
      "outputs": [
        {
          "output_type": "execute_result",
          "data": {
            "application/vnd.google.colaboratory.intrinsic+json": {
              "type": "string"
            },
            "text/plain": [
              "'/content'"
            ]
          },
          "metadata": {
            "tags": []
          },
          "execution_count": 2
        }
      ]
    },
    {
      "cell_type": "code",
      "metadata": {
        "id": "eYfZ9fllQWQK",
        "colab": {
          "base_uri": "https://localhost:8080/"
        },
        "outputId": "05c3beb5-fc6c-46c1-bc35-3ebfbc464047"
      },
      "source": [
        "from google.colab import drive\n",
        "drive.mount('/content/drive')"
      ],
      "execution_count": 5,
      "outputs": [
        {
          "output_type": "stream",
          "text": [
            "Drive already mounted at /content/drive; to attempt to forcibly remount, call drive.mount(\"/content/drive\", force_remount=True).\n"
          ],
          "name": "stdout"
        }
      ]
    },
    {
      "cell_type": "code",
      "metadata": {
        "id": "mSmtezK9P1AE"
      },
      "source": [
        "os.chdir('/content/drive/MyDrive/Dataset')"
      ],
      "execution_count": 6,
      "outputs": []
    },
    {
      "cell_type": "code",
      "metadata": {
        "id": "bRo3LfMP7XVP"
      },
      "source": [
        "#import all libraries\n",
        "\n",
        "import numpy as np\n",
        "import pandas as pd\n",
        "\n",
        "import matplotlib.pyplot as plt\n",
        "import seaborn as sns\n",
        "\n",
        "from sklearn.model_selection import train_test_split\n",
        "from sklearn.preprocessing import StandardScaler\n",
        "\n",
        "from sklearn.linear_model import LinearRegression\n",
        "import statsmodels.api as sm\n",
        "from sklearn.feature_selection import RFE\n",
        "from statsmodels.stats.outliers_influence import variance_inflation_factor\n",
        "from sklearn.metrics import confusion_matrix, r2_score\n",
        "from sklearn.metrics import mean_squared_error"
      ],
      "execution_count": 7,
      "outputs": []
    },
    {
      "cell_type": "markdown",
      "metadata": {
        "id": "VXn-95no8GwU"
      },
      "source": [
        "\n",
        "##**Read dataset**\n",
        "I'll read the dataset and get information about it."
      ]
    },
    {
      "cell_type": "code",
      "metadata": {
        "id": "pECdzhK67XVV",
        "colab": {
          "base_uri": "https://localhost:8080/",
          "height": 309
        },
        "outputId": "17929adc-c2e2-4888-c616-fcc968bdfd5e"
      },
      "source": [
        "df = pd.read_csv('/content/drive/MyDrive/Dataset/cars_price.csv', index_col=0)\n",
        "df.head()"
      ],
      "execution_count": 8,
      "outputs": [
        {
          "output_type": "execute_result",
          "data": {
            "text/html": [
              "<div>\n",
              "<style scoped>\n",
              "    .dataframe tbody tr th:only-of-type {\n",
              "        vertical-align: middle;\n",
              "    }\n",
              "\n",
              "    .dataframe tbody tr th {\n",
              "        vertical-align: top;\n",
              "    }\n",
              "\n",
              "    .dataframe thead th {\n",
              "        text-align: right;\n",
              "    }\n",
              "</style>\n",
              "<table border=\"1\" class=\"dataframe\">\n",
              "  <thead>\n",
              "    <tr style=\"text-align: right;\">\n",
              "      <th></th>\n",
              "      <th>make</th>\n",
              "      <th>model</th>\n",
              "      <th>priceUSD</th>\n",
              "      <th>year</th>\n",
              "      <th>condition</th>\n",
              "      <th>mileage(kilometers)</th>\n",
              "      <th>fuel_type</th>\n",
              "      <th>volume(cm3)</th>\n",
              "      <th>color</th>\n",
              "      <th>transmission</th>\n",
              "      <th>drive_unit</th>\n",
              "      <th>segment</th>\n",
              "    </tr>\n",
              "  </thead>\n",
              "  <tbody>\n",
              "    <tr>\n",
              "      <th>0</th>\n",
              "      <td>honda</td>\n",
              "      <td>accord</td>\n",
              "      <td>565</td>\n",
              "      <td>1993</td>\n",
              "      <td>with mileage</td>\n",
              "      <td>960015.0</td>\n",
              "      <td>petrol</td>\n",
              "      <td>2000.0</td>\n",
              "      <td>black</td>\n",
              "      <td>mechanics</td>\n",
              "      <td>front-wheel drive</td>\n",
              "      <td>D</td>\n",
              "    </tr>\n",
              "    <tr>\n",
              "      <th>1</th>\n",
              "      <td>ford</td>\n",
              "      <td>fusion</td>\n",
              "      <td>5550</td>\n",
              "      <td>2008</td>\n",
              "      <td>with mileage</td>\n",
              "      <td>172000.0</td>\n",
              "      <td>diesel</td>\n",
              "      <td>1400.0</td>\n",
              "      <td>silver</td>\n",
              "      <td>mechanics</td>\n",
              "      <td>front-wheel drive</td>\n",
              "      <td>M</td>\n",
              "    </tr>\n",
              "    <tr>\n",
              "      <th>2</th>\n",
              "      <td>nissan</td>\n",
              "      <td>teana</td>\n",
              "      <td>8300</td>\n",
              "      <td>2008</td>\n",
              "      <td>with mileage</td>\n",
              "      <td>223000.0</td>\n",
              "      <td>petrol</td>\n",
              "      <td>2500.0</td>\n",
              "      <td>purple</td>\n",
              "      <td>auto</td>\n",
              "      <td>front-wheel drive</td>\n",
              "      <td>D</td>\n",
              "    </tr>\n",
              "    <tr>\n",
              "      <th>3</th>\n",
              "      <td>volkswagen</td>\n",
              "      <td>fox</td>\n",
              "      <td>3300</td>\n",
              "      <td>2005</td>\n",
              "      <td>with mileage</td>\n",
              "      <td>140000.0</td>\n",
              "      <td>petrol</td>\n",
              "      <td>1200.0</td>\n",
              "      <td>blue</td>\n",
              "      <td>mechanics</td>\n",
              "      <td>front-wheel drive</td>\n",
              "      <td>A</td>\n",
              "    </tr>\n",
              "    <tr>\n",
              "      <th>4</th>\n",
              "      <td>nissan</td>\n",
              "      <td>primera</td>\n",
              "      <td>2450</td>\n",
              "      <td>2002</td>\n",
              "      <td>with damage</td>\n",
              "      <td>413000.0</td>\n",
              "      <td>diesel</td>\n",
              "      <td>2200.0</td>\n",
              "      <td>burgundy</td>\n",
              "      <td>mechanics</td>\n",
              "      <td>front-wheel drive</td>\n",
              "      <td>D</td>\n",
              "    </tr>\n",
              "  </tbody>\n",
              "</table>\n",
              "</div>"
            ],
            "text/plain": [
              "         make    model  priceUSD  ...  transmission         drive_unit  segment\n",
              "0       honda   accord       565  ...     mechanics  front-wheel drive        D\n",
              "1        ford   fusion      5550  ...     mechanics  front-wheel drive        M\n",
              "2      nissan    teana      8300  ...          auto  front-wheel drive        D\n",
              "3  volkswagen      fox      3300  ...     mechanics  front-wheel drive        A\n",
              "4      nissan  primera      2450  ...     mechanics  front-wheel drive        D\n",
              "\n",
              "[5 rows x 12 columns]"
            ]
          },
          "metadata": {
            "tags": []
          },
          "execution_count": 8
        }
      ]
    },
    {
      "cell_type": "code",
      "metadata": {
        "id": "a6NbEoGV7XVd",
        "colab": {
          "base_uri": "https://localhost:8080/"
        },
        "outputId": "b4675cc4-9d59-413c-d8ad-c983db8c4b7b"
      },
      "source": [
        "#shape of the data\n",
        "df.shape"
      ],
      "execution_count": 9,
      "outputs": [
        {
          "output_type": "execute_result",
          "data": {
            "text/plain": [
              "(40000, 12)"
            ]
          },
          "metadata": {
            "tags": []
          },
          "execution_count": 9
        }
      ]
    },
    {
      "cell_type": "markdown",
      "metadata": {
        "id": "lTtXqsbe_EDN"
      },
      "source": [
        "# New section"
      ]
    },
    {
      "cell_type": "markdown",
      "metadata": {
        "id": "2_yIkNiA7ZHO"
      },
      "source": [
        "##**OBSERVATION**\n",
        "\n",
        "Minimum Price of Car is 95 USD and maximum price is \n",
        "\n",
        "*   Minimum Price of Car is 95 USD and maximum price is \n",
        "*   195000 USD.\n",
        "*   Given Data is from 1938 to 2019.\n"
      ]
    },
    {
      "cell_type": "code",
      "metadata": {
        "id": "HdBp-qcn7XVj",
        "colab": {
          "base_uri": "https://localhost:8080/"
        },
        "outputId": "5d3dec7e-220d-4adb-f82d-1ea3b6b6e376"
      },
      "source": [
        "#info the dataframe\n",
        "df.info()"
      ],
      "execution_count": 10,
      "outputs": [
        {
          "output_type": "stream",
          "text": [
            "<class 'pandas.core.frame.DataFrame'>\n",
            "Int64Index: 40000 entries, 0 to 39999\n",
            "Data columns (total 12 columns):\n",
            " #   Column               Non-Null Count  Dtype  \n",
            "---  ------               --------------  -----  \n",
            " 0   make                 40000 non-null  object \n",
            " 1   model                40000 non-null  object \n",
            " 2   priceUSD             40000 non-null  int64  \n",
            " 3   year                 40000 non-null  int64  \n",
            " 4   condition            40000 non-null  object \n",
            " 5   mileage(kilometers)  40000 non-null  float64\n",
            " 6   fuel_type            40000 non-null  object \n",
            " 7   volume(cm3)          39970 non-null  float64\n",
            " 8   color                40000 non-null  object \n",
            " 9   transmission         40000 non-null  object \n",
            " 10  drive_unit           38655 non-null  object \n",
            " 11  segment              36245 non-null  object \n",
            "dtypes: float64(2), int64(2), object(8)\n",
            "memory usage: 4.0+ MB\n"
          ],
          "name": "stdout"
        }
      ]
    },
    {
      "cell_type": "code",
      "metadata": {
        "id": "l1_VjuSO7XVp",
        "colab": {
          "base_uri": "https://localhost:8080/",
          "height": 173
        },
        "outputId": "3f7e1321-6e3d-457b-9771-b7852efd5305"
      },
      "source": [
        "#describe the data\n",
        "df.describe(percentiles = [0.10,0.25,0.50,0.75]).T"
      ],
      "execution_count": 11,
      "outputs": [
        {
          "output_type": "execute_result",
          "data": {
            "text/html": [
              "<div>\n",
              "<style scoped>\n",
              "    .dataframe tbody tr th:only-of-type {\n",
              "        vertical-align: middle;\n",
              "    }\n",
              "\n",
              "    .dataframe tbody tr th {\n",
              "        vertical-align: top;\n",
              "    }\n",
              "\n",
              "    .dataframe thead th {\n",
              "        text-align: right;\n",
              "    }\n",
              "</style>\n",
              "<table border=\"1\" class=\"dataframe\">\n",
              "  <thead>\n",
              "    <tr style=\"text-align: right;\">\n",
              "      <th></th>\n",
              "      <th>count</th>\n",
              "      <th>mean</th>\n",
              "      <th>std</th>\n",
              "      <th>min</th>\n",
              "      <th>10%</th>\n",
              "      <th>25%</th>\n",
              "      <th>50%</th>\n",
              "      <th>75%</th>\n",
              "      <th>max</th>\n",
              "    </tr>\n",
              "  </thead>\n",
              "  <tbody>\n",
              "    <tr>\n",
              "      <th>priceUSD</th>\n",
              "      <td>40000.0</td>\n",
              "      <td>7430.383775</td>\n",
              "      <td>8338.242134</td>\n",
              "      <td>95.0</td>\n",
              "      <td>1050.0</td>\n",
              "      <td>2350.0</td>\n",
              "      <td>5350.0</td>\n",
              "      <td>9850.0</td>\n",
              "      <td>195000.0</td>\n",
              "    </tr>\n",
              "    <tr>\n",
              "      <th>year</th>\n",
              "      <td>40000.0</td>\n",
              "      <td>2003.485625</td>\n",
              "      <td>8.114896</td>\n",
              "      <td>1938.0</td>\n",
              "      <td>1993.0</td>\n",
              "      <td>1998.0</td>\n",
              "      <td>2004.0</td>\n",
              "      <td>2010.0</td>\n",
              "      <td>2019.0</td>\n",
              "    </tr>\n",
              "    <tr>\n",
              "      <th>mileage(kilometers)</th>\n",
              "      <td>40000.0</td>\n",
              "      <td>243433.200218</td>\n",
              "      <td>316703.266582</td>\n",
              "      <td>0.0</td>\n",
              "      <td>53300.0</td>\n",
              "      <td>137000.0</td>\n",
              "      <td>228000.0</td>\n",
              "      <td>308761.0</td>\n",
              "      <td>9999999.0</td>\n",
              "    </tr>\n",
              "    <tr>\n",
              "      <th>volume(cm3)</th>\n",
              "      <td>39970.0</td>\n",
              "      <td>2103.201676</td>\n",
              "      <td>938.724653</td>\n",
              "      <td>500.0</td>\n",
              "      <td>1400.0</td>\n",
              "      <td>1600.0</td>\n",
              "      <td>1995.0</td>\n",
              "      <td>2300.0</td>\n",
              "      <td>20000.0</td>\n",
              "    </tr>\n",
              "  </tbody>\n",
              "</table>\n",
              "</div>"
            ],
            "text/plain": [
              "                       count           mean  ...       75%        max\n",
              "priceUSD             40000.0    7430.383775  ...    9850.0   195000.0\n",
              "year                 40000.0    2003.485625  ...    2010.0     2019.0\n",
              "mileage(kilometers)  40000.0  243433.200218  ...  308761.0  9999999.0\n",
              "volume(cm3)          39970.0    2103.201676  ...    2300.0    20000.0\n",
              "\n",
              "[4 rows x 9 columns]"
            ]
          },
          "metadata": {
            "tags": []
          },
          "execution_count": 11
        }
      ]
    },
    {
      "cell_type": "markdown",
      "metadata": {
        "id": "VBF6pBKs_w8L"
      },
      "source": [
        "Find missing values."
      ]
    },
    {
      "cell_type": "code",
      "metadata": {
        "scrolled": true,
        "id": "94_C5pIJ7XWL",
        "colab": {
          "base_uri": "https://localhost:8080/"
        },
        "outputId": "2fde0165-621d-4c50-f03d-6fd3188e55a9"
      },
      "source": [
        "df.isnull().sum()"
      ],
      "execution_count": 12,
      "outputs": [
        {
          "output_type": "execute_result",
          "data": {
            "text/plain": [
              "make                      0\n",
              "model                     0\n",
              "priceUSD                  0\n",
              "year                      0\n",
              "condition                 0\n",
              "mileage(kilometers)       0\n",
              "fuel_type                 0\n",
              "volume(cm3)              30\n",
              "color                     0\n",
              "transmission              0\n",
              "drive_unit             1345\n",
              "segment                3755\n",
              "dtype: int64"
            ]
          },
          "metadata": {
            "tags": []
          },
          "execution_count": 12
        }
      ]
    },
    {
      "cell_type": "markdown",
      "metadata": {
        "id": "RD5HiAAr8mll"
      },
      "source": [
        "##**Data Cleaning:**"
      ]
    },
    {
      "cell_type": "markdown",
      "metadata": {
        "id": "Zob-JfP59UJK"
      },
      "source": [
        "Find the number of duplicates in dataset."
      ]
    },
    {
      "cell_type": "code",
      "metadata": {
        "id": "f1GoH6rR7XV9",
        "colab": {
          "base_uri": "https://localhost:8080/"
        },
        "outputId": "1bee7d0b-6591-492c-9688-8bfa67228ffd"
      },
      "source": [
        "df.duplicated().sum()"
      ],
      "execution_count": 13,
      "outputs": [
        {
          "output_type": "execute_result",
          "data": {
            "text/plain": [
              "49"
            ]
          },
          "metadata": {
            "tags": []
          },
          "execution_count": 13
        }
      ]
    },
    {
      "cell_type": "markdown",
      "metadata": {
        "id": "Xrr1frrU9OMj"
      },
      "source": [
        "As we can see, there are 45 duplicate rows in this dataset which I will remove from the dataset."
      ]
    },
    {
      "cell_type": "code",
      "metadata": {
        "id": "yLv6yFNl7XWC"
      },
      "source": [
        "#removing the duplicates in the data\n",
        "df.drop_duplicates(keep=False,inplace=True)"
      ],
      "execution_count": 14,
      "outputs": []
    },
    {
      "cell_type": "markdown",
      "metadata": {
        "id": "I3lV8Frv9fkY"
      },
      "source": [
        "Replace the missing values in column \"volume(cm3)\" awith median"
      ]
    },
    {
      "cell_type": "code",
      "metadata": {
        "id": "Sk9Xi4EMYSKO",
        "colab": {
          "base_uri": "https://localhost:8080/"
        },
        "outputId": "1303fa7d-9e02-40a2-ee7b-c03bc5098248"
      },
      "source": [
        "df['volume(cm3)'].median()"
      ],
      "execution_count": 15,
      "outputs": [
        {
          "output_type": "execute_result",
          "data": {
            "text/plain": [
              "1995.0"
            ]
          },
          "metadata": {
            "tags": []
          },
          "execution_count": 15
        }
      ]
    },
    {
      "cell_type": "code",
      "metadata": {
        "id": "SDilT0HVNlWw"
      },
      "source": [
        "df['volume(cm3)'].fillna(df['volume(cm3)'].median(),inplace=True)"
      ],
      "execution_count": 16,
      "outputs": []
    },
    {
      "cell_type": "markdown",
      "metadata": {
        "id": "-D54GIpa90eX"
      },
      "source": [
        "Find missing values."
      ]
    },
    {
      "cell_type": "code",
      "metadata": {
        "id": "spCozvkGOK6d",
        "colab": {
          "base_uri": "https://localhost:8080/"
        },
        "outputId": "52306e2c-99e5-4a01-f0d7-c04ca4078507"
      },
      "source": [
        "df.isnull().sum()"
      ],
      "execution_count": 17,
      "outputs": [
        {
          "output_type": "execute_result",
          "data": {
            "text/plain": [
              "make                      0\n",
              "model                     0\n",
              "priceUSD                  0\n",
              "year                      0\n",
              "condition                 0\n",
              "mileage(kilometers)       0\n",
              "fuel_type                 0\n",
              "volume(cm3)               0\n",
              "color                     0\n",
              "transmission              0\n",
              "drive_unit             1343\n",
              "segment                3749\n",
              "dtype: int64"
            ]
          },
          "metadata": {
            "tags": []
          },
          "execution_count": 17
        }
      ]
    },
    {
      "cell_type": "markdown",
      "metadata": {
        "id": "StsfiQ9K98YS"
      },
      "source": [
        "Drop all the missing values from Dataset."
      ]
    },
    {
      "cell_type": "code",
      "metadata": {
        "id": "yhZiDUunxwai"
      },
      "source": [
        "df.dropna(inplace=True)"
      ],
      "execution_count": 18,
      "outputs": []
    },
    {
      "cell_type": "code",
      "metadata": {
        "id": "AEQg2nG_7XWV",
        "colab": {
          "base_uri": "https://localhost:8080/"
        },
        "outputId": "4ef2d75f-ae01-4eca-c1cf-f79ce6cef2b6"
      },
      "source": [
        "df.isnull().sum()\n",
        "#verfying for any null values"
      ],
      "execution_count": 19,
      "outputs": [
        {
          "output_type": "execute_result",
          "data": {
            "text/plain": [
              "make                   0\n",
              "model                  0\n",
              "priceUSD               0\n",
              "year                   0\n",
              "condition              0\n",
              "mileage(kilometers)    0\n",
              "fuel_type              0\n",
              "volume(cm3)            0\n",
              "color                  0\n",
              "transmission           0\n",
              "drive_unit             0\n",
              "segment                0\n",
              "dtype: int64"
            ]
          },
          "metadata": {
            "tags": []
          },
          "execution_count": 19
        }
      ]
    },
    {
      "cell_type": "markdown",
      "metadata": {
        "id": "_ivVX0Vu-TAl"
      },
      "source": [
        "As we can notice from the boxplots, we don't only have very low points but we also have a lot of high points.\n",
        "\n",
        "In order to detect and remove outliers we are going to use a technique called \"IQR score technique\"."
      ]
    },
    {
      "cell_type": "markdown",
      "metadata": {
        "id": "tx9WhOCo-b4N"
      },
      "source": [
        "#**Exploratory Data Analysis (EDA)**"
      ]
    },
    {
      "cell_type": "code",
      "metadata": {
        "id": "nhx7fC1Lz5zi",
        "colab": {
          "base_uri": "https://localhost:8080/",
          "height": 405
        },
        "outputId": "94c9cf17-14a5-401d-e383-f9139afa7097"
      },
      "source": [
        "cars = df.groupby('make')['model'].count().reset_index().sort_values('model',ascending = False).head(15)\n",
        "cars = cars.rename(columns = {'make':'brand','model':'count'})\n",
        "fig,ax=plt.subplots(figsize=(15,6))\n",
        "sns.barplot(data=cars, x='brand',y='count', ax=ax)"
      ],
      "execution_count": 20,
      "outputs": [
        {
          "output_type": "execute_result",
          "data": {
            "text/plain": [
              "<matplotlib.axes._subplots.AxesSubplot at 0x7f474b9aa198>"
            ]
          },
          "metadata": {
            "tags": []
          },
          "execution_count": 20
        },
        {
          "output_type": "display_data",
          "data": {
            "image/png": "[encoded data removed]",
            "text/plain": [
              "<Figure size 1080x432 with 1 Axes>"
            ]
          },
          "metadata": {
            "tags": [],
            "needs_background": "light"
          }
        }
      ]
    },
    {
      "cell_type": "code",
      "metadata": {
        "id": "JSOmVQ687XWo",
        "colab": {
          "base_uri": "https://localhost:8080/",
          "height": 295
        },
        "outputId": "51b68631-0fb6-42dd-8628-d41c1f022b7a"
      },
      "source": [
        "plt.plot(df['priceUSD'],df['mileage(kilometers)'],color='green')\n",
        "plt.title('Price vs Mileage')\n",
        "plt.xlabel('Price')\n",
        "plt.ylabel('mileage(kilometers)')\n",
        "plt.show()"
      ],
      "execution_count": 21,
      "outputs": [
        {
          "output_type": "display_data",
          "data": {
            "image/png": "[encoded data removed]",
            "text/plain": [
              "<Figure size 432x288 with 1 Axes>"
            ]
          },
          "metadata": {
            "tags": [],
            "needs_background": "light"
          }
        }
      ]
    },
    {
      "cell_type": "markdown",
      "metadata": {
        "id": "ook5gYkrIpw9"
      },
      "source": [
        "As we see through the graph that if we increase price then mileage decrease. It's called negative correlation."
      ]
    },
    {
      "cell_type": "code",
      "metadata": {
        "id": "cnSb8MNM7XWt",
        "colab": {
          "base_uri": "https://localhost:8080/",
          "height": 399
        },
        "outputId": "217c2c17-0a59-4cca-ec07-54aed448c38b"
      },
      "source": [
        "fig, ax = plt.subplots(figsize=(10,6))\n",
        "ax.scatter(df['priceUSD'], df['mileage(kilometers)'])\n",
        "ax.set_xlabel('HP')\n",
        "ax.set_ylabel('mileage(kilometers)')\n",
        "plt.show()"
      ],
      "execution_count": 22,
      "outputs": [
        {
          "output_type": "display_data",
          "data": {
            "image/png": "[encoded data removed]",
            "text/plain": [
              "<Figure size 720x432 with 1 Axes>"
            ]
          },
          "metadata": {
            "tags": [],
            "needs_background": "light"
          }
        }
      ]
    },
    {
      "cell_type": "code",
      "metadata": {
        "id": "3QnSCVIp4Vjk",
        "colab": {
          "base_uri": "https://localhost:8080/",
          "height": 382
        },
        "outputId": "eada3176-603b-4eb4-c7c2-14266995b188"
      },
      "source": [
        "df['year'].value_counts().nlargest(40).plot(kind='bar', figsize=(15,5), color='green')\n",
        "plt.title(\"Number of cars by Year\")\n",
        "plt.ylabel(\"Number of cars\")\n",
        "plt.xlabel(\"Year\")"
      ],
      "execution_count": 23,
      "outputs": [
        {
          "output_type": "execute_result",
          "data": {
            "text/plain": [
              "Text(0.5, 0, 'Year')"
            ]
          },
          "metadata": {
            "tags": []
          },
          "execution_count": 23
        },
        {
          "output_type": "display_data",
          "data": {
            "image/png": "[encoded data removed]",
            "text/plain": [
              "<Figure size 1080x360 with 1 Axes>"
            ]
          },
          "metadata": {
            "tags": [],
            "needs_background": "light"
          }
        }
      ]
    },
    {
      "cell_type": "code",
      "metadata": {
        "id": "kTzoscAV40vp",
        "colab": {
          "base_uri": "https://localhost:8080/",
          "height": 406
        },
        "outputId": "9a22029d-6197-48e6-ead8-95784895e1ea"
      },
      "source": [
        "plt.figure(figsize=(12,6))\n",
        "sns.barplot(y=df['priceUSD'], x=df['fuel_type'], ci=None)"
      ],
      "execution_count": 24,
      "outputs": [
        {
          "output_type": "execute_result",
          "data": {
            "text/plain": [
              "<matplotlib.axes._subplots.AxesSubplot at 0x7f473c3fe550>"
            ]
          },
          "metadata": {
            "tags": []
          },
          "execution_count": 24
        },
        {
          "output_type": "display_data",
          "data": {
            "image/png": "[encoded data removed]",
            "text/plain": [
              "<Figure size 864x432 with 1 Axes>"
            ]
          },
          "metadata": {
            "tags": [],
            "needs_background": "light"
          }
        }
      ]
    },
    {
      "cell_type": "markdown",
      "metadata": {
        "id": "dOG10AmvIW88"
      },
      "source": [
        "As, we see electrocar is more expensive as compare to others."
      ]
    },
    {
      "cell_type": "code",
      "metadata": {
        "id": "_HN4bzJQ7XWi",
        "colab": {
          "base_uri": "https://localhost:8080/",
          "height": 295
        },
        "outputId": "12aba443-318a-4256-df86-f11291104565"
      },
      "source": [
        "sns.boxplot(data=df,orient='h',palette='Set2')\n",
        "#checking for any outliers in the data\n"
      ],
      "execution_count": 25,
      "outputs": [
        {
          "output_type": "execute_result",
          "data": {
            "text/plain": [
              "<matplotlib.axes._subplots.AxesSubplot at 0x7f473bcb6630>"
            ]
          },
          "metadata": {
            "tags": []
          },
          "execution_count": 25
        },
        {
          "output_type": "display_data",
          "data": {
            "image/png": "[encoded data removed]",
            "text/plain": [
              "<Figure size 432x288 with 1 Axes>"
            ]
          },
          "metadata": {
            "tags": [],
            "needs_background": "light"
          }
        }
      ]
    },
    {
      "cell_type": "markdown",
      "metadata": {
        "id": "vnQOU6fkDzH1"
      },
      "source": [
        "As we can notice from the boxplots, we don't only have very low points but we also have a lot of high points.\n",
        "\n",
        "In order to detect and remove outliers we are going to use a technique called \"IQR score technique\"."
      ]
    },
    {
      "cell_type": "code",
      "metadata": {
        "id": "vWceJi3QyUAd",
        "colab": {
          "base_uri": "https://localhost:8080/"
        },
        "outputId": "0ad7b950-cc81-432a-a4ca-632c25669dea"
      },
      "source": [
        "Q1 = df.quantile(0.25)\n",
        "Q3 = df.quantile(0.75)\n",
        "IQR = Q3 - Q1\n",
        "print(IQR)"
      ],
      "execution_count": 26,
      "outputs": [
        {
          "output_type": "stream",
          "text": [
            "priceUSD                 7400.00\n",
            "year                       12.00\n",
            "mileage(kilometers)    170239.75\n",
            "volume(cm3)               700.00\n",
            "dtype: float64\n"
          ],
          "name": "stdout"
        }
      ]
    },
    {
      "cell_type": "code",
      "metadata": {
        "id": "ved_BoRgycox",
        "colab": {
          "base_uri": "https://localhost:8080/"
        },
        "outputId": "9029c415-9d4e-4c2b-edb0-6ba4b41772b9"
      },
      "source": [
        "df = df[~((df < (Q1-1.5 * IQR)) |(df > (Q3 + 1.5 * IQR))).any(axis=1)]\n",
        "df.shape"
      ],
      "execution_count": 27,
      "outputs": [
        {
          "output_type": "execute_result",
          "data": {
            "text/plain": [
              "(31367, 12)"
            ]
          },
          "metadata": {
            "tags": []
          },
          "execution_count": 27
        }
      ]
    },
    {
      "cell_type": "code",
      "metadata": {
        "id": "EcZ4waJ84_KK",
        "colab": {
          "base_uri": "https://localhost:8080/",
          "height": 405
        },
        "outputId": "4488a557-59d0-4f56-f0ba-60e52ed446ee"
      },
      "source": [
        "plt.figure(figsize=(12,6))\n",
        "sns.barplot(x=df['segment'], y=df['priceUSD'],ci=None)"
      ],
      "execution_count": 30,
      "outputs": [
        {
          "output_type": "execute_result",
          "data": {
            "text/plain": [
              "<matplotlib.axes._subplots.AxesSubplot at 0x7f473bce7320>"
            ]
          },
          "metadata": {
            "tags": []
          },
          "execution_count": 30
        },
        {
          "output_type": "display_data",
          "data": {
            "image/png": "[encoded data removed]",
            "text/plain": [
              "<Figure size 864x432 with 1 Axes>"
            ]
          },
          "metadata": {
            "tags": [],
            "needs_background": "light"
          }
        }
      ]
    },
    {
      "cell_type": "code",
      "metadata": {
        "id": "4gpcGpLp7XWy",
        "colab": {
          "base_uri": "https://localhost:8080/",
          "height": 480
        },
        "outputId": "798f0f44-bcb2-4be4-a56c-c8434edd4853"
      },
      "source": [
        "plt.figure(figsize=(10,5))\n",
        "c= df.corr()\n",
        "sns.heatmap(c,cmap=\"BrBG\",annot=True)\n",
        "c"
      ],
      "execution_count": 31,
      "outputs": [
        {
          "output_type": "execute_result",
          "data": {
            "text/html": [
              "<div>\n",
              "<style scoped>\n",
              "    .dataframe tbody tr th:only-of-type {\n",
              "        vertical-align: middle;\n",
              "    }\n",
              "\n",
              "    .dataframe tbody tr th {\n",
              "        vertical-align: top;\n",
              "    }\n",
              "\n",
              "    .dataframe thead th {\n",
              "        text-align: right;\n",
              "    }\n",
              "</style>\n",
              "<table border=\"1\" class=\"dataframe\">\n",
              "  <thead>\n",
              "    <tr style=\"text-align: right;\">\n",
              "      <th></th>\n",
              "      <th>priceUSD</th>\n",
              "      <th>year</th>\n",
              "      <th>mileage(kilometers)</th>\n",
              "      <th>volume(cm3)</th>\n",
              "    </tr>\n",
              "  </thead>\n",
              "  <tbody>\n",
              "    <tr>\n",
              "      <th>priceUSD</th>\n",
              "      <td>1.000000</td>\n",
              "      <td>0.798378</td>\n",
              "      <td>-0.349265</td>\n",
              "      <td>0.225263</td>\n",
              "    </tr>\n",
              "    <tr>\n",
              "      <th>year</th>\n",
              "      <td>0.798378</td>\n",
              "      <td>1.000000</td>\n",
              "      <td>-0.431175</td>\n",
              "      <td>-0.069523</td>\n",
              "    </tr>\n",
              "    <tr>\n",
              "      <th>mileage(kilometers)</th>\n",
              "      <td>-0.349265</td>\n",
              "      <td>-0.431175</td>\n",
              "      <td>1.000000</td>\n",
              "      <td>0.233136</td>\n",
              "    </tr>\n",
              "    <tr>\n",
              "      <th>volume(cm3)</th>\n",
              "      <td>0.225263</td>\n",
              "      <td>-0.069523</td>\n",
              "      <td>0.233136</td>\n",
              "      <td>1.000000</td>\n",
              "    </tr>\n",
              "  </tbody>\n",
              "</table>\n",
              "</div>"
            ],
            "text/plain": [
              "                     priceUSD      year  mileage(kilometers)  volume(cm3)\n",
              "priceUSD             1.000000  0.798378            -0.349265     0.225263\n",
              "year                 0.798378  1.000000            -0.431175    -0.069523\n",
              "mileage(kilometers) -0.349265 -0.431175             1.000000     0.233136\n",
              "volume(cm3)          0.225263 -0.069523             0.233136     1.000000"
            ]
          },
          "metadata": {
            "tags": []
          },
          "execution_count": 31
        },
        {
          "output_type": "display_data",
          "data": {
            "image/png": "[encoded data removed]",
            "text/plain": [
              "<Figure size 720x360 with 2 Axes>"
            ]
          },
          "metadata": {
            "tags": [],
            "needs_background": "light"
          }
        }
      ]
    },
    {
      "cell_type": "markdown",
      "metadata": {
        "id": "g3WjlUYMJ__a"
      },
      "source": [
        "In the above heat map we know that the price feature depends mainly on the year and the mileage as positive and negative corelation respectively."
      ]
    },
    {
      "cell_type": "markdown",
      "metadata": {
        "id": "OTBdsHQ1JL3n"
      },
      "source": [
        "Now we remove make and model column from dataset, because they don't have too much effect on price of the car."
      ]
    },
    {
      "cell_type": "code",
      "metadata": {
        "id": "KdxP3GQS7XVv",
        "colab": {
          "base_uri": "https://localhost:8080/",
          "height": 309
        },
        "outputId": "e7d25581-8439-49b7-8de4-948fd9d43a18"
      },
      "source": [
        "df = df.iloc[:,2:]\n",
        "df.head()"
      ],
      "execution_count": 32,
      "outputs": [
        {
          "output_type": "execute_result",
          "data": {
            "text/html": [
              "<div>\n",
              "<style scoped>\n",
              "    .dataframe tbody tr th:only-of-type {\n",
              "        vertical-align: middle;\n",
              "    }\n",
              "\n",
              "    .dataframe tbody tr th {\n",
              "        vertical-align: top;\n",
              "    }\n",
              "\n",
              "    .dataframe thead th {\n",
              "        text-align: right;\n",
              "    }\n",
              "</style>\n",
              "<table border=\"1\" class=\"dataframe\">\n",
              "  <thead>\n",
              "    <tr style=\"text-align: right;\">\n",
              "      <th></th>\n",
              "      <th>priceUSD</th>\n",
              "      <th>year</th>\n",
              "      <th>condition</th>\n",
              "      <th>mileage(kilometers)</th>\n",
              "      <th>fuel_type</th>\n",
              "      <th>volume(cm3)</th>\n",
              "      <th>color</th>\n",
              "      <th>transmission</th>\n",
              "      <th>drive_unit</th>\n",
              "      <th>segment</th>\n",
              "    </tr>\n",
              "  </thead>\n",
              "  <tbody>\n",
              "    <tr>\n",
              "      <th>1</th>\n",
              "      <td>5550</td>\n",
              "      <td>2008</td>\n",
              "      <td>with mileage</td>\n",
              "      <td>172000.0</td>\n",
              "      <td>diesel</td>\n",
              "      <td>1400.0</td>\n",
              "      <td>silver</td>\n",
              "      <td>mechanics</td>\n",
              "      <td>front-wheel drive</td>\n",
              "      <td>M</td>\n",
              "    </tr>\n",
              "    <tr>\n",
              "      <th>2</th>\n",
              "      <td>8300</td>\n",
              "      <td>2008</td>\n",
              "      <td>with mileage</td>\n",
              "      <td>223000.0</td>\n",
              "      <td>petrol</td>\n",
              "      <td>2500.0</td>\n",
              "      <td>purple</td>\n",
              "      <td>auto</td>\n",
              "      <td>front-wheel drive</td>\n",
              "      <td>D</td>\n",
              "    </tr>\n",
              "    <tr>\n",
              "      <th>3</th>\n",
              "      <td>3300</td>\n",
              "      <td>2005</td>\n",
              "      <td>with mileage</td>\n",
              "      <td>140000.0</td>\n",
              "      <td>petrol</td>\n",
              "      <td>1200.0</td>\n",
              "      <td>blue</td>\n",
              "      <td>mechanics</td>\n",
              "      <td>front-wheel drive</td>\n",
              "      <td>A</td>\n",
              "    </tr>\n",
              "    <tr>\n",
              "      <th>4</th>\n",
              "      <td>2450</td>\n",
              "      <td>2002</td>\n",
              "      <td>with damage</td>\n",
              "      <td>413000.0</td>\n",
              "      <td>diesel</td>\n",
              "      <td>2200.0</td>\n",
              "      <td>burgundy</td>\n",
              "      <td>mechanics</td>\n",
              "      <td>front-wheel drive</td>\n",
              "      <td>D</td>\n",
              "    </tr>\n",
              "    <tr>\n",
              "      <th>5</th>\n",
              "      <td>18900</td>\n",
              "      <td>2016</td>\n",
              "      <td>with mileage</td>\n",
              "      <td>148000.0</td>\n",
              "      <td>diesel</td>\n",
              "      <td>1600.0</td>\n",
              "      <td>black</td>\n",
              "      <td>mechanics</td>\n",
              "      <td>front-wheel drive</td>\n",
              "      <td>J</td>\n",
              "    </tr>\n",
              "  </tbody>\n",
              "</table>\n",
              "</div>"
            ],
            "text/plain": [
              "   priceUSD  year     condition  ...  transmission         drive_unit  segment\n",
              "1      5550  2008  with mileage  ...     mechanics  front-wheel drive        M\n",
              "2      8300  2008  with mileage  ...          auto  front-wheel drive        D\n",
              "3      3300  2005  with mileage  ...     mechanics  front-wheel drive        A\n",
              "4      2450  2002   with damage  ...     mechanics  front-wheel drive        D\n",
              "5     18900  2016  with mileage  ...     mechanics  front-wheel drive        J\n",
              "\n",
              "[5 rows x 10 columns]"
            ]
          },
          "metadata": {
            "tags": []
          },
          "execution_count": 32
        }
      ]
    },
    {
      "cell_type": "markdown",
      "metadata": {
        "id": "QZCy7XZoKLml"
      },
      "source": [
        "#Working with Categorial Data"
      ]
    },
    {
      "cell_type": "markdown",
      "metadata": {
        "id": "ygpHS_GQJc43"
      },
      "source": [
        "we convert the categorical data into scalar form\n",
        "\n",
        "As for now we have left with only 6 categorical features:\n",
        "\n",
        "*   condition\n",
        "*   Fuel_Type\n",
        "*   transmission\n",
        "*   segment\n",
        "*   color\n",
        "*   drive_unit\n",
        "\n",
        "For handeling categorical data.In this case we will use pandas get_dummies feature for handling categorical data."
      ]
    },
    {
      "cell_type": "code",
      "metadata": {
        "id": "i_QRaQtX7XXH",
        "colab": {
          "base_uri": "https://localhost:8080/",
          "height": 258
        },
        "outputId": "f948c402-f476-4c43-d410-7d89bce6b2bd"
      },
      "source": [
        "#creating dummies\n",
        "df = pd.get_dummies(df, drop_first = True)\n",
        "df.head()"
      ],
      "execution_count": 33,
      "outputs": [
        {
          "output_type": "execute_result",
          "data": {
            "text/html": [
              "<div>\n",
              "<style scoped>\n",
              "    .dataframe tbody tr th:only-of-type {\n",
              "        vertical-align: middle;\n",
              "    }\n",
              "\n",
              "    .dataframe tbody tr th {\n",
              "        vertical-align: top;\n",
              "    }\n",
              "\n",
              "    .dataframe thead th {\n",
              "        text-align: right;\n",
              "    }\n",
              "</style>\n",
              "<table border=\"1\" class=\"dataframe\">\n",
              "  <thead>\n",
              "    <tr style=\"text-align: right;\">\n",
              "      <th></th>\n",
              "      <th>priceUSD</th>\n",
              "      <th>year</th>\n",
              "      <th>mileage(kilometers)</th>\n",
              "      <th>volume(cm3)</th>\n",
              "      <th>condition_with damage</th>\n",
              "      <th>condition_with mileage</th>\n",
              "      <th>fuel_type_electrocar</th>\n",
              "      <th>fuel_type_petrol</th>\n",
              "      <th>color_blue</th>\n",
              "      <th>color_brown</th>\n",
              "      <th>color_burgundy</th>\n",
              "      <th>color_gray</th>\n",
              "      <th>color_green</th>\n",
              "      <th>color_orange</th>\n",
              "      <th>color_other</th>\n",
              "      <th>color_purple</th>\n",
              "      <th>color_red</th>\n",
              "      <th>color_silver</th>\n",
              "      <th>color_white</th>\n",
              "      <th>color_yellow</th>\n",
              "      <th>transmission_mechanics</th>\n",
              "      <th>drive_unit_front-wheel drive</th>\n",
              "      <th>drive_unit_part-time four-wheel drive</th>\n",
              "      <th>drive_unit_rear drive</th>\n",
              "      <th>segment_B</th>\n",
              "      <th>segment_C</th>\n",
              "      <th>segment_D</th>\n",
              "      <th>segment_E</th>\n",
              "      <th>segment_F</th>\n",
              "      <th>segment_J</th>\n",
              "      <th>segment_M</th>\n",
              "      <th>segment_S</th>\n",
              "    </tr>\n",
              "  </thead>\n",
              "  <tbody>\n",
              "    <tr>\n",
              "      <th>1</th>\n",
              "      <td>5550</td>\n",
              "      <td>2008</td>\n",
              "      <td>172000.0</td>\n",
              "      <td>1400.0</td>\n",
              "      <td>0</td>\n",
              "      <td>1</td>\n",
              "      <td>0</td>\n",
              "      <td>0</td>\n",
              "      <td>0</td>\n",
              "      <td>0</td>\n",
              "      <td>0</td>\n",
              "      <td>0</td>\n",
              "      <td>0</td>\n",
              "      <td>0</td>\n",
              "      <td>0</td>\n",
              "      <td>0</td>\n",
              "      <td>0</td>\n",
              "      <td>1</td>\n",
              "      <td>0</td>\n",
              "      <td>0</td>\n",
              "      <td>1</td>\n",
              "      <td>1</td>\n",
              "      <td>0</td>\n",
              "      <td>0</td>\n",
              "      <td>0</td>\n",
              "      <td>0</td>\n",
              "      <td>0</td>\n",
              "      <td>0</td>\n",
              "      <td>0</td>\n",
              "      <td>0</td>\n",
              "      <td>1</td>\n",
              "      <td>0</td>\n",
              "    </tr>\n",
              "    <tr>\n",
              "      <th>2</th>\n",
              "      <td>8300</td>\n",
              "      <td>2008</td>\n",
              "      <td>223000.0</td>\n",
              "      <td>2500.0</td>\n",
              "      <td>0</td>\n",
              "      <td>1</td>\n",
              "      <td>0</td>\n",
              "      <td>1</td>\n",
              "      <td>0</td>\n",
              "      <td>0</td>\n",
              "      <td>0</td>\n",
              "      <td>0</td>\n",
              "      <td>0</td>\n",
              "      <td>0</td>\n",
              "      <td>0</td>\n",
              "      <td>1</td>\n",
              "      <td>0</td>\n",
              "      <td>0</td>\n",
              "      <td>0</td>\n",
              "      <td>0</td>\n",
              "      <td>0</td>\n",
              "      <td>1</td>\n",
              "      <td>0</td>\n",
              "      <td>0</td>\n",
              "      <td>0</td>\n",
              "      <td>0</td>\n",
              "      <td>1</td>\n",
              "      <td>0</td>\n",
              "      <td>0</td>\n",
              "      <td>0</td>\n",
              "      <td>0</td>\n",
              "      <td>0</td>\n",
              "    </tr>\n",
              "    <tr>\n",
              "      <th>3</th>\n",
              "      <td>3300</td>\n",
              "      <td>2005</td>\n",
              "      <td>140000.0</td>\n",
              "      <td>1200.0</td>\n",
              "      <td>0</td>\n",
              "      <td>1</td>\n",
              "      <td>0</td>\n",
              "      <td>1</td>\n",
              "      <td>1</td>\n",
              "      <td>0</td>\n",
              "      <td>0</td>\n",
              "      <td>0</td>\n",
              "      <td>0</td>\n",
              "      <td>0</td>\n",
              "      <td>0</td>\n",
              "      <td>0</td>\n",
              "      <td>0</td>\n",
              "      <td>0</td>\n",
              "      <td>0</td>\n",
              "      <td>0</td>\n",
              "      <td>1</td>\n",
              "      <td>1</td>\n",
              "      <td>0</td>\n",
              "      <td>0</td>\n",
              "      <td>0</td>\n",
              "      <td>0</td>\n",
              "      <td>0</td>\n",
              "      <td>0</td>\n",
              "      <td>0</td>\n",
              "      <td>0</td>\n",
              "      <td>0</td>\n",
              "      <td>0</td>\n",
              "    </tr>\n",
              "    <tr>\n",
              "      <th>4</th>\n",
              "      <td>2450</td>\n",
              "      <td>2002</td>\n",
              "      <td>413000.0</td>\n",
              "      <td>2200.0</td>\n",
              "      <td>1</td>\n",
              "      <td>0</td>\n",
              "      <td>0</td>\n",
              "      <td>0</td>\n",
              "      <td>0</td>\n",
              "      <td>0</td>\n",
              "      <td>1</td>\n",
              "      <td>0</td>\n",
              "      <td>0</td>\n",
              "      <td>0</td>\n",
              "      <td>0</td>\n",
              "      <td>0</td>\n",
              "      <td>0</td>\n",
              "      <td>0</td>\n",
              "      <td>0</td>\n",
              "      <td>0</td>\n",
              "      <td>1</td>\n",
              "      <td>1</td>\n",
              "      <td>0</td>\n",
              "      <td>0</td>\n",
              "      <td>0</td>\n",
              "      <td>0</td>\n",
              "      <td>1</td>\n",
              "      <td>0</td>\n",
              "      <td>0</td>\n",
              "      <td>0</td>\n",
              "      <td>0</td>\n",
              "      <td>0</td>\n",
              "    </tr>\n",
              "    <tr>\n",
              "      <th>5</th>\n",
              "      <td>18900</td>\n",
              "      <td>2016</td>\n",
              "      <td>148000.0</td>\n",
              "      <td>1600.0</td>\n",
              "      <td>0</td>\n",
              "      <td>1</td>\n",
              "      <td>0</td>\n",
              "      <td>0</td>\n",
              "      <td>0</td>\n",
              "      <td>0</td>\n",
              "      <td>0</td>\n",
              "      <td>0</td>\n",
              "      <td>0</td>\n",
              "      <td>0</td>\n",
              "      <td>0</td>\n",
              "      <td>0</td>\n",
              "      <td>0</td>\n",
              "      <td>0</td>\n",
              "      <td>0</td>\n",
              "      <td>0</td>\n",
              "      <td>1</td>\n",
              "      <td>1</td>\n",
              "      <td>0</td>\n",
              "      <td>0</td>\n",
              "      <td>0</td>\n",
              "      <td>0</td>\n",
              "      <td>0</td>\n",
              "      <td>0</td>\n",
              "      <td>0</td>\n",
              "      <td>1</td>\n",
              "      <td>0</td>\n",
              "      <td>0</td>\n",
              "    </tr>\n",
              "  </tbody>\n",
              "</table>\n",
              "</div>"
            ],
            "text/plain": [
              "   priceUSD  year  mileage(kilometers)  ...  segment_J  segment_M  segment_S\n",
              "1      5550  2008             172000.0  ...          0          1          0\n",
              "2      8300  2008             223000.0  ...          0          0          0\n",
              "3      3300  2005             140000.0  ...          0          0          0\n",
              "4      2450  2002             413000.0  ...          0          0          0\n",
              "5     18900  2016             148000.0  ...          1          0          0\n",
              "\n",
              "[5 rows x 32 columns]"
            ]
          },
          "metadata": {
            "tags": []
          },
          "execution_count": 33
        }
      ]
    },
    {
      "cell_type": "markdown",
      "metadata": {
        "id": "17eCz8gxMavI"
      },
      "source": [
        "Now we categorise target value and trained value."
      ]
    },
    {
      "cell_type": "code",
      "metadata": {
        "id": "npNB-hZz53vh"
      },
      "source": [
        "x = df.iloc[:,1:]\n",
        "y = df.iloc[:, :1]"
      ],
      "execution_count": 34,
      "outputs": []
    },
    {
      "cell_type": "markdown",
      "metadata": {
        "id": "1XmBBNVFOKA2"
      },
      "source": [
        "#**Training and predicting**\n"
      ]
    },
    {
      "cell_type": "markdown",
      "metadata": {
        "id": "-zzRJewcNVQO"
      },
      "source": [
        "First we are spliting the data to train and test for the model"
      ]
    },
    {
      "cell_type": "code",
      "metadata": {
        "id": "ESBKZLP37XXR"
      },
      "source": [
        "from sklearn.model_selection import train_test_split\n",
        "\n",
        "x_train,x_test,y_train,y_test = train_test_split(x,y,test_size = 0.2,random_state = 0)\n"
      ],
      "execution_count": 35,
      "outputs": []
    },
    {
      "cell_type": "code",
      "metadata": {
        "id": "bUmthuPz7XXW",
        "colab": {
          "base_uri": "https://localhost:8080/"
        },
        "outputId": "00fbe77d-9def-40f0-b720-4ed2e03a8099"
      },
      "source": [
        "print(x_train.shape)\n",
        "print(y_train.shape)\n",
        "print(x_test.shape)\n",
        "print(y_test.shape)"
      ],
      "execution_count": 36,
      "outputs": [
        {
          "output_type": "stream",
          "text": [
            "(25093, 31)\n",
            "(25093, 1)\n",
            "(6274, 31)\n",
            "(6274, 1)\n"
          ],
          "name": "stdout"
        }
      ]
    },
    {
      "cell_type": "markdown",
      "metadata": {
        "id": "QzwscbO5OaHs"
      },
      "source": [
        "###**Linear Regressor**"
      ]
    },
    {
      "cell_type": "code",
      "metadata": {
        "id": "jpSBzRUr7XXf",
        "colab": {
          "base_uri": "https://localhost:8080/"
        },
        "outputId": "ee6362c4-8ec6-41f5-db27-1922785dfc49"
      },
      "source": [
        "from sklearn.linear_model import LinearRegression\n",
        "\n",
        "lr_model = LinearRegression()\n",
        "lr_model.fit(x_train,y_train)\n",
        "\n",
        "# calculating the accuracies\n",
        "print(\"Training Accuracy :\",lr_model.score(x_train,y_train))\n",
        "print(\"Testing Accuracy :\",lr_model.score(x_test,y_test))"
      ],
      "execution_count": 37,
      "outputs": [
        {
          "output_type": "stream",
          "text": [
            "Training Accuracy : 0.7803897514010609\n",
            "Testing Accuracy : 0.7664841596108962\n"
          ],
          "name": "stdout"
        }
      ]
    },
    {
      "cell_type": "markdown",
      "metadata": {
        "id": "asMphL9KOkoA"
      },
      "source": [
        "###**Random Forest Regressor**"
      ]
    },
    {
      "cell_type": "code",
      "metadata": {
        "id": "CkjnDgXR7XXm"
      },
      "source": [
        "from sklearn.ensemble import RandomForestRegressor\n",
        "regressor = RandomForestRegressor(n_estimators = 200, random_state = 0)\n",
        "regressor.fit(x_train,y_train)\n",
        "\n",
        "# Predicting the test set results\n",
        "\n",
        "y_Pred = regressor.predict(x_test)\n",
        "\n"
      ],
      "execution_count": 39,
      "outputs": []
    },
    {
      "cell_type": "code",
      "metadata": {
        "id": "1FwdBaIM7XXr",
        "colab": {
          "base_uri": "https://localhost:8080/"
        },
        "outputId": "bb03e414-06c7-42f9-d12a-ce26485ee592"
      },
      "source": [
        "# calculating the accuracies\n",
        "print(\"Training Accuracy :\",regressor.score(x_train,y_train))\n",
        "print(\"Testing Accuracy :\",regressor.score(x_test,y_test))"
      ],
      "execution_count": 40,
      "outputs": [
        {
          "output_type": "stream",
          "text": [
            "Training Accuracy : 0.985348616336841\n",
            "Testing Accuracy : 0.892236917706086\n"
          ],
          "name": "stdout"
        }
      ]
    },
    {
      "cell_type": "code",
      "metadata": {
        "id": "xOdQN6rtS1zw",
        "colab": {
          "base_uri": "https://localhost:8080/"
        },
        "outputId": "fac7d7f5-a3d7-4379-f411-8d7d773d26a9"
      },
      "source": [
        "from sklearn.metrics import r2_score,mean_squared_error,mean_absolute_error\n",
        "import math\n",
        "\n",
        "print(\"R2_Score : \", r2_score(y_test,y_Pred))\n",
        "print(\"Mean Squared Error : \", mean_squared_error(y_test,y_Pred))\n",
        "print(\"MAE : \",mean_absolute_error(y_test,y_Pred))\n",
        "print(\"RSME : \",math.sqrt(mean_squared_error(y_test,y_Pred)))"
      ],
      "execution_count": 41,
      "outputs": [
        {
          "output_type": "stream",
          "text": [
            "R2_Score :  0.892236917706086\n",
            "Mean Squared Error :  2302532.511646756\n",
            "MAE :  1035.0023808065916\n",
            "RSME :  1517.4098034633741\n"
          ],
          "name": "stdout"
        }
      ]
    },
    {
      "cell_type": "markdown",
      "metadata": {
        "id": "hewmgclbLa--"
      },
      "source": [
        "From **Random Forest Regressor** we got a **$89$%** accuracy"
      ]
    },
    {
      "cell_type": "markdown",
      "metadata": {
        "id": "SJ5pFm056_F_"
      },
      "source": [
        "#What is p-value?\n",
        "\n",
        "P-value or probability value or asymptotic significance is a probability value for a given statistical model. P-value gives us the probability of finding an observation under an assumption that a particular hypothesis is true. This probability is used to accept or reject that hypothesis.\n",
        "#How does p-value help in feature selection?\n",
        "Removal of different features from the dataset will have different effects on the p-value for the dataset. We can remove different features which have \"**p-value>0.05**\" and measure the p-value in each case. These measured p-values can be used to decide whether to keep a feature or not.\n",
        "#Implementation"
      ]
    },
    {
      "cell_type": "code",
      "metadata": {
        "id": "vo9lMSfy5u2n"
      },
      "source": [
        "#preparing for the backward elimination for having a proper model\n",
        "import statsmodels.api as sm"
      ],
      "execution_count": null,
      "outputs": []
    },
    {
      "cell_type": "code",
      "metadata": {
        "colab": {
          "base_uri": "https://localhost:8080/"
        },
        "id": "DN9FtNF886v9",
        "outputId": "f31be1e5-8205-4170-fee5-f2d18b6169f1"
      },
      "source": [
        "x.columns"
      ],
      "execution_count": null,
      "outputs": [
        {
          "output_type": "execute_result",
          "data": {
            "text/plain": [
              "Index(['year', 'mileage(kilometers)', 'volume(cm3)', 'condition_with damage',\n",
              "       'condition_with mileage', 'fuel_type_electrocar', 'fuel_type_petrol',\n",
              "       'color_blue', 'color_brown', 'color_burgundy', 'color_gray',\n",
              "       'color_green', 'color_orange', 'color_other', 'color_purple',\n",
              "       'color_red', 'color_silver', 'color_white', 'color_yellow',\n",
              "       'transmission_mechanics', 'drive_unit_front-wheel drive',\n",
              "       'drive_unit_part-time four-wheel drive', 'drive_unit_rear drive',\n",
              "       'segment_B', 'segment_C', 'segment_D', 'segment_E', 'segment_F',\n",
              "       'segment_J', 'segment_M', 'segment_S'],\n",
              "      dtype='object')"
            ]
          },
          "metadata": {
            "tags": []
          },
          "execution_count": 137
        }
      ]
    },
    {
      "cell_type": "code",
      "metadata": {
        "colab": {
          "base_uri": "https://localhost:8080/",
          "height": 1000
        },
        "id": "QYs42eQF8mIM",
        "outputId": "556a3148-fe4b-4ba3-b175-2b5217506bc4"
      },
      "source": [
        "#creating matrix of features by backward elimination\n",
        "X_opt = x.values\n",
        "regressor_OLS = sm.OLS(endog = y, exog = X_opt).fit()\n",
        "regressor_OLS.summary()"
      ],
      "execution_count": null,
      "outputs": [
        {
          "output_type": "execute_result",
          "data": {
            "text/html": [
              "<table class=\"simpletable\">\n",
              "<caption>OLS Regression Results</caption>\n",
              "<tr>\n",
              "  <th>Dep. Variable:</th>        <td>priceUSD</td>     <th>  R-squared (uncentered):</th>       <td>   0.818</td>  \n",
              "</tr>\n",
              "<tr>\n",
              "  <th>Model:</th>                   <td>OLS</td>       <th>  Adj. R-squared (uncentered):</th>  <td>   0.818</td>  \n",
              "</tr>\n",
              "<tr>\n",
              "  <th>Method:</th>             <td>Least Squares</td>  <th>  F-statistic:       </th>           <td>   4552.</td>  \n",
              "</tr>\n",
              "<tr>\n",
              "  <th>Date:</th>             <td>Wed, 18 Nov 2020</td> <th>  Prob (F-statistic):</th>            <td>  0.00</td>   \n",
              "</tr>\n",
              "<tr>\n",
              "  <th>Time:</th>                 <td>06:50:36</td>     <th>  Log-Likelihood:    </th>          <td>-2.9800e+05</td>\n",
              "</tr>\n",
              "<tr>\n",
              "  <th>No. Observations:</th>      <td> 31367</td>      <th>  AIC:               </th>           <td>5.961e+05</td> \n",
              "</tr>\n",
              "<tr>\n",
              "  <th>Df Residuals:</th>          <td> 31336</td>      <th>  BIC:               </th>           <td>5.963e+05</td> \n",
              "</tr>\n",
              "<tr>\n",
              "  <th>Df Model:</th>              <td>    31</td>      <th>                     </th>               <td> </td>     \n",
              "</tr>\n",
              "<tr>\n",
              "  <th>Covariance Type:</th>      <td>nonrobust</td>    <th>                     </th>               <td> </td>     \n",
              "</tr>\n",
              "</table>\n",
              "<table class=\"simpletable\">\n",
              "<tr>\n",
              "   <td></td>      <th>coef</th>     <th>std err</th>      <th>t</th>      <th>P>|t|</th>  <th>[0.025</th>    <th>0.975]</th>  \n",
              "</tr>\n",
              "<tr>\n",
              "  <th>x1</th>  <td>    5.7548</td> <td>    0.162</td> <td>   35.600</td> <td> 0.000</td> <td>    5.438</td> <td>    6.072</td>\n",
              "</tr>\n",
              "<tr>\n",
              "  <th>x2</th>  <td>   -0.0113</td> <td>    0.000</td> <td>  -65.423</td> <td> 0.000</td> <td>   -0.012</td> <td>   -0.011</td>\n",
              "</tr>\n",
              "<tr>\n",
              "  <th>x3</th>  <td>   -0.4234</td> <td>    0.064</td> <td>   -6.630</td> <td> 0.000</td> <td>   -0.549</td> <td>   -0.298</td>\n",
              "</tr>\n",
              "<tr>\n",
              "  <th>x4</th>  <td> -148.5886</td> <td>  297.483</td> <td>   -0.499</td> <td> 0.617</td> <td> -731.666</td> <td>  434.489</td>\n",
              "</tr>\n",
              "<tr>\n",
              "  <th>x5</th>  <td> 2363.5276</td> <td>  211.529</td> <td>   11.174</td> <td> 0.000</td> <td> 1948.923</td> <td> 2778.133</td>\n",
              "</tr>\n",
              "<tr>\n",
              "  <th>x6</th>  <td> 2122.1831</td> <td> 1871.861</td> <td>    1.134</td> <td> 0.257</td> <td>-1546.738</td> <td> 5791.105</td>\n",
              "</tr>\n",
              "<tr>\n",
              "  <th>x7</th>  <td>-2020.0046</td> <td>   41.555</td> <td>  -48.610</td> <td> 0.000</td> <td>-2101.455</td> <td>-1938.554</td>\n",
              "</tr>\n",
              "<tr>\n",
              "  <th>x8</th>  <td>-1911.8452</td> <td>   63.596</td> <td>  -30.062</td> <td> 0.000</td> <td>-2036.496</td> <td>-1787.194</td>\n",
              "</tr>\n",
              "<tr>\n",
              "  <th>x9</th>  <td> 1414.3995</td> <td>  131.823</td> <td>   10.729</td> <td> 0.000</td> <td> 1156.020</td> <td> 1672.779</td>\n",
              "</tr>\n",
              "<tr>\n",
              "  <th>x10</th> <td>-2610.3268</td> <td>  103.471</td> <td>  -25.228</td> <td> 0.000</td> <td>-2813.133</td> <td>-2407.520</td>\n",
              "</tr>\n",
              "<tr>\n",
              "  <th>x11</th> <td> -492.8795</td> <td>   69.855</td> <td>   -7.056</td> <td> 0.000</td> <td> -629.798</td> <td> -355.961</td>\n",
              "</tr>\n",
              "<tr>\n",
              "  <th>x12</th> <td>-2983.8196</td> <td>   81.088</td> <td>  -36.798</td> <td> 0.000</td> <td>-3142.754</td> <td>-2824.885</td>\n",
              "</tr>\n",
              "<tr>\n",
              "  <th>x13</th> <td> -857.6537</td> <td>  315.297</td> <td>   -2.720</td> <td> 0.007</td> <td>-1475.648</td> <td> -239.659</td>\n",
              "</tr>\n",
              "<tr>\n",
              "  <th>x14</th> <td>-1476.0701</td> <td>   85.920</td> <td>  -17.180</td> <td> 0.000</td> <td>-1644.477</td> <td>-1307.663</td>\n",
              "</tr>\n",
              "<tr>\n",
              "  <th>x15</th> <td>-2495.6791</td> <td>  174.365</td> <td>  -14.313</td> <td> 0.000</td> <td>-2837.441</td> <td>-2153.917</td>\n",
              "</tr>\n",
              "<tr>\n",
              "  <th>x16</th> <td>-2319.4450</td> <td>   93.004</td> <td>  -24.939</td> <td> 0.000</td> <td>-2501.737</td> <td>-2137.153</td>\n",
              "</tr>\n",
              "<tr>\n",
              "  <th>x17</th> <td>-1429.0518</td> <td>   59.278</td> <td>  -24.108</td> <td> 0.000</td> <td>-1545.238</td> <td>-1312.865</td>\n",
              "</tr>\n",
              "<tr>\n",
              "  <th>x18</th> <td> -455.8215</td> <td>   74.202</td> <td>   -6.143</td> <td> 0.000</td> <td> -601.260</td> <td> -310.383</td>\n",
              "</tr>\n",
              "<tr>\n",
              "  <th>x19</th> <td>-2180.3576</td> <td>  267.513</td> <td>   -8.150</td> <td> 0.000</td> <td>-2704.694</td> <td>-1656.021</td>\n",
              "</tr>\n",
              "<tr>\n",
              "  <th>x20</th> <td>-3293.6201</td> <td>   46.614</td> <td>  -70.658</td> <td> 0.000</td> <td>-3384.985</td> <td>-3202.256</td>\n",
              "</tr>\n",
              "<tr>\n",
              "  <th>x21</th> <td> -905.1768</td> <td>   94.844</td> <td>   -9.544</td> <td> 0.000</td> <td>-1091.075</td> <td> -719.279</td>\n",
              "</tr>\n",
              "<tr>\n",
              "  <th>x22</th> <td>-1328.8342</td> <td>  108.236</td> <td>  -12.277</td> <td> 0.000</td> <td>-1540.981</td> <td>-1116.687</td>\n",
              "</tr>\n",
              "<tr>\n",
              "  <th>x23</th> <td>-1090.7177</td> <td>  106.113</td> <td>  -10.279</td> <td> 0.000</td> <td>-1298.703</td> <td> -882.732</td>\n",
              "</tr>\n",
              "<tr>\n",
              "  <th>x24</th> <td> -288.7540</td> <td>  195.479</td> <td>   -1.477</td> <td> 0.140</td> <td> -671.901</td> <td>   94.393</td>\n",
              "</tr>\n",
              "<tr>\n",
              "  <th>x25</th> <td>  400.4257</td> <td>  190.763</td> <td>    2.099</td> <td> 0.036</td> <td>   26.522</td> <td>  774.330</td>\n",
              "</tr>\n",
              "<tr>\n",
              "  <th>x26</th> <td>  887.8068</td> <td>  192.598</td> <td>    4.610</td> <td> 0.000</td> <td>  510.306</td> <td> 1265.307</td>\n",
              "</tr>\n",
              "<tr>\n",
              "  <th>x27</th> <td>  881.1101</td> <td>  203.368</td> <td>    4.333</td> <td> 0.000</td> <td>  482.500</td> <td> 1279.720</td>\n",
              "</tr>\n",
              "<tr>\n",
              "  <th>x28</th> <td> 2360.3682</td> <td>  289.807</td> <td>    8.145</td> <td> 0.000</td> <td> 1792.334</td> <td> 2928.402</td>\n",
              "</tr>\n",
              "<tr>\n",
              "  <th>x29</th> <td> 3876.1331</td> <td>  204.660</td> <td>   18.939</td> <td> 0.000</td> <td> 3474.991</td> <td> 4277.275</td>\n",
              "</tr>\n",
              "<tr>\n",
              "  <th>x30</th> <td> 2119.2053</td> <td>  196.542</td> <td>   10.782</td> <td> 0.000</td> <td> 1733.976</td> <td> 2504.435</td>\n",
              "</tr>\n",
              "<tr>\n",
              "  <th>x31</th> <td> 2338.2709</td> <td>  323.792</td> <td>    7.222</td> <td> 0.000</td> <td> 1703.625</td> <td> 2972.916</td>\n",
              "</tr>\n",
              "</table>\n",
              "<table class=\"simpletable\">\n",
              "<tr>\n",
              "  <th>Omnibus:</th>       <td>1715.387</td> <th>  Durbin-Watson:     </th> <td>   1.987</td>\n",
              "</tr>\n",
              "<tr>\n",
              "  <th>Prob(Omnibus):</th>  <td> 0.000</td>  <th>  Jarque-Bera (JB):  </th> <td>2261.129</td>\n",
              "</tr>\n",
              "<tr>\n",
              "  <th>Skew:</th>           <td> 0.526</td>  <th>  Prob(JB):          </th> <td>    0.00</td>\n",
              "</tr>\n",
              "<tr>\n",
              "  <th>Kurtosis:</th>       <td> 3.789</td>  <th>  Cond. No.          </th> <td>2.68e+07</td>\n",
              "</tr>\n",
              "</table><br/><br/>Warnings:<br/>[1] Standard Errors assume that the covariance matrix of the errors is correctly specified.<br/>[2] The condition number is large, 2.68e+07. This might indicate that there are<br/>strong multicollinearity or other numerical problems."
            ],
            "text/plain": [
              "<class 'statsmodels.iolib.summary.Summary'>\n",
              "\"\"\"\n",
              "                                 OLS Regression Results                                \n",
              "=======================================================================================\n",
              "Dep. Variable:               priceUSD   R-squared (uncentered):                   0.818\n",
              "Model:                            OLS   Adj. R-squared (uncentered):              0.818\n",
              "Method:                 Least Squares   F-statistic:                              4552.\n",
              "Date:                Wed, 18 Nov 2020   Prob (F-statistic):                        0.00\n",
              "Time:                        06:50:36   Log-Likelihood:                     -2.9800e+05\n",
              "No. Observations:               31367   AIC:                                  5.961e+05\n",
              "Df Residuals:                   31336   BIC:                                  5.963e+05\n",
              "Df Model:                          31                                                  \n",
              "Covariance Type:            nonrobust                                                  \n",
              "==============================================================================\n",
              "                 coef    std err          t      P>|t|      [0.025      0.975]\n",
              "------------------------------------------------------------------------------\n",
              "x1             5.7548      0.162     35.600      0.000       5.438       6.072\n",
              "x2            -0.0113      0.000    -65.423      0.000      -0.012      -0.011\n",
              "x3            -0.4234      0.064     -6.630      0.000      -0.549      -0.298\n",
              "x4          -148.5886    297.483     -0.499      0.617    -731.666     434.489\n",
              "x5          2363.5276    211.529     11.174      0.000    1948.923    2778.133\n",
              "x6          2122.1831   1871.861      1.134      0.257   -1546.738    5791.105\n",
              "x7         -2020.0046     41.555    -48.610      0.000   -2101.455   -1938.554\n",
              "x8         -1911.8452     63.596    -30.062      0.000   -2036.496   -1787.194\n",
              "x9          1414.3995    131.823     10.729      0.000    1156.020    1672.779\n",
              "x10        -2610.3268    103.471    -25.228      0.000   -2813.133   -2407.520\n",
              "x11         -492.8795     69.855     -7.056      0.000    -629.798    -355.961\n",
              "x12        -2983.8196     81.088    -36.798      0.000   -3142.754   -2824.885\n",
              "x13         -857.6537    315.297     -2.720      0.007   -1475.648    -239.659\n",
              "x14        -1476.0701     85.920    -17.180      0.000   -1644.477   -1307.663\n",
              "x15        -2495.6791    174.365    -14.313      0.000   -2837.441   -2153.917\n",
              "x16        -2319.4450     93.004    -24.939      0.000   -2501.737   -2137.153\n",
              "x17        -1429.0518     59.278    -24.108      0.000   -1545.238   -1312.865\n",
              "x18         -455.8215     74.202     -6.143      0.000    -601.260    -310.383\n",
              "x19        -2180.3576    267.513     -8.150      0.000   -2704.694   -1656.021\n",
              "x20        -3293.6201     46.614    -70.658      0.000   -3384.985   -3202.256\n",
              "x21         -905.1768     94.844     -9.544      0.000   -1091.075    -719.279\n",
              "x22        -1328.8342    108.236    -12.277      0.000   -1540.981   -1116.687\n",
              "x23        -1090.7177    106.113    -10.279      0.000   -1298.703    -882.732\n",
              "x24         -288.7540    195.479     -1.477      0.140    -671.901      94.393\n",
              "x25          400.4257    190.763      2.099      0.036      26.522     774.330\n",
              "x26          887.8068    192.598      4.610      0.000     510.306    1265.307\n",
              "x27          881.1101    203.368      4.333      0.000     482.500    1279.720\n",
              "x28         2360.3682    289.807      8.145      0.000    1792.334    2928.402\n",
              "x29         3876.1331    204.660     18.939      0.000    3474.991    4277.275\n",
              "x30         2119.2053    196.542     10.782      0.000    1733.976    2504.435\n",
              "x31         2338.2709    323.792      7.222      0.000    1703.625    2972.916\n",
              "==============================================================================\n",
              "Omnibus:                     1715.387   Durbin-Watson:                   1.987\n",
              "Prob(Omnibus):                  0.000   Jarque-Bera (JB):             2261.129\n",
              "Skew:                           0.526   Prob(JB):                         0.00\n",
              "Kurtosis:                       3.789   Cond. No.                     2.68e+07\n",
              "==============================================================================\n",
              "\n",
              "Warnings:\n",
              "[1] Standard Errors assume that the covariance matrix of the errors is correctly specified.\n",
              "[2] The condition number is large, 2.68e+07. This might indicate that there are\n",
              "strong multicollinearity or other numerical problems.\n",
              "\"\"\""
            ]
          },
          "metadata": {
            "tags": []
          },
          "execution_count": 138
        }
      ]
    },
    {
      "cell_type": "markdown",
      "metadata": {
        "id": "0bjpIRJSA1j-"
      },
      "source": [
        "\n",
        "Removing the highest p-value(\"condition_with damage\" column) and rewriting the code."
      ]
    },
    {
      "cell_type": "code",
      "metadata": {
        "colab": {
          "base_uri": "https://localhost:8080/",
          "height": 1000
        },
        "id": "KYM21W_s9btE",
        "outputId": "3a8ccdf2-6b09-4b58-9e19-9724937bc37f"
      },
      "source": [
        "X_opt = x.drop(['condition_with damage'],axis=1)#[:,[0,1,2,4,5,6,7,8,9,10,11,12,13,14,15,16,17,18,19,20,21,22,23,24,25,26,27,28,29]]\n",
        "regressor_OLS = sm.OLS(endog = y.values, exog = X_opt).fit()\n",
        "regressor_OLS.summary()"
      ],
      "execution_count": null,
      "outputs": [
        {
          "output_type": "execute_result",
          "data": {
            "text/html": [
              "<table class=\"simpletable\">\n",
              "<caption>OLS Regression Results</caption>\n",
              "<tr>\n",
              "  <th>Dep. Variable:</th>            <td>y</td>        <th>  R-squared (uncentered):</th>       <td>   0.818</td>  \n",
              "</tr>\n",
              "<tr>\n",
              "  <th>Model:</th>                   <td>OLS</td>       <th>  Adj. R-squared (uncentered):</th>  <td>   0.818</td>  \n",
              "</tr>\n",
              "<tr>\n",
              "  <th>Method:</th>             <td>Least Squares</td>  <th>  F-statistic:       </th>           <td>   4704.</td>  \n",
              "</tr>\n",
              "<tr>\n",
              "  <th>Date:</th>             <td>Wed, 18 Nov 2020</td> <th>  Prob (F-statistic):</th>            <td>  0.00</td>   \n",
              "</tr>\n",
              "<tr>\n",
              "  <th>Time:</th>                 <td>06:50:59</td>     <th>  Log-Likelihood:    </th>          <td>-2.9800e+05</td>\n",
              "</tr>\n",
              "<tr>\n",
              "  <th>No. Observations:</th>      <td> 31367</td>      <th>  AIC:               </th>           <td>5.961e+05</td> \n",
              "</tr>\n",
              "<tr>\n",
              "  <th>Df Residuals:</th>          <td> 31337</td>      <th>  BIC:               </th>           <td>5.963e+05</td> \n",
              "</tr>\n",
              "<tr>\n",
              "  <th>Df Model:</th>              <td>    30</td>      <th>                     </th>               <td> </td>     \n",
              "</tr>\n",
              "<tr>\n",
              "  <th>Covariance Type:</th>      <td>nonrobust</td>    <th>                     </th>               <td> </td>     \n",
              "</tr>\n",
              "</table>\n",
              "<table class=\"simpletable\">\n",
              "<tr>\n",
              "                    <td></td>                       <th>coef</th>     <th>std err</th>      <th>t</th>      <th>P>|t|</th>  <th>[0.025</th>    <th>0.975]</th>  \n",
              "</tr>\n",
              "<tr>\n",
              "  <th>year</th>                                  <td>    5.7181</td> <td>    0.144</td> <td>   39.701</td> <td> 0.000</td> <td>    5.436</td> <td>    6.000</td>\n",
              "</tr>\n",
              "<tr>\n",
              "  <th>mileage(kilometers)</th>                   <td>   -0.0113</td> <td>    0.000</td> <td>  -65.438</td> <td> 0.000</td> <td>   -0.012</td> <td>   -0.011</td>\n",
              "</tr>\n",
              "<tr>\n",
              "  <th>volume(cm3)</th>                           <td>   -0.4235</td> <td>    0.064</td> <td>   -6.631</td> <td> 0.000</td> <td>   -0.549</td> <td>   -0.298</td>\n",
              "</tr>\n",
              "<tr>\n",
              "  <th>condition_with mileage</th>                <td> 2437.7797</td> <td>  150.483</td> <td>   16.200</td> <td> 0.000</td> <td> 2142.827</td> <td> 2732.732</td>\n",
              "</tr>\n",
              "<tr>\n",
              "  <th>fuel_type_electrocar</th>                  <td> 2122.9879</td> <td> 1871.838</td> <td>    1.134</td> <td> 0.257</td> <td>-1545.888</td> <td> 5791.864</td>\n",
              "</tr>\n",
              "<tr>\n",
              "  <th>fuel_type_petrol</th>                      <td>-2020.0223</td> <td>   41.555</td> <td>  -48.611</td> <td> 0.000</td> <td>-2101.471</td> <td>-1938.573</td>\n",
              "</tr>\n",
              "<tr>\n",
              "  <th>color_blue</th>                            <td>-1911.7300</td> <td>   63.595</td> <td>  -30.061</td> <td> 0.000</td> <td>-2036.379</td> <td>-1787.081</td>\n",
              "</tr>\n",
              "<tr>\n",
              "  <th>color_brown</th>                           <td> 1414.7184</td> <td>  131.820</td> <td>   10.732</td> <td> 0.000</td> <td> 1156.345</td> <td> 1673.092</td>\n",
              "</tr>\n",
              "<tr>\n",
              "  <th>color_burgundy</th>                        <td>-2610.1786</td> <td>  103.469</td> <td>  -25.227</td> <td> 0.000</td> <td>-2812.982</td> <td>-2407.375</td>\n",
              "</tr>\n",
              "<tr>\n",
              "  <th>color_gray</th>                            <td> -492.9831</td> <td>   69.854</td> <td>   -7.057</td> <td> 0.000</td> <td> -629.899</td> <td> -356.067</td>\n",
              "</tr>\n",
              "<tr>\n",
              "  <th>color_green</th>                           <td>-2983.6347</td> <td>   81.086</td> <td>  -36.796</td> <td> 0.000</td> <td>-3142.566</td> <td>-2824.704</td>\n",
              "</tr>\n",
              "<tr>\n",
              "  <th>color_orange</th>                          <td> -858.3298</td> <td>  315.290</td> <td>   -2.722</td> <td> 0.006</td> <td>-1476.311</td> <td> -240.348</td>\n",
              "</tr>\n",
              "<tr>\n",
              "  <th>color_other</th>                           <td>-1476.1093</td> <td>   85.919</td> <td>  -17.180</td> <td> 0.000</td> <td>-1644.514</td> <td>-1307.704</td>\n",
              "</tr>\n",
              "<tr>\n",
              "  <th>color_purple</th>                          <td>-2495.5746</td> <td>  174.363</td> <td>  -14.313</td> <td> 0.000</td> <td>-2837.332</td> <td>-2153.817</td>\n",
              "</tr>\n",
              "<tr>\n",
              "  <th>color_red</th>                             <td>-2318.8676</td> <td>   92.996</td> <td>  -24.935</td> <td> 0.000</td> <td>-2501.143</td> <td>-2136.592</td>\n",
              "</tr>\n",
              "<tr>\n",
              "  <th>color_silver</th>                          <td>-1429.2200</td> <td>   59.276</td> <td>  -24.111</td> <td> 0.000</td> <td>-1545.403</td> <td>-1313.037</td>\n",
              "</tr>\n",
              "<tr>\n",
              "  <th>color_white</th>                           <td> -455.6918</td> <td>   74.201</td> <td>   -6.141</td> <td> 0.000</td> <td> -601.128</td> <td> -310.256</td>\n",
              "</tr>\n",
              "<tr>\n",
              "  <th>color_yellow</th>                          <td>-2180.4924</td> <td>  267.510</td> <td>   -8.151</td> <td> 0.000</td> <td>-2704.822</td> <td>-1656.163</td>\n",
              "</tr>\n",
              "<tr>\n",
              "  <th>transmission_mechanics</th>                <td>-3293.4591</td> <td>   46.612</td> <td>  -70.657</td> <td> 0.000</td> <td>-3384.820</td> <td>-3202.098</td>\n",
              "</tr>\n",
              "<tr>\n",
              "  <th>drive_unit_front-wheel drive</th>          <td> -905.1705</td> <td>   94.843</td> <td>   -9.544</td> <td> 0.000</td> <td>-1091.066</td> <td> -719.275</td>\n",
              "</tr>\n",
              "<tr>\n",
              "  <th>drive_unit_part-time four-wheel drive</th> <td>-1328.8745</td> <td>  108.235</td> <td>  -12.278</td> <td> 0.000</td> <td>-1541.019</td> <td>-1116.730</td>\n",
              "</tr>\n",
              "<tr>\n",
              "  <th>drive_unit_rear drive</th>                 <td>-1090.5893</td> <td>  106.111</td> <td>  -10.278</td> <td> 0.000</td> <td>-1298.572</td> <td> -882.607</td>\n",
              "</tr>\n",
              "<tr>\n",
              "  <th>segment_B</th>                             <td> -289.3984</td> <td>  195.473</td> <td>   -1.481</td> <td> 0.139</td> <td> -672.533</td> <td>   93.736</td>\n",
              "</tr>\n",
              "<tr>\n",
              "  <th>segment_C</th>                             <td>  400.0476</td> <td>  190.760</td> <td>    2.097</td> <td> 0.036</td> <td>   26.151</td> <td>  773.944</td>\n",
              "</tr>\n",
              "<tr>\n",
              "  <th>segment_D</th>                             <td>  887.2251</td> <td>  192.593</td> <td>    4.607</td> <td> 0.000</td> <td>  509.736</td> <td> 1264.714</td>\n",
              "</tr>\n",
              "<tr>\n",
              "  <th>segment_E</th>                             <td>  880.4968</td> <td>  203.362</td> <td>    4.330</td> <td> 0.000</td> <td>  481.899</td> <td> 1279.095</td>\n",
              "</tr>\n",
              "<tr>\n",
              "  <th>segment_F</th>                             <td> 2359.4618</td> <td>  289.798</td> <td>    8.142</td> <td> 0.000</td> <td> 1791.446</td> <td> 2927.478</td>\n",
              "</tr>\n",
              "<tr>\n",
              "  <th>segment_J</th>                             <td> 3875.5711</td> <td>  204.654</td> <td>   18.937</td> <td> 0.000</td> <td> 3474.440</td> <td> 4276.702</td>\n",
              "</tr>\n",
              "<tr>\n",
              "  <th>segment_M</th>                             <td> 2118.5177</td> <td>  196.535</td> <td>   10.779</td> <td> 0.000</td> <td> 1733.302</td> <td> 2503.733</td>\n",
              "</tr>\n",
              "<tr>\n",
              "  <th>segment_S</th>                             <td> 2338.6423</td> <td>  323.787</td> <td>    7.223</td> <td> 0.000</td> <td> 1704.006</td> <td> 2973.278</td>\n",
              "</tr>\n",
              "</table>\n",
              "<table class=\"simpletable\">\n",
              "<tr>\n",
              "  <th>Omnibus:</th>       <td>1714.787</td> <th>  Durbin-Watson:     </th> <td>   1.987</td>\n",
              "</tr>\n",
              "<tr>\n",
              "  <th>Prob(Omnibus):</th>  <td> 0.000</td>  <th>  Jarque-Bera (JB):  </th> <td>2260.351</td>\n",
              "</tr>\n",
              "<tr>\n",
              "  <th>Skew:</th>           <td> 0.526</td>  <th>  Prob(JB):          </th> <td>    0.00</td>\n",
              "</tr>\n",
              "<tr>\n",
              "  <th>Kurtosis:</th>       <td> 3.789</td>  <th>  Cond. No.          </th> <td>2.68e+07</td>\n",
              "</tr>\n",
              "</table><br/><br/>Warnings:<br/>[1] Standard Errors assume that the covariance matrix of the errors is correctly specified.<br/>[2] The condition number is large, 2.68e+07. This might indicate that there are<br/>strong multicollinearity or other numerical problems."
            ],
            "text/plain": [
              "<class 'statsmodels.iolib.summary.Summary'>\n",
              "\"\"\"\n",
              "                                 OLS Regression Results                                \n",
              "=======================================================================================\n",
              "Dep. Variable:                      y   R-squared (uncentered):                   0.818\n",
              "Model:                            OLS   Adj. R-squared (uncentered):              0.818\n",
              "Method:                 Least Squares   F-statistic:                              4704.\n",
              "Date:                Wed, 18 Nov 2020   Prob (F-statistic):                        0.00\n",
              "Time:                        06:50:59   Log-Likelihood:                     -2.9800e+05\n",
              "No. Observations:               31367   AIC:                                  5.961e+05\n",
              "Df Residuals:                   31337   BIC:                                  5.963e+05\n",
              "Df Model:                          30                                                  \n",
              "Covariance Type:            nonrobust                                                  \n",
              "=========================================================================================================\n",
              "                                            coef    std err          t      P>|t|      [0.025      0.975]\n",
              "---------------------------------------------------------------------------------------------------------\n",
              "year                                      5.7181      0.144     39.701      0.000       5.436       6.000\n",
              "mileage(kilometers)                      -0.0113      0.000    -65.438      0.000      -0.012      -0.011\n",
              "volume(cm3)                              -0.4235      0.064     -6.631      0.000      -0.549      -0.298\n",
              "condition_with mileage                 2437.7797    150.483     16.200      0.000    2142.827    2732.732\n",
              "fuel_type_electrocar                   2122.9879   1871.838      1.134      0.257   -1545.888    5791.864\n",
              "fuel_type_petrol                      -2020.0223     41.555    -48.611      0.000   -2101.471   -1938.573\n",
              "color_blue                            -1911.7300     63.595    -30.061      0.000   -2036.379   -1787.081\n",
              "color_brown                            1414.7184    131.820     10.732      0.000    1156.345    1673.092\n",
              "color_burgundy                        -2610.1786    103.469    -25.227      0.000   -2812.982   -2407.375\n",
              "color_gray                             -492.9831     69.854     -7.057      0.000    -629.899    -356.067\n",
              "color_green                           -2983.6347     81.086    -36.796      0.000   -3142.566   -2824.704\n",
              "color_orange                           -858.3298    315.290     -2.722      0.006   -1476.311    -240.348\n",
              "color_other                           -1476.1093     85.919    -17.180      0.000   -1644.514   -1307.704\n",
              "color_purple                          -2495.5746    174.363    -14.313      0.000   -2837.332   -2153.817\n",
              "color_red                             -2318.8676     92.996    -24.935      0.000   -2501.143   -2136.592\n",
              "color_silver                          -1429.2200     59.276    -24.111      0.000   -1545.403   -1313.037\n",
              "color_white                            -455.6918     74.201     -6.141      0.000    -601.128    -310.256\n",
              "color_yellow                          -2180.4924    267.510     -8.151      0.000   -2704.822   -1656.163\n",
              "transmission_mechanics                -3293.4591     46.612    -70.657      0.000   -3384.820   -3202.098\n",
              "drive_unit_front-wheel drive           -905.1705     94.843     -9.544      0.000   -1091.066    -719.275\n",
              "drive_unit_part-time four-wheel drive -1328.8745    108.235    -12.278      0.000   -1541.019   -1116.730\n",
              "drive_unit_rear drive                 -1090.5893    106.111    -10.278      0.000   -1298.572    -882.607\n",
              "segment_B                              -289.3984    195.473     -1.481      0.139    -672.533      93.736\n",
              "segment_C                               400.0476    190.760      2.097      0.036      26.151     773.944\n",
              "segment_D                               887.2251    192.593      4.607      0.000     509.736    1264.714\n",
              "segment_E                               880.4968    203.362      4.330      0.000     481.899    1279.095\n",
              "segment_F                              2359.4618    289.798      8.142      0.000    1791.446    2927.478\n",
              "segment_J                              3875.5711    204.654     18.937      0.000    3474.440    4276.702\n",
              "segment_M                              2118.5177    196.535     10.779      0.000    1733.302    2503.733\n",
              "segment_S                              2338.6423    323.787      7.223      0.000    1704.006    2973.278\n",
              "==============================================================================\n",
              "Omnibus:                     1714.787   Durbin-Watson:                   1.987\n",
              "Prob(Omnibus):                  0.000   Jarque-Bera (JB):             2260.351\n",
              "Skew:                           0.526   Prob(JB):                         0.00\n",
              "Kurtosis:                       3.789   Cond. No.                     2.68e+07\n",
              "==============================================================================\n",
              "\n",
              "Warnings:\n",
              "[1] Standard Errors assume that the covariance matrix of the errors is correctly specified.\n",
              "[2] The condition number is large, 2.68e+07. This might indicate that there are\n",
              "strong multicollinearity or other numerical problems.\n",
              "\"\"\""
            ]
          },
          "metadata": {
            "tags": []
          },
          "execution_count": 139
        }
      ]
    },
    {
      "cell_type": "markdown",
      "metadata": {
        "id": "Gld7WWMZJbJz"
      },
      "source": [
        "Remove the highest p-value(\"fuel_type_electrocar\" column) and rewriting the code"
      ]
    },
    {
      "cell_type": "code",
      "metadata": {
        "colab": {
          "base_uri": "https://localhost:8080/",
          "height": 1000
        },
        "id": "nKJn_Dnq9xwM",
        "outputId": "59f46cc2-081d-47d6-bd6f-da49bab22aab"
      },
      "source": [
        "X_opt = X_opt.drop(['fuel_type_electrocar'],axis=1)\n",
        "#X_opt = x.values[:,[0,1,2,4,6,7,8,9,10,11,12,13,14,15,16,17,18,19,20,21,22,23,24,25,26,27,28,29]]\n",
        "regressor_OLS = sm.OLS(endog = y.values, exog = X_opt).fit()\n",
        "regressor_OLS.summary()"
      ],
      "execution_count": null,
      "outputs": [
        {
          "output_type": "execute_result",
          "data": {
            "text/html": [
              "<table class=\"simpletable\">\n",
              "<caption>OLS Regression Results</caption>\n",
              "<tr>\n",
              "  <th>Dep. Variable:</th>            <td>y</td>        <th>  R-squared (uncentered):</th>       <td>   0.818</td>  \n",
              "</tr>\n",
              "<tr>\n",
              "  <th>Model:</th>                   <td>OLS</td>       <th>  Adj. R-squared (uncentered):</th>  <td>   0.818</td>  \n",
              "</tr>\n",
              "<tr>\n",
              "  <th>Method:</th>             <td>Least Squares</td>  <th>  F-statistic:       </th>           <td>   4866.</td>  \n",
              "</tr>\n",
              "<tr>\n",
              "  <th>Date:</th>             <td>Wed, 18 Nov 2020</td> <th>  Prob (F-statistic):</th>            <td>  0.00</td>   \n",
              "</tr>\n",
              "<tr>\n",
              "  <th>Time:</th>                 <td>06:51:19</td>     <th>  Log-Likelihood:    </th>          <td>-2.9800e+05</td>\n",
              "</tr>\n",
              "<tr>\n",
              "  <th>No. Observations:</th>      <td> 31367</td>      <th>  AIC:               </th>           <td>5.961e+05</td> \n",
              "</tr>\n",
              "<tr>\n",
              "  <th>Df Residuals:</th>          <td> 31338</td>      <th>  BIC:               </th>           <td>5.963e+05</td> \n",
              "</tr>\n",
              "<tr>\n",
              "  <th>Df Model:</th>              <td>    29</td>      <th>                     </th>               <td> </td>     \n",
              "</tr>\n",
              "<tr>\n",
              "  <th>Covariance Type:</th>      <td>nonrobust</td>    <th>                     </th>               <td> </td>     \n",
              "</tr>\n",
              "</table>\n",
              "<table class=\"simpletable\">\n",
              "<tr>\n",
              "                    <td></td>                       <th>coef</th>     <th>std err</th>      <th>t</th>      <th>P>|t|</th>  <th>[0.025</th>    <th>0.975]</th>  \n",
              "</tr>\n",
              "<tr>\n",
              "  <th>year</th>                                  <td>    5.7185</td> <td>    0.144</td> <td>   39.703</td> <td> 0.000</td> <td>    5.436</td> <td>    6.001</td>\n",
              "</tr>\n",
              "<tr>\n",
              "  <th>mileage(kilometers)</th>                   <td>   -0.0113</td> <td>    0.000</td> <td>  -65.437</td> <td> 0.000</td> <td>   -0.012</td> <td>   -0.011</td>\n",
              "</tr>\n",
              "<tr>\n",
              "  <th>volume(cm3)</th>                           <td>   -0.4237</td> <td>    0.064</td> <td>   -6.634</td> <td> 0.000</td> <td>   -0.549</td> <td>   -0.298</td>\n",
              "</tr>\n",
              "<tr>\n",
              "  <th>condition_with mileage</th>                <td> 2437.7770</td> <td>  150.484</td> <td>   16.200</td> <td> 0.000</td> <td> 2142.823</td> <td> 2732.731</td>\n",
              "</tr>\n",
              "<tr>\n",
              "  <th>fuel_type_petrol</th>                      <td>-2020.6729</td> <td>   41.551</td> <td>  -48.631</td> <td> 0.000</td> <td>-2102.115</td> <td>-1939.231</td>\n",
              "</tr>\n",
              "<tr>\n",
              "  <th>color_blue</th>                            <td>-1911.6530</td> <td>   63.595</td> <td>  -30.060</td> <td> 0.000</td> <td>-2036.302</td> <td>-1787.004</td>\n",
              "</tr>\n",
              "<tr>\n",
              "  <th>color_brown</th>                           <td> 1414.7609</td> <td>  131.821</td> <td>   10.732</td> <td> 0.000</td> <td> 1156.387</td> <td> 1673.135</td>\n",
              "</tr>\n",
              "<tr>\n",
              "  <th>color_burgundy</th>                        <td>-2610.0265</td> <td>  103.469</td> <td>  -25.225</td> <td> 0.000</td> <td>-2812.831</td> <td>-2407.222</td>\n",
              "</tr>\n",
              "<tr>\n",
              "  <th>color_gray</th>                            <td> -492.9928</td> <td>   69.854</td> <td>   -7.057</td> <td> 0.000</td> <td> -629.910</td> <td> -356.076</td>\n",
              "</tr>\n",
              "<tr>\n",
              "  <th>color_green</th>                           <td>-2983.4640</td> <td>   81.086</td> <td>  -36.794</td> <td> 0.000</td> <td>-3142.396</td> <td>-2824.532</td>\n",
              "</tr>\n",
              "<tr>\n",
              "  <th>color_orange</th>                          <td> -838.4450</td> <td>  314.804</td> <td>   -2.663</td> <td> 0.008</td> <td>-1455.473</td> <td> -221.417</td>\n",
              "</tr>\n",
              "<tr>\n",
              "  <th>color_other</th>                           <td>-1476.0381</td> <td>   85.920</td> <td>  -17.179</td> <td> 0.000</td> <td>-1644.444</td> <td>-1307.632</td>\n",
              "</tr>\n",
              "<tr>\n",
              "  <th>color_purple</th>                          <td>-2495.3978</td> <td>  174.363</td> <td>  -14.311</td> <td> 0.000</td> <td>-2837.157</td> <td>-2153.639</td>\n",
              "</tr>\n",
              "<tr>\n",
              "  <th>color_red</th>                             <td>-2318.6724</td> <td>   92.996</td> <td>  -24.933</td> <td> 0.000</td> <td>-2500.948</td> <td>-2136.397</td>\n",
              "</tr>\n",
              "<tr>\n",
              "  <th>color_silver</th>                          <td>-1428.5129</td> <td>   59.273</td> <td>  -24.101</td> <td> 0.000</td> <td>-1544.690</td> <td>-1312.336</td>\n",
              "</tr>\n",
              "<tr>\n",
              "  <th>color_white</th>                           <td> -455.6600</td> <td>   74.201</td> <td>   -6.141</td> <td> 0.000</td> <td> -601.097</td> <td> -310.223</td>\n",
              "</tr>\n",
              "<tr>\n",
              "  <th>color_yellow</th>                          <td>-2180.3632</td> <td>  267.511</td> <td>   -8.151</td> <td> 0.000</td> <td>-2704.695</td> <td>-1656.031</td>\n",
              "</tr>\n",
              "<tr>\n",
              "  <th>transmission_mechanics</th>                <td>-3294.0980</td> <td>   46.609</td> <td>  -70.675</td> <td> 0.000</td> <td>-3385.453</td> <td>-3202.743</td>\n",
              "</tr>\n",
              "<tr>\n",
              "  <th>drive_unit_front-wheel drive</th>          <td> -904.9148</td> <td>   94.843</td> <td>   -9.541</td> <td> 0.000</td> <td>-1090.811</td> <td> -719.019</td>\n",
              "</tr>\n",
              "<tr>\n",
              "  <th>drive_unit_part-time four-wheel drive</th> <td>-1328.7350</td> <td>  108.235</td> <td>  -12.276</td> <td> 0.000</td> <td>-1540.880</td> <td>-1116.590</td>\n",
              "</tr>\n",
              "<tr>\n",
              "  <th>drive_unit_rear drive</th>                 <td>-1090.6879</td> <td>  106.112</td> <td>  -10.279</td> <td> 0.000</td> <td>-1298.671</td> <td> -882.704</td>\n",
              "</tr>\n",
              "<tr>\n",
              "  <th>segment_B</th>                             <td> -289.3537</td> <td>  195.474</td> <td>   -1.480</td> <td> 0.139</td> <td> -672.490</td> <td>   93.782</td>\n",
              "</tr>\n",
              "<tr>\n",
              "  <th>segment_C</th>                             <td>  400.1136</td> <td>  190.760</td> <td>    2.097</td> <td> 0.036</td> <td>   26.215</td> <td>  774.012</td>\n",
              "</tr>\n",
              "<tr>\n",
              "  <th>segment_D</th>                             <td>  887.8358</td> <td>  192.593</td> <td>    4.610</td> <td> 0.000</td> <td>  510.346</td> <td> 1265.325</td>\n",
              "</tr>\n",
              "<tr>\n",
              "  <th>segment_E</th>                             <td>  880.7167</td> <td>  203.363</td> <td>    4.331</td> <td> 0.000</td> <td>  482.117</td> <td> 1279.316</td>\n",
              "</tr>\n",
              "<tr>\n",
              "  <th>segment_F</th>                             <td> 2359.4024</td> <td>  289.799</td> <td>    8.141</td> <td> 0.000</td> <td> 1791.384</td> <td> 2927.421</td>\n",
              "</tr>\n",
              "<tr>\n",
              "  <th>segment_J</th>                             <td> 3875.5149</td> <td>  204.655</td> <td>   18.937</td> <td> 0.000</td> <td> 3474.382</td> <td> 4276.648</td>\n",
              "</tr>\n",
              "<tr>\n",
              "  <th>segment_M</th>                             <td> 2118.9137</td> <td>  196.535</td> <td>   10.781</td> <td> 0.000</td> <td> 1733.697</td> <td> 2504.130</td>\n",
              "</tr>\n",
              "<tr>\n",
              "  <th>segment_S</th>                             <td> 2338.6280</td> <td>  323.789</td> <td>    7.223</td> <td> 0.000</td> <td> 1703.989</td> <td> 2973.267</td>\n",
              "</tr>\n",
              "</table>\n",
              "<table class=\"simpletable\">\n",
              "<tr>\n",
              "  <th>Omnibus:</th>       <td>1713.769</td> <th>  Durbin-Watson:     </th> <td>   1.987</td>\n",
              "</tr>\n",
              "<tr>\n",
              "  <th>Prob(Omnibus):</th>  <td> 0.000</td>  <th>  Jarque-Bera (JB):  </th> <td>2258.675</td>\n",
              "</tr>\n",
              "<tr>\n",
              "  <th>Skew:</th>           <td> 0.526</td>  <th>  Prob(JB):          </th> <td>    0.00</td>\n",
              "</tr>\n",
              "<tr>\n",
              "  <th>Kurtosis:</th>       <td> 3.788</td>  <th>  Cond. No.          </th> <td>8.02e+06</td>\n",
              "</tr>\n",
              "</table><br/><br/>Warnings:<br/>[1] Standard Errors assume that the covariance matrix of the errors is correctly specified.<br/>[2] The condition number is large, 8.02e+06. This might indicate that there are<br/>strong multicollinearity or other numerical problems."
            ],
            "text/plain": [
              "<class 'statsmodels.iolib.summary.Summary'>\n",
              "\"\"\"\n",
              "                                 OLS Regression Results                                \n",
              "=======================================================================================\n",
              "Dep. Variable:                      y   R-squared (uncentered):                   0.818\n",
              "Model:                            OLS   Adj. R-squared (uncentered):              0.818\n",
              "Method:                 Least Squares   F-statistic:                              4866.\n",
              "Date:                Wed, 18 Nov 2020   Prob (F-statistic):                        0.00\n",
              "Time:                        06:51:19   Log-Likelihood:                     -2.9800e+05\n",
              "No. Observations:               31367   AIC:                                  5.961e+05\n",
              "Df Residuals:                   31338   BIC:                                  5.963e+05\n",
              "Df Model:                          29                                                  \n",
              "Covariance Type:            nonrobust                                                  \n",
              "=========================================================================================================\n",
              "                                            coef    std err          t      P>|t|      [0.025      0.975]\n",
              "---------------------------------------------------------------------------------------------------------\n",
              "year                                      5.7185      0.144     39.703      0.000       5.436       6.001\n",
              "mileage(kilometers)                      -0.0113      0.000    -65.437      0.000      -0.012      -0.011\n",
              "volume(cm3)                              -0.4237      0.064     -6.634      0.000      -0.549      -0.298\n",
              "condition_with mileage                 2437.7770    150.484     16.200      0.000    2142.823    2732.731\n",
              "fuel_type_petrol                      -2020.6729     41.551    -48.631      0.000   -2102.115   -1939.231\n",
              "color_blue                            -1911.6530     63.595    -30.060      0.000   -2036.302   -1787.004\n",
              "color_brown                            1414.7609    131.821     10.732      0.000    1156.387    1673.135\n",
              "color_burgundy                        -2610.0265    103.469    -25.225      0.000   -2812.831   -2407.222\n",
              "color_gray                             -492.9928     69.854     -7.057      0.000    -629.910    -356.076\n",
              "color_green                           -2983.4640     81.086    -36.794      0.000   -3142.396   -2824.532\n",
              "color_orange                           -838.4450    314.804     -2.663      0.008   -1455.473    -221.417\n",
              "color_other                           -1476.0381     85.920    -17.179      0.000   -1644.444   -1307.632\n",
              "color_purple                          -2495.3978    174.363    -14.311      0.000   -2837.157   -2153.639\n",
              "color_red                             -2318.6724     92.996    -24.933      0.000   -2500.948   -2136.397\n",
              "color_silver                          -1428.5129     59.273    -24.101      0.000   -1544.690   -1312.336\n",
              "color_white                            -455.6600     74.201     -6.141      0.000    -601.097    -310.223\n",
              "color_yellow                          -2180.3632    267.511     -8.151      0.000   -2704.695   -1656.031\n",
              "transmission_mechanics                -3294.0980     46.609    -70.675      0.000   -3385.453   -3202.743\n",
              "drive_unit_front-wheel drive           -904.9148     94.843     -9.541      0.000   -1090.811    -719.019\n",
              "drive_unit_part-time four-wheel drive -1328.7350    108.235    -12.276      0.000   -1540.880   -1116.590\n",
              "drive_unit_rear drive                 -1090.6879    106.112    -10.279      0.000   -1298.671    -882.704\n",
              "segment_B                              -289.3537    195.474     -1.480      0.139    -672.490      93.782\n",
              "segment_C                               400.1136    190.760      2.097      0.036      26.215     774.012\n",
              "segment_D                               887.8358    192.593      4.610      0.000     510.346    1265.325\n",
              "segment_E                               880.7167    203.363      4.331      0.000     482.117    1279.316\n",
              "segment_F                              2359.4024    289.799      8.141      0.000    1791.384    2927.421\n",
              "segment_J                              3875.5149    204.655     18.937      0.000    3474.382    4276.648\n",
              "segment_M                              2118.9137    196.535     10.781      0.000    1733.697    2504.130\n",
              "segment_S                              2338.6280    323.789      7.223      0.000    1703.989    2973.267\n",
              "==============================================================================\n",
              "Omnibus:                     1713.769   Durbin-Watson:                   1.987\n",
              "Prob(Omnibus):                  0.000   Jarque-Bera (JB):             2258.675\n",
              "Skew:                           0.526   Prob(JB):                         0.00\n",
              "Kurtosis:                       3.788   Cond. No.                     8.02e+06\n",
              "==============================================================================\n",
              "\n",
              "Warnings:\n",
              "[1] Standard Errors assume that the covariance matrix of the errors is correctly specified.\n",
              "[2] The condition number is large, 8.02e+06. This might indicate that there are\n",
              "strong multicollinearity or other numerical problems.\n",
              "\"\"\""
            ]
          },
          "metadata": {
            "tags": []
          },
          "execution_count": 140
        }
      ]
    },
    {
      "cell_type": "markdown",
      "metadata": {
        "id": "-lLjR_sGFlKy"
      },
      "source": [
        "Removing the highest p-value(segment_B column) and rewriting the code."
      ]
    },
    {
      "cell_type": "code",
      "metadata": {
        "colab": {
          "base_uri": "https://localhost:8080/",
          "height": 1000
        },
        "id": "nytoXidH-con",
        "outputId": "826dd778-c5e9-476b-a7fe-ac621695524d"
      },
      "source": [
        "X_opt = X_opt.drop(['segment_B'], axis=1)\n",
        "#X_opt = x.values[:,[0,1,2,4,6,7,8,9,10,11,12,13,14,15,16,17,18,19,20,21,22,25,26,27,28,29]]\n",
        "regressor_OLS = sm.OLS(endog = y.values, exog = X_opt).fit()\n",
        "regressor_OLS.summary()"
      ],
      "execution_count": null,
      "outputs": [
        {
          "output_type": "execute_result",
          "data": {
            "text/html": [
              "<table class=\"simpletable\">\n",
              "<caption>OLS Regression Results</caption>\n",
              "<tr>\n",
              "  <th>Dep. Variable:</th>            <td>y</td>        <th>  R-squared (uncentered):</th>       <td>   0.818</td>  \n",
              "</tr>\n",
              "<tr>\n",
              "  <th>Model:</th>                   <td>OLS</td>       <th>  Adj. R-squared (uncentered):</th>  <td>   0.818</td>  \n",
              "</tr>\n",
              "<tr>\n",
              "  <th>Method:</th>             <td>Least Squares</td>  <th>  F-statistic:       </th>           <td>   5039.</td>  \n",
              "</tr>\n",
              "<tr>\n",
              "  <th>Date:</th>             <td>Wed, 18 Nov 2020</td> <th>  Prob (F-statistic):</th>            <td>  0.00</td>   \n",
              "</tr>\n",
              "<tr>\n",
              "  <th>Time:</th>                 <td>06:52:37</td>     <th>  Log-Likelihood:    </th>          <td>-2.9801e+05</td>\n",
              "</tr>\n",
              "<tr>\n",
              "  <th>No. Observations:</th>      <td> 31367</td>      <th>  AIC:               </th>           <td>5.961e+05</td> \n",
              "</tr>\n",
              "<tr>\n",
              "  <th>Df Residuals:</th>          <td> 31339</td>      <th>  BIC:               </th>           <td>5.963e+05</td> \n",
              "</tr>\n",
              "<tr>\n",
              "  <th>Df Model:</th>              <td>    28</td>      <th>                     </th>               <td> </td>     \n",
              "</tr>\n",
              "<tr>\n",
              "  <th>Covariance Type:</th>      <td>nonrobust</td>    <th>                     </th>               <td> </td>     \n",
              "</tr>\n",
              "</table>\n",
              "<table class=\"simpletable\">\n",
              "<tr>\n",
              "                    <td></td>                       <th>coef</th>     <th>std err</th>      <th>t</th>      <th>P>|t|</th>  <th>[0.025</th>    <th>0.975]</th>  \n",
              "</tr>\n",
              "<tr>\n",
              "  <th>year</th>                                  <td>    5.5923</td> <td>    0.116</td> <td>   48.178</td> <td> 0.000</td> <td>    5.365</td> <td>    5.820</td>\n",
              "</tr>\n",
              "<tr>\n",
              "  <th>mileage(kilometers)</th>                   <td>   -0.0113</td> <td>    0.000</td> <td>  -65.428</td> <td> 0.000</td> <td>   -0.012</td> <td>   -0.011</td>\n",
              "</tr>\n",
              "<tr>\n",
              "  <th>volume(cm3)</th>                           <td>   -0.4277</td> <td>    0.064</td> <td>   -6.702</td> <td> 0.000</td> <td>   -0.553</td> <td>   -0.303</td>\n",
              "</tr>\n",
              "<tr>\n",
              "  <th>condition_with mileage</th>                <td> 2439.6962</td> <td>  150.481</td> <td>   16.213</td> <td> 0.000</td> <td> 2144.748</td> <td> 2734.645</td>\n",
              "</tr>\n",
              "<tr>\n",
              "  <th>fuel_type_petrol</th>                      <td>-2021.9561</td> <td>   41.543</td> <td>  -48.672</td> <td> 0.000</td> <td>-2103.382</td> <td>-1940.531</td>\n",
              "</tr>\n",
              "<tr>\n",
              "  <th>color_blue</th>                            <td>-1912.2891</td> <td>   63.595</td> <td>  -30.070</td> <td> 0.000</td> <td>-2036.938</td> <td>-1787.640</td>\n",
              "</tr>\n",
              "<tr>\n",
              "  <th>color_brown</th>                           <td> 1412.1435</td> <td>  131.812</td> <td>   10.713</td> <td> 0.000</td> <td> 1153.788</td> <td> 1670.499</td>\n",
              "</tr>\n",
              "<tr>\n",
              "  <th>color_burgundy</th>                        <td>-2609.8973</td> <td>  103.471</td> <td>  -25.223</td> <td> 0.000</td> <td>-2812.705</td> <td>-2407.089</td>\n",
              "</tr>\n",
              "<tr>\n",
              "  <th>color_gray</th>                            <td> -494.9774</td> <td>   69.843</td> <td>   -7.087</td> <td> 0.000</td> <td> -631.872</td> <td> -358.083</td>\n",
              "</tr>\n",
              "<tr>\n",
              "  <th>color_green</th>                           <td>-2984.8794</td> <td>   81.082</td> <td>  -36.813</td> <td> 0.000</td> <td>-3143.803</td> <td>-2825.956</td>\n",
              "</tr>\n",
              "<tr>\n",
              "  <th>color_orange</th>                          <td> -840.2371</td> <td>  314.808</td> <td>   -2.669</td> <td> 0.008</td> <td>-1457.272</td> <td> -223.202</td>\n",
              "</tr>\n",
              "<tr>\n",
              "  <th>color_other</th>                           <td>-1476.7259</td> <td>   85.920</td> <td>  -17.187</td> <td> 0.000</td> <td>-1645.132</td> <td>-1308.319</td>\n",
              "</tr>\n",
              "<tr>\n",
              "  <th>color_purple</th>                          <td>-2493.7346</td> <td>  174.363</td> <td>  -14.302</td> <td> 0.000</td> <td>-2835.493</td> <td>-2151.976</td>\n",
              "</tr>\n",
              "<tr>\n",
              "  <th>color_red</th>                             <td>-2320.3799</td> <td>   92.991</td> <td>  -24.953</td> <td> 0.000</td> <td>-2502.645</td> <td>-2138.115</td>\n",
              "</tr>\n",
              "<tr>\n",
              "  <th>color_silver</th>                          <td>-1429.8216</td> <td>   59.267</td> <td>  -24.125</td> <td> 0.000</td> <td>-1545.988</td> <td>-1313.655</td>\n",
              "</tr>\n",
              "<tr>\n",
              "  <th>color_white</th>                           <td> -457.4958</td> <td>   74.192</td> <td>   -6.166</td> <td> 0.000</td> <td> -602.915</td> <td> -312.077</td>\n",
              "</tr>\n",
              "<tr>\n",
              "  <th>color_yellow</th>                          <td>-2176.4191</td> <td>  267.503</td> <td>   -8.136</td> <td> 0.000</td> <td>-2700.735</td> <td>-1652.103</td>\n",
              "</tr>\n",
              "<tr>\n",
              "  <th>transmission_mechanics</th>                <td>-3297.1450</td> <td>   46.564</td> <td>  -70.809</td> <td> 0.000</td> <td>-3388.413</td> <td>-3205.877</td>\n",
              "</tr>\n",
              "<tr>\n",
              "  <th>drive_unit_front-wheel drive</th>          <td> -905.1918</td> <td>   94.845</td> <td>   -9.544</td> <td> 0.000</td> <td>-1091.091</td> <td> -719.292</td>\n",
              "</tr>\n",
              "<tr>\n",
              "  <th>drive_unit_part-time four-wheel drive</th> <td>-1328.6428</td> <td>  108.237</td> <td>  -12.275</td> <td> 0.000</td> <td>-1540.792</td> <td>-1116.494</td>\n",
              "</tr>\n",
              "<tr>\n",
              "  <th>drive_unit_rear drive</th>                 <td>-1094.0484</td> <td>  106.090</td> <td>  -10.312</td> <td> 0.000</td> <td>-1301.988</td> <td> -886.109</td>\n",
              "</tr>\n",
              "<tr>\n",
              "  <th>segment_C</th>                             <td>  662.0449</td> <td>   71.267</td> <td>    9.290</td> <td> 0.000</td> <td>  522.358</td> <td>  801.732</td>\n",
              "</tr>\n",
              "<tr>\n",
              "  <th>segment_D</th>                             <td> 1150.5883</td> <td>   74.732</td> <td>   15.396</td> <td> 0.000</td> <td> 1004.112</td> <td> 1297.065</td>\n",
              "</tr>\n",
              "<tr>\n",
              "  <th>segment_E</th>                             <td> 1145.1917</td> <td>   97.134</td> <td>   11.790</td> <td> 0.000</td> <td>  954.805</td> <td> 1335.579</td>\n",
              "</tr>\n",
              "<tr>\n",
              "  <th>segment_F</th>                             <td> 2625.0013</td> <td>  227.579</td> <td>   11.534</td> <td> 0.000</td> <td> 2178.938</td> <td> 3071.065</td>\n",
              "</tr>\n",
              "<tr>\n",
              "  <th>segment_J</th>                             <td> 4138.7229</td> <td>  101.329</td> <td>   40.844</td> <td> 0.000</td> <td> 3940.114</td> <td> 4337.332</td>\n",
              "</tr>\n",
              "<tr>\n",
              "  <th>segment_M</th>                             <td> 2381.7176</td> <td>   84.301</td> <td>   28.253</td> <td> 0.000</td> <td> 2216.484</td> <td> 2546.951</td>\n",
              "</tr>\n",
              "<tr>\n",
              "  <th>segment_S</th>                             <td> 2604.7886</td> <td>  269.281</td> <td>    9.673</td> <td> 0.000</td> <td> 2076.988</td> <td> 3132.589</td>\n",
              "</tr>\n",
              "</table>\n",
              "<table class=\"simpletable\">\n",
              "<tr>\n",
              "  <th>Omnibus:</th>       <td>1716.718</td> <th>  Durbin-Watson:     </th> <td>   1.987</td>\n",
              "</tr>\n",
              "<tr>\n",
              "  <th>Prob(Omnibus):</th>  <td> 0.000</td>  <th>  Jarque-Bera (JB):  </th> <td>2264.723</td>\n",
              "</tr>\n",
              "<tr>\n",
              "  <th>Skew:</th>           <td> 0.526</td>  <th>  Prob(JB):          </th> <td>    0.00</td>\n",
              "</tr>\n",
              "<tr>\n",
              "  <th>Kurtosis:</th>       <td> 3.791</td>  <th>  Cond. No.          </th> <td>4.53e+06</td>\n",
              "</tr>\n",
              "</table><br/><br/>Warnings:<br/>[1] Standard Errors assume that the covariance matrix of the errors is correctly specified.<br/>[2] The condition number is large, 4.53e+06. This might indicate that there are<br/>strong multicollinearity or other numerical problems."
            ],
            "text/plain": [
              "<class 'statsmodels.iolib.summary.Summary'>\n",
              "\"\"\"\n",
              "                                 OLS Regression Results                                \n",
              "=======================================================================================\n",
              "Dep. Variable:                      y   R-squared (uncentered):                   0.818\n",
              "Model:                            OLS   Adj. R-squared (uncentered):              0.818\n",
              "Method:                 Least Squares   F-statistic:                              5039.\n",
              "Date:                Wed, 18 Nov 2020   Prob (F-statistic):                        0.00\n",
              "Time:                        06:52:37   Log-Likelihood:                     -2.9801e+05\n",
              "No. Observations:               31367   AIC:                                  5.961e+05\n",
              "Df Residuals:                   31339   BIC:                                  5.963e+05\n",
              "Df Model:                          28                                                  \n",
              "Covariance Type:            nonrobust                                                  \n",
              "=========================================================================================================\n",
              "                                            coef    std err          t      P>|t|      [0.025      0.975]\n",
              "---------------------------------------------------------------------------------------------------------\n",
              "year                                      5.5923      0.116     48.178      0.000       5.365       5.820\n",
              "mileage(kilometers)                      -0.0113      0.000    -65.428      0.000      -0.012      -0.011\n",
              "volume(cm3)                              -0.4277      0.064     -6.702      0.000      -0.553      -0.303\n",
              "condition_with mileage                 2439.6962    150.481     16.213      0.000    2144.748    2734.645\n",
              "fuel_type_petrol                      -2021.9561     41.543    -48.672      0.000   -2103.382   -1940.531\n",
              "color_blue                            -1912.2891     63.595    -30.070      0.000   -2036.938   -1787.640\n",
              "color_brown                            1412.1435    131.812     10.713      0.000    1153.788    1670.499\n",
              "color_burgundy                        -2609.8973    103.471    -25.223      0.000   -2812.705   -2407.089\n",
              "color_gray                             -494.9774     69.843     -7.087      0.000    -631.872    -358.083\n",
              "color_green                           -2984.8794     81.082    -36.813      0.000   -3143.803   -2825.956\n",
              "color_orange                           -840.2371    314.808     -2.669      0.008   -1457.272    -223.202\n",
              "color_other                           -1476.7259     85.920    -17.187      0.000   -1645.132   -1308.319\n",
              "color_purple                          -2493.7346    174.363    -14.302      0.000   -2835.493   -2151.976\n",
              "color_red                             -2320.3799     92.991    -24.953      0.000   -2502.645   -2138.115\n",
              "color_silver                          -1429.8216     59.267    -24.125      0.000   -1545.988   -1313.655\n",
              "color_white                            -457.4958     74.192     -6.166      0.000    -602.915    -312.077\n",
              "color_yellow                          -2176.4191    267.503     -8.136      0.000   -2700.735   -1652.103\n",
              "transmission_mechanics                -3297.1450     46.564    -70.809      0.000   -3388.413   -3205.877\n",
              "drive_unit_front-wheel drive           -905.1918     94.845     -9.544      0.000   -1091.091    -719.292\n",
              "drive_unit_part-time four-wheel drive -1328.6428    108.237    -12.275      0.000   -1540.792   -1116.494\n",
              "drive_unit_rear drive                 -1094.0484    106.090    -10.312      0.000   -1301.988    -886.109\n",
              "segment_C                               662.0449     71.267      9.290      0.000     522.358     801.732\n",
              "segment_D                              1150.5883     74.732     15.396      0.000    1004.112    1297.065\n",
              "segment_E                              1145.1917     97.134     11.790      0.000     954.805    1335.579\n",
              "segment_F                              2625.0013    227.579     11.534      0.000    2178.938    3071.065\n",
              "segment_J                              4138.7229    101.329     40.844      0.000    3940.114    4337.332\n",
              "segment_M                              2381.7176     84.301     28.253      0.000    2216.484    2546.951\n",
              "segment_S                              2604.7886    269.281      9.673      0.000    2076.988    3132.589\n",
              "==============================================================================\n",
              "Omnibus:                     1716.718   Durbin-Watson:                   1.987\n",
              "Prob(Omnibus):                  0.000   Jarque-Bera (JB):             2264.723\n",
              "Skew:                           0.526   Prob(JB):                         0.00\n",
              "Kurtosis:                       3.791   Cond. No.                     4.53e+06\n",
              "==============================================================================\n",
              "\n",
              "Warnings:\n",
              "[1] Standard Errors assume that the covariance matrix of the errors is correctly specified.\n",
              "[2] The condition number is large, 4.53e+06. This might indicate that there are\n",
              "strong multicollinearity or other numerical problems.\n",
              "\"\"\""
            ]
          },
          "metadata": {
            "tags": []
          },
          "execution_count": 141
        }
      ]
    },
    {
      "cell_type": "code",
      "metadata": {
        "colab": {
          "base_uri": "https://localhost:8080/",
          "height": 473
        },
        "id": "lTLRyp_KD52p",
        "outputId": "67769170-dfc7-457b-84ba-1284873afd92"
      },
      "source": [
        "X_opt"
      ],
      "execution_count": null,
      "outputs": [
        {
          "output_type": "execute_result",
          "data": {
            "text/html": [
              "<div>\n",
              "<style scoped>\n",
              "    .dataframe tbody tr th:only-of-type {\n",
              "        vertical-align: middle;\n",
              "    }\n",
              "\n",
              "    .dataframe tbody tr th {\n",
              "        vertical-align: top;\n",
              "    }\n",
              "\n",
              "    .dataframe thead th {\n",
              "        text-align: right;\n",
              "    }\n",
              "</style>\n",
              "<table border=\"1\" class=\"dataframe\">\n",
              "  <thead>\n",
              "    <tr style=\"text-align: right;\">\n",
              "      <th></th>\n",
              "      <th>year</th>\n",
              "      <th>mileage(kilometers)</th>\n",
              "      <th>volume(cm3)</th>\n",
              "      <th>condition_with mileage</th>\n",
              "      <th>fuel_type_petrol</th>\n",
              "      <th>color_blue</th>\n",
              "      <th>color_brown</th>\n",
              "      <th>color_burgundy</th>\n",
              "      <th>color_gray</th>\n",
              "      <th>color_green</th>\n",
              "      <th>color_orange</th>\n",
              "      <th>color_other</th>\n",
              "      <th>color_purple</th>\n",
              "      <th>color_red</th>\n",
              "      <th>color_silver</th>\n",
              "      <th>color_white</th>\n",
              "      <th>color_yellow</th>\n",
              "      <th>transmission_mechanics</th>\n",
              "      <th>drive_unit_front-wheel drive</th>\n",
              "      <th>drive_unit_part-time four-wheel drive</th>\n",
              "      <th>drive_unit_rear drive</th>\n",
              "      <th>segment_C</th>\n",
              "      <th>segment_D</th>\n",
              "      <th>segment_E</th>\n",
              "      <th>segment_F</th>\n",
              "      <th>segment_J</th>\n",
              "      <th>segment_M</th>\n",
              "      <th>segment_S</th>\n",
              "    </tr>\n",
              "  </thead>\n",
              "  <tbody>\n",
              "    <tr>\n",
              "      <th>1</th>\n",
              "      <td>2008</td>\n",
              "      <td>172000.0</td>\n",
              "      <td>1400.0</td>\n",
              "      <td>1</td>\n",
              "      <td>0</td>\n",
              "      <td>0</td>\n",
              "      <td>0</td>\n",
              "      <td>0</td>\n",
              "      <td>0</td>\n",
              "      <td>0</td>\n",
              "      <td>0</td>\n",
              "      <td>0</td>\n",
              "      <td>0</td>\n",
              "      <td>0</td>\n",
              "      <td>1</td>\n",
              "      <td>0</td>\n",
              "      <td>0</td>\n",
              "      <td>1</td>\n",
              "      <td>1</td>\n",
              "      <td>0</td>\n",
              "      <td>0</td>\n",
              "      <td>0</td>\n",
              "      <td>0</td>\n",
              "      <td>0</td>\n",
              "      <td>0</td>\n",
              "      <td>0</td>\n",
              "      <td>1</td>\n",
              "      <td>0</td>\n",
              "    </tr>\n",
              "    <tr>\n",
              "      <th>2</th>\n",
              "      <td>2008</td>\n",
              "      <td>223000.0</td>\n",
              "      <td>2500.0</td>\n",
              "      <td>1</td>\n",
              "      <td>1</td>\n",
              "      <td>0</td>\n",
              "      <td>0</td>\n",
              "      <td>0</td>\n",
              "      <td>0</td>\n",
              "      <td>0</td>\n",
              "      <td>0</td>\n",
              "      <td>0</td>\n",
              "      <td>1</td>\n",
              "      <td>0</td>\n",
              "      <td>0</td>\n",
              "      <td>0</td>\n",
              "      <td>0</td>\n",
              "      <td>0</td>\n",
              "      <td>1</td>\n",
              "      <td>0</td>\n",
              "      <td>0</td>\n",
              "      <td>0</td>\n",
              "      <td>1</td>\n",
              "      <td>0</td>\n",
              "      <td>0</td>\n",
              "      <td>0</td>\n",
              "      <td>0</td>\n",
              "      <td>0</td>\n",
              "    </tr>\n",
              "    <tr>\n",
              "      <th>3</th>\n",
              "      <td>2005</td>\n",
              "      <td>140000.0</td>\n",
              "      <td>1200.0</td>\n",
              "      <td>1</td>\n",
              "      <td>1</td>\n",
              "      <td>1</td>\n",
              "      <td>0</td>\n",
              "      <td>0</td>\n",
              "      <td>0</td>\n",
              "      <td>0</td>\n",
              "      <td>0</td>\n",
              "      <td>0</td>\n",
              "      <td>0</td>\n",
              "      <td>0</td>\n",
              "      <td>0</td>\n",
              "      <td>0</td>\n",
              "      <td>0</td>\n",
              "      <td>1</td>\n",
              "      <td>1</td>\n",
              "      <td>0</td>\n",
              "      <td>0</td>\n",
              "      <td>0</td>\n",
              "      <td>0</td>\n",
              "      <td>0</td>\n",
              "      <td>0</td>\n",
              "      <td>0</td>\n",
              "      <td>0</td>\n",
              "      <td>0</td>\n",
              "    </tr>\n",
              "    <tr>\n",
              "      <th>4</th>\n",
              "      <td>2002</td>\n",
              "      <td>413000.0</td>\n",
              "      <td>2200.0</td>\n",
              "      <td>0</td>\n",
              "      <td>0</td>\n",
              "      <td>0</td>\n",
              "      <td>0</td>\n",
              "      <td>1</td>\n",
              "      <td>0</td>\n",
              "      <td>0</td>\n",
              "      <td>0</td>\n",
              "      <td>0</td>\n",
              "      <td>0</td>\n",
              "      <td>0</td>\n",
              "      <td>0</td>\n",
              "      <td>0</td>\n",
              "      <td>0</td>\n",
              "      <td>1</td>\n",
              "      <td>1</td>\n",
              "      <td>0</td>\n",
              "      <td>0</td>\n",
              "      <td>0</td>\n",
              "      <td>1</td>\n",
              "      <td>0</td>\n",
              "      <td>0</td>\n",
              "      <td>0</td>\n",
              "      <td>0</td>\n",
              "      <td>0</td>\n",
              "    </tr>\n",
              "    <tr>\n",
              "      <th>5</th>\n",
              "      <td>2016</td>\n",
              "      <td>148000.0</td>\n",
              "      <td>1600.0</td>\n",
              "      <td>1</td>\n",
              "      <td>0</td>\n",
              "      <td>0</td>\n",
              "      <td>0</td>\n",
              "      <td>0</td>\n",
              "      <td>0</td>\n",
              "      <td>0</td>\n",
              "      <td>0</td>\n",
              "      <td>0</td>\n",
              "      <td>0</td>\n",
              "      <td>0</td>\n",
              "      <td>0</td>\n",
              "      <td>0</td>\n",
              "      <td>0</td>\n",
              "      <td>1</td>\n",
              "      <td>1</td>\n",
              "      <td>0</td>\n",
              "      <td>0</td>\n",
              "      <td>0</td>\n",
              "      <td>0</td>\n",
              "      <td>0</td>\n",
              "      <td>0</td>\n",
              "      <td>1</td>\n",
              "      <td>0</td>\n",
              "      <td>0</td>\n",
              "    </tr>\n",
              "    <tr>\n",
              "      <th>...</th>\n",
              "      <td>...</td>\n",
              "      <td>...</td>\n",
              "      <td>...</td>\n",
              "      <td>...</td>\n",
              "      <td>...</td>\n",
              "      <td>...</td>\n",
              "      <td>...</td>\n",
              "      <td>...</td>\n",
              "      <td>...</td>\n",
              "      <td>...</td>\n",
              "      <td>...</td>\n",
              "      <td>...</td>\n",
              "      <td>...</td>\n",
              "      <td>...</td>\n",
              "      <td>...</td>\n",
              "      <td>...</td>\n",
              "      <td>...</td>\n",
              "      <td>...</td>\n",
              "      <td>...</td>\n",
              "      <td>...</td>\n",
              "      <td>...</td>\n",
              "      <td>...</td>\n",
              "      <td>...</td>\n",
              "      <td>...</td>\n",
              "      <td>...</td>\n",
              "      <td>...</td>\n",
              "      <td>...</td>\n",
              "      <td>...</td>\n",
              "    </tr>\n",
              "    <tr>\n",
              "      <th>39993</th>\n",
              "      <td>2015</td>\n",
              "      <td>117000.0</td>\n",
              "      <td>1600.0</td>\n",
              "      <td>1</td>\n",
              "      <td>0</td>\n",
              "      <td>0</td>\n",
              "      <td>0</td>\n",
              "      <td>0</td>\n",
              "      <td>0</td>\n",
              "      <td>0</td>\n",
              "      <td>0</td>\n",
              "      <td>0</td>\n",
              "      <td>0</td>\n",
              "      <td>0</td>\n",
              "      <td>0</td>\n",
              "      <td>1</td>\n",
              "      <td>0</td>\n",
              "      <td>1</td>\n",
              "      <td>1</td>\n",
              "      <td>0</td>\n",
              "      <td>0</td>\n",
              "      <td>0</td>\n",
              "      <td>0</td>\n",
              "      <td>0</td>\n",
              "      <td>0</td>\n",
              "      <td>0</td>\n",
              "      <td>1</td>\n",
              "      <td>0</td>\n",
              "    </tr>\n",
              "    <tr>\n",
              "      <th>39994</th>\n",
              "      <td>2008</td>\n",
              "      <td>278000.0</td>\n",
              "      <td>2000.0</td>\n",
              "      <td>1</td>\n",
              "      <td>0</td>\n",
              "      <td>1</td>\n",
              "      <td>0</td>\n",
              "      <td>0</td>\n",
              "      <td>0</td>\n",
              "      <td>0</td>\n",
              "      <td>0</td>\n",
              "      <td>0</td>\n",
              "      <td>0</td>\n",
              "      <td>0</td>\n",
              "      <td>0</td>\n",
              "      <td>0</td>\n",
              "      <td>0</td>\n",
              "      <td>1</td>\n",
              "      <td>1</td>\n",
              "      <td>0</td>\n",
              "      <td>0</td>\n",
              "      <td>0</td>\n",
              "      <td>1</td>\n",
              "      <td>0</td>\n",
              "      <td>0</td>\n",
              "      <td>0</td>\n",
              "      <td>0</td>\n",
              "      <td>0</td>\n",
              "    </tr>\n",
              "    <tr>\n",
              "      <th>39996</th>\n",
              "      <td>2001</td>\n",
              "      <td>295000.0</td>\n",
              "      <td>2200.0</td>\n",
              "      <td>1</td>\n",
              "      <td>1</td>\n",
              "      <td>1</td>\n",
              "      <td>0</td>\n",
              "      <td>0</td>\n",
              "      <td>0</td>\n",
              "      <td>0</td>\n",
              "      <td>0</td>\n",
              "      <td>0</td>\n",
              "      <td>0</td>\n",
              "      <td>0</td>\n",
              "      <td>0</td>\n",
              "      <td>0</td>\n",
              "      <td>0</td>\n",
              "      <td>1</td>\n",
              "      <td>1</td>\n",
              "      <td>0</td>\n",
              "      <td>0</td>\n",
              "      <td>0</td>\n",
              "      <td>0</td>\n",
              "      <td>1</td>\n",
              "      <td>0</td>\n",
              "      <td>0</td>\n",
              "      <td>0</td>\n",
              "      <td>0</td>\n",
              "    </tr>\n",
              "    <tr>\n",
              "      <th>39997</th>\n",
              "      <td>1999</td>\n",
              "      <td>0.0</td>\n",
              "      <td>2200.0</td>\n",
              "      <td>1</td>\n",
              "      <td>0</td>\n",
              "      <td>0</td>\n",
              "      <td>0</td>\n",
              "      <td>0</td>\n",
              "      <td>0</td>\n",
              "      <td>0</td>\n",
              "      <td>0</td>\n",
              "      <td>1</td>\n",
              "      <td>0</td>\n",
              "      <td>0</td>\n",
              "      <td>0</td>\n",
              "      <td>0</td>\n",
              "      <td>0</td>\n",
              "      <td>1</td>\n",
              "      <td>0</td>\n",
              "      <td>0</td>\n",
              "      <td>1</td>\n",
              "      <td>0</td>\n",
              "      <td>1</td>\n",
              "      <td>0</td>\n",
              "      <td>0</td>\n",
              "      <td>0</td>\n",
              "      <td>0</td>\n",
              "      <td>0</td>\n",
              "    </tr>\n",
              "    <tr>\n",
              "      <th>39999</th>\n",
              "      <td>1986</td>\n",
              "      <td>272344.0</td>\n",
              "      <td>1997.0</td>\n",
              "      <td>1</td>\n",
              "      <td>0</td>\n",
              "      <td>0</td>\n",
              "      <td>0</td>\n",
              "      <td>0</td>\n",
              "      <td>0</td>\n",
              "      <td>0</td>\n",
              "      <td>0</td>\n",
              "      <td>0</td>\n",
              "      <td>0</td>\n",
              "      <td>0</td>\n",
              "      <td>1</td>\n",
              "      <td>0</td>\n",
              "      <td>0</td>\n",
              "      <td>1</td>\n",
              "      <td>0</td>\n",
              "      <td>0</td>\n",
              "      <td>1</td>\n",
              "      <td>0</td>\n",
              "      <td>1</td>\n",
              "      <td>0</td>\n",
              "      <td>0</td>\n",
              "      <td>0</td>\n",
              "      <td>0</td>\n",
              "      <td>0</td>\n",
              "    </tr>\n",
              "  </tbody>\n",
              "</table>\n",
              "<p>31367 rows × 28 columns</p>\n",
              "</div>"
            ],
            "text/plain": [
              "       year  mileage(kilometers)  volume(cm3)  ...  segment_J  segment_M  segment_S\n",
              "1      2008             172000.0       1400.0  ...          0          1          0\n",
              "2      2008             223000.0       2500.0  ...          0          0          0\n",
              "3      2005             140000.0       1200.0  ...          0          0          0\n",
              "4      2002             413000.0       2200.0  ...          0          0          0\n",
              "5      2016             148000.0       1600.0  ...          1          0          0\n",
              "...     ...                  ...          ...  ...        ...        ...        ...\n",
              "39993  2015             117000.0       1600.0  ...          0          1          0\n",
              "39994  2008             278000.0       2000.0  ...          0          0          0\n",
              "39996  2001             295000.0       2200.0  ...          0          0          0\n",
              "39997  1999                  0.0       2200.0  ...          0          0          0\n",
              "39999  1986             272344.0       1997.0  ...          0          0          0\n",
              "\n",
              "[31367 rows x 28 columns]"
            ]
          },
          "metadata": {
            "tags": []
          },
          "execution_count": 143
        }
      ]
    },
    {
      "cell_type": "markdown",
      "metadata": {
        "id": "ihdCX90EKohd"
      },
      "source": [
        "#Final Result\n",
        "\n",
        "We use Random Forest Regressor model to predict the price of cars after apply feature selection using p-value."
      ]
    },
    {
      "cell_type": "code",
      "metadata": {
        "id": "s7K27WcIIT2D"
      },
      "source": [
        "from sklearn.model_selection import train_test_split\n",
        "X_train,X_test,y_train,y_test = train_test_split(X_opt,y,test_size=0.2,random_state=5)"
      ],
      "execution_count": null,
      "outputs": []
    },
    {
      "cell_type": "code",
      "metadata": {
        "colab": {
          "base_uri": "https://localhost:8080/"
        },
        "id": "g-DUQzpWDpy8",
        "outputId": "6b15b100-1065-4538-9b92-b990ebabf49c"
      },
      "source": [
        "from sklearn.ensemble import RandomForestRegressor\n",
        "reg = RandomForestRegressor()\n",
        "reg.fit(X_train, y_train)\n",
        "y_pred= reg.predict(X_test)\n",
        "print(\"Accuracy on Traing set: \",reg.score(X_train,y_train))\n",
        "print(\"Accuracy on Testing set: \",reg.score(X_test,y_test))"
      ],
      "execution_count": null,
      "outputs": [
        {
          "output_type": "stream",
          "text": [
            "Accuracy on Traing set:  0.9846193551891512\n",
            "Accuracy on Testing set:  0.8951024541103084\n"
          ],
          "name": "stdout"
        }
      ]
    },
    {
      "cell_type": "code",
      "metadata": {
        "id": "FZb-pyvJIgod",
        "colab": {
          "base_uri": "https://localhost:8080/"
        },
        "outputId": "f49288d8-967e-4ea6-e806-37c5e1d71028"
      },
      "source": [
        "from sklearn.metrics import r2_score,mean_squared_error,mean_absolute_error\n",
        "import math\n",
        "\n",
        "print(\"R2_Score : \", r2_score(y_test,y_Pred))\n",
        "print(\"Mean Squared Error : \", mean_squared_error(y_test,y_Pred))\n",
        "print(\"MAE : \",mean_absolute_error(y_test,y_Pred))\n",
        "print(\"RSME : \",math.sqrt(mean_squared_error(y_test,y_Pred)))"
      ],
      "execution_count": 42,
      "outputs": [
        {
          "output_type": "stream",
          "text": [
            "R2_Score :  0.892236917706086\n",
            "Mean Squared Error :  2302532.511646756\n",
            "MAE :  1035.0023808065916\n",
            "RSME :  1517.4098034633741\n"
          ],
          "name": "stdout"
        }
      ]
    },
    {
      "cell_type": "markdown",
      "metadata": {
        "id": "ilro8dXyMHvC"
      },
      "source": [
        "we get a **$89$%** accuracy after apply feature selection using p-value"
      ]
    }
  ]
}