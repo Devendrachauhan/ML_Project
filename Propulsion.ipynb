{
  "nbformat": 4,
  "nbformat_minor": 0,
  "metadata": {
    "colab": {
      "name": "Propulsion.ipynb",
      "provenance": [],
      "collapsed_sections": []
    },
    "kernelspec": {
      "name": "python3",
      "display_name": "Python 3"
    }
  },
  "cells": [
    {
      "cell_type": "markdown",
      "metadata": {
        "id": "15xJRlgG0uaj"
      },
      "source": [
        "#Propulsion Plants Decay Evaluation\n",
        "\n",
        "A propulsion system is a machine that produces thrust to push an object forward.A system which provides thrust to propel the ship. It consists of propulsion machinery and the auxiliary systems needed to operate them, all the equipment to transmit propulsion power into thrust.\n",
        "\n",
        "We take into consideration **an application of condition-based maintenance to gas turbines used for vessel propulsion**, where the performance and advantages of exploiting statistical/machine learning method(s) in modeling the degradation of the propulsion plant over time are tested. Experiments, conducted on data generated from a sophisticated simulator of a gas turbine, mounted on a Frigate characterized by a COmbined Diesel eLectric And Gas propulsion plant type, will allow to show the effectiveness of the proposed statistical/machine learning approaches and to benchmark them in a realistic maritime application.\n"
      ]
    },
    {
      "cell_type": "markdown",
      "metadata": {
        "id": "ZbpjIcfG3N1x"
      },
      "source": [
        "#Description of dataset\n",
        "\n",
        "I assumed that the dataset on which i will trained the model have been developed and fine tuned over the year on several similar real propulsion plants(Gas Turbine propultion plant).\n",
        "\n",
        "The following quantiles can be derived by exploiting the simulator, punctually describing the state of the system.\n",
        "\n",
        "* Lever position $(lp)$ [ ]\n",
        "* Ship speed $(v)$ [knots]\n",
        "* Gas turbine shaft torque $GTT$\n",
        "* Gas turbine rate of revolutions $GTn$\n",
        "* Gas generator rate of revolutions $GGn$\n",
        "* Starboard propeller torque $Ts$\n",
        "* Port propeller torque $Tp$\n",
        "* HP turbine exit temperature $T48$\n",
        "* GT compressor inlet air temperature $T1$\n",
        "* GT compressor outlet air temperature $T2$\n",
        "* HP turbine exit pressure $P48$\n",
        "* GT compressor inlet air pressure $P1$\n",
        "* GT compressor outlet air pressure $P2$\n",
        "* GT exhaust gas pressure $Pexh$\n",
        "* Turbine injection control $TIC$\n",
        "* Fuel flow $mf$\n"
      ]
    },
    {
      "cell_type": "code",
      "metadata": {
        "id": "4iKAJrYBOCZt"
      },
      "source": [
        "import os"
      ],
      "execution_count": 1,
      "outputs": []
    },
    {
      "cell_type": "code",
      "metadata": {
        "colab": {
          "base_uri": "https://localhost:8080/",
          "height": 35
        },
        "id": "ATAkrClMOFYB",
        "outputId": "ee75a18a-08a9-4814-fe9e-57a5a8e9f1c1"
      },
      "source": [
        "os.getcwd()"
      ],
      "execution_count": 2,
      "outputs": [
        {
          "output_type": "execute_result",
          "data": {
            "application/vnd.google.colaboratory.intrinsic+json": {
              "type": "string"
            },
            "text/plain": [
              "'/content'"
            ]
          },
          "metadata": {
            "tags": []
          },
          "execution_count": 2
        }
      ]
    },
    {
      "cell_type": "code",
      "metadata": {
        "id": "2gH9yXpgOLSc"
      },
      "source": [
        "os.chdir('/content/drive/MyDrive/Colab Notebooks')"
      ],
      "execution_count": 3,
      "outputs": []
    },
    {
      "cell_type": "markdown",
      "metadata": {
        "id": "qIe3-9dR5eXL"
      },
      "source": [
        "#Import packages"
      ]
    },
    {
      "cell_type": "code",
      "metadata": {
        "colab": {
          "base_uri": "https://localhost:8080/"
        },
        "id": "EorjhdxwLzj8",
        "outputId": "3eba6c66-e3e5-4e6d-bf2f-865e47abcece"
      },
      "source": [
        "import numpy as np\n",
        "import pandas as pd\n",
        "from pandas.plotting import scatter_matrix\n",
        "import matplotlib.pyplot as plt\n",
        "%matplotlib inline\n",
        "import seaborn as sns\n",
        "\n",
        "from sklearn.model_selection import train_test_split\n",
        "\n",
        "from sklearn.ensemble import BaggingRegressor\n",
        "from sklearn.ensemble import RandomForestRegressor\n",
        "from sklearn.ensemble import ExtraTreesRegressor\n",
        "from sklearn.tree import DecisionTreeRegressor\n",
        "from sklearn.neighbors import KNeighborsRegressor\n",
        "\n",
        "from sklearn.metrics import mean_squared_error\n",
        "from sklearn.metrics import r2_score\n",
        "\n",
        "import statsmodels.api as sm"
      ],
      "execution_count": 4,
      "outputs": [
        {
          "output_type": "stream",
          "text": [
            "/usr/local/lib/python3.6/dist-packages/statsmodels/tools/_testing.py:19: FutureWarning: pandas.util.testing is deprecated. Use the functions in the public API at pandas.testing instead.\n",
            "  import pandas.util.testing as tm\n"
          ],
          "name": "stderr"
        }
      ]
    },
    {
      "cell_type": "markdown",
      "metadata": {
        "id": "dfQxMePi5m9l"
      },
      "source": [
        "#Import and clean the data"
      ]
    },
    {
      "cell_type": "code",
      "metadata": {
        "colab": {
          "base_uri": "https://localhost:8080/",
          "height": 326
        },
        "id": "sGcukjEgN-ma",
        "outputId": "2e7648f1-68cb-466b-8764-17cd804d93c2"
      },
      "source": [
        "#columns=['lp','v','GTT','GTn','GGn','Ts','Tp','T48','T1','T2','P48','P1','P2','Pexh','TIC','mf','kMc','kMt']\n",
        "df=pd.read_csv('propulsion.csv', index_col=None)\n",
        "df=df.iloc[:,1:]\n",
        "df.head()"
      ],
      "execution_count": 5,
      "outputs": [
        {
          "output_type": "execute_result",
          "data": {
            "text/html": [
              "<div>\n",
              "<style scoped>\n",
              "    .dataframe tbody tr th:only-of-type {\n",
              "        vertical-align: middle;\n",
              "    }\n",
              "\n",
              "    .dataframe tbody tr th {\n",
              "        vertical-align: top;\n",
              "    }\n",
              "\n",
              "    .dataframe thead th {\n",
              "        text-align: right;\n",
              "    }\n",
              "</style>\n",
              "<table border=\"1\" class=\"dataframe\">\n",
              "  <thead>\n",
              "    <tr style=\"text-align: right;\">\n",
              "      <th></th>\n",
              "      <th>Lever position (lp) [ ]</th>\n",
              "      <th>Ship speed (v) [knots]</th>\n",
              "      <th>Gas Turbine shaft torque (GTT) [kN m]</th>\n",
              "      <th>Gas Turbine rate of revolutions (GTn) [rpm]</th>\n",
              "      <th>Gas Generator rate of revolutions (GGn) [rpm]</th>\n",
              "      <th>Starboard Propeller Torque (Ts) [kN]</th>\n",
              "      <th>Port Propeller Torque (Tp) [kN]</th>\n",
              "      <th>HP Turbine exit temperature (T48) [C]</th>\n",
              "      <th>GT Compressor inlet air temperature (T1) [C]</th>\n",
              "      <th>GT Compressor outlet air temperature (T2) [C]</th>\n",
              "      <th>HP Turbine exit pressure (P48) [bar]</th>\n",
              "      <th>GT Compressor inlet air pressure (P1) [bar]</th>\n",
              "      <th>GT Compressor outlet air pressure (P2) [bar]</th>\n",
              "      <th>Gas Turbine exhaust gas pressure (Pexh) [bar]</th>\n",
              "      <th>Turbine Injecton Control (TIC) [%]</th>\n",
              "      <th>Fuel flow (mf) [kg/s]</th>\n",
              "      <th>GT Compressor decay state coefficient.</th>\n",
              "      <th>GT Turbine decay state coefficient.</th>\n",
              "    </tr>\n",
              "  </thead>\n",
              "  <tbody>\n",
              "    <tr>\n",
              "      <th>0</th>\n",
              "      <td>9.300</td>\n",
              "      <td>27.0</td>\n",
              "      <td>72762.205</td>\n",
              "      <td>3560.393</td>\n",
              "      <td>9753.812</td>\n",
              "      <td>644.806</td>\n",
              "      <td>644.806</td>\n",
              "      <td>1086.583</td>\n",
              "      <td>288.0</td>\n",
              "      <td>780.304</td>\n",
              "      <td>4.523</td>\n",
              "      <td>0.998</td>\n",
              "      <td>22.879</td>\n",
              "      <td>1.050</td>\n",
              "      <td>90.435</td>\n",
              "      <td>1.790</td>\n",
              "      <td>0.973</td>\n",
              "      <td>0.978</td>\n",
              "    </tr>\n",
              "    <tr>\n",
              "      <th>1</th>\n",
              "      <td>6.175</td>\n",
              "      <td>18.0</td>\n",
              "      <td>29760.552</td>\n",
              "      <td>2306.825</td>\n",
              "      <td>8780.012</td>\n",
              "      <td>246.011</td>\n",
              "      <td>246.011</td>\n",
              "      <td>776.921</td>\n",
              "      <td>288.0</td>\n",
              "      <td>665.511</td>\n",
              "      <td>2.518</td>\n",
              "      <td>0.998</td>\n",
              "      <td>13.438</td>\n",
              "      <td>1.030</td>\n",
              "      <td>34.596</td>\n",
              "      <td>0.685</td>\n",
              "      <td>0.995</td>\n",
              "      <td>0.975</td>\n",
              "    </tr>\n",
              "    <tr>\n",
              "      <th>2</th>\n",
              "      <td>3.144</td>\n",
              "      <td>9.0</td>\n",
              "      <td>8375.774</td>\n",
              "      <td>1386.739</td>\n",
              "      <td>7051.621</td>\n",
              "      <td>60.318</td>\n",
              "      <td>60.318</td>\n",
              "      <td>589.764</td>\n",
              "      <td>288.0</td>\n",
              "      <td>580.587</td>\n",
              "      <td>1.392</td>\n",
              "      <td>0.998</td>\n",
              "      <td>7.566</td>\n",
              "      <td>1.020</td>\n",
              "      <td>12.477</td>\n",
              "      <td>0.247</td>\n",
              "      <td>0.980</td>\n",
              "      <td>0.978</td>\n",
              "    </tr>\n",
              "    <tr>\n",
              "      <th>3</th>\n",
              "      <td>3.144</td>\n",
              "      <td>9.0</td>\n",
              "      <td>8377.589</td>\n",
              "      <td>1386.748</td>\n",
              "      <td>7098.469</td>\n",
              "      <td>60.339</td>\n",
              "      <td>60.339</td>\n",
              "      <td>570.651</td>\n",
              "      <td>288.0</td>\n",
              "      <td>576.565</td>\n",
              "      <td>1.390</td>\n",
              "      <td>0.998</td>\n",
              "      <td>7.409</td>\n",
              "      <td>1.021</td>\n",
              "      <td>11.678</td>\n",
              "      <td>0.231</td>\n",
              "      <td>0.984</td>\n",
              "      <td>1.000</td>\n",
              "    </tr>\n",
              "    <tr>\n",
              "      <th>4</th>\n",
              "      <td>6.175</td>\n",
              "      <td>18.0</td>\n",
              "      <td>29761.091</td>\n",
              "      <td>2306.825</td>\n",
              "      <td>8782.024</td>\n",
              "      <td>246.021</td>\n",
              "      <td>246.021</td>\n",
              "      <td>769.855</td>\n",
              "      <td>288.0</td>\n",
              "      <td>663.682</td>\n",
              "      <td>2.518</td>\n",
              "      <td>0.998</td>\n",
              "      <td>13.374</td>\n",
              "      <td>1.031</td>\n",
              "      <td>34.154</td>\n",
              "      <td>0.676</td>\n",
              "      <td>0.998</td>\n",
              "      <td>0.980</td>\n",
              "    </tr>\n",
              "  </tbody>\n",
              "</table>\n",
              "</div>"
            ],
            "text/plain": [
              "   Lever position (lp) [ ]  ...  GT Turbine decay state coefficient.\n",
              "0                    9.300  ...                                0.978\n",
              "1                    6.175  ...                                0.975\n",
              "2                    3.144  ...                                0.978\n",
              "3                    3.144  ...                                1.000\n",
              "4                    6.175  ...                                0.980\n",
              "\n",
              "[5 rows x 18 columns]"
            ]
          },
          "metadata": {
            "tags": []
          },
          "execution_count": 5
        }
      ]
    },
    {
      "cell_type": "markdown",
      "metadata": {
        "id": "AS3KtPda5t1t"
      },
      "source": [
        "##Overview\n",
        "* The data is clean with no missing values.\n",
        "* There are 18 columns which consists of 16 features and 2 responses.\n",
        "* There are 10000 instances on this dataset."
      ]
    },
    {
      "cell_type": "code",
      "metadata": {
        "colab": {
          "base_uri": "https://localhost:8080/"
        },
        "id": "ZcJIonrfQ4Ug",
        "outputId": "1679e26a-9031-4072-a150-53abf58e1327"
      },
      "source": [
        "df.info()"
      ],
      "execution_count": 6,
      "outputs": [
        {
          "output_type": "stream",
          "text": [
            "<class 'pandas.core.frame.DataFrame'>\n",
            "RangeIndex: 10000 entries, 0 to 9999\n",
            "Data columns (total 18 columns):\n",
            " #   Column                                         Non-Null Count  Dtype  \n",
            "---  ------                                         --------------  -----  \n",
            " 0   Lever position (lp) [ ]                        10000 non-null  float64\n",
            " 1   Ship speed (v) [knots]                         10000 non-null  float64\n",
            " 2   Gas Turbine shaft torque (GTT) [kN m]          10000 non-null  float64\n",
            " 3   Gas Turbine rate of revolutions (GTn) [rpm]    10000 non-null  float64\n",
            " 4   Gas Generator rate of revolutions (GGn) [rpm]  10000 non-null  float64\n",
            " 5   Starboard Propeller Torque (Ts) [kN]           10000 non-null  float64\n",
            " 6   Port Propeller Torque (Tp) [kN]                10000 non-null  float64\n",
            " 7   HP Turbine exit temperature (T48) [C]          10000 non-null  float64\n",
            " 8   GT Compressor inlet air temperature (T1) [C]   10000 non-null  float64\n",
            " 9   GT Compressor outlet air temperature (T2) [C]  10000 non-null  float64\n",
            " 10  HP Turbine exit pressure (P48) [bar]           10000 non-null  float64\n",
            " 11  GT Compressor inlet air pressure (P1) [bar]    10000 non-null  float64\n",
            " 12  GT Compressor outlet air pressure (P2) [bar]   10000 non-null  float64\n",
            " 13  Gas Turbine exhaust gas pressure (Pexh) [bar]  10000 non-null  float64\n",
            " 14  Turbine Injecton Control (TIC) [%]             10000 non-null  float64\n",
            " 15  Fuel flow (mf) [kg/s]                          10000 non-null  float64\n",
            " 16  GT Compressor decay state coefficient.         10000 non-null  float64\n",
            " 17  GT Turbine decay state coefficient.            10000 non-null  float64\n",
            "dtypes: float64(18)\n",
            "memory usage: 1.4 MB\n"
          ],
          "name": "stdout"
        }
      ]
    },
    {
      "cell_type": "code",
      "metadata": {
        "colab": {
          "base_uri": "https://localhost:8080/",
          "height": 419
        },
        "id": "YQDvTX7iok0z",
        "outputId": "c6580820-9d20-457c-ea59-71fdb0e3c439"
      },
      "source": [
        "df.describe()"
      ],
      "execution_count": 7,
      "outputs": [
        {
          "output_type": "execute_result",
          "data": {
            "text/html": [
              "<div>\n",
              "<style scoped>\n",
              "    .dataframe tbody tr th:only-of-type {\n",
              "        vertical-align: middle;\n",
              "    }\n",
              "\n",
              "    .dataframe tbody tr th {\n",
              "        vertical-align: top;\n",
              "    }\n",
              "\n",
              "    .dataframe thead th {\n",
              "        text-align: right;\n",
              "    }\n",
              "</style>\n",
              "<table border=\"1\" class=\"dataframe\">\n",
              "  <thead>\n",
              "    <tr style=\"text-align: right;\">\n",
              "      <th></th>\n",
              "      <th>Lever position (lp) [ ]</th>\n",
              "      <th>Ship speed (v) [knots]</th>\n",
              "      <th>Gas Turbine shaft torque (GTT) [kN m]</th>\n",
              "      <th>Gas Turbine rate of revolutions (GTn) [rpm]</th>\n",
              "      <th>Gas Generator rate of revolutions (GGn) [rpm]</th>\n",
              "      <th>Starboard Propeller Torque (Ts) [kN]</th>\n",
              "      <th>Port Propeller Torque (Tp) [kN]</th>\n",
              "      <th>HP Turbine exit temperature (T48) [C]</th>\n",
              "      <th>GT Compressor inlet air temperature (T1) [C]</th>\n",
              "      <th>GT Compressor outlet air temperature (T2) [C]</th>\n",
              "      <th>HP Turbine exit pressure (P48) [bar]</th>\n",
              "      <th>GT Compressor inlet air pressure (P1) [bar]</th>\n",
              "      <th>GT Compressor outlet air pressure (P2) [bar]</th>\n",
              "      <th>Gas Turbine exhaust gas pressure (Pexh) [bar]</th>\n",
              "      <th>Turbine Injecton Control (TIC) [%]</th>\n",
              "      <th>Fuel flow (mf) [kg/s]</th>\n",
              "      <th>GT Compressor decay state coefficient.</th>\n",
              "      <th>GT Turbine decay state coefficient.</th>\n",
              "    </tr>\n",
              "  </thead>\n",
              "  <tbody>\n",
              "    <tr>\n",
              "      <th>count</th>\n",
              "      <td>10000.000000</td>\n",
              "      <td>10000.000000</td>\n",
              "      <td>10000.000000</td>\n",
              "      <td>10000.000000</td>\n",
              "      <td>10000.000000</td>\n",
              "      <td>10000.000000</td>\n",
              "      <td>10000.000000</td>\n",
              "      <td>10000.000000</td>\n",
              "      <td>10000.0</td>\n",
              "      <td>10000.000000</td>\n",
              "      <td>10000.000000</td>\n",
              "      <td>1.000000e+04</td>\n",
              "      <td>10000.000000</td>\n",
              "      <td>10000.000000</td>\n",
              "      <td>10000.000000</td>\n",
              "      <td>10000.000000</td>\n",
              "      <td>10000.000000</td>\n",
              "      <td>10000.000000</td>\n",
              "    </tr>\n",
              "    <tr>\n",
              "      <th>mean</th>\n",
              "      <td>5.150075</td>\n",
              "      <td>14.951400</td>\n",
              "      <td>27100.647714</td>\n",
              "      <td>2131.151788</td>\n",
              "      <td>8194.182366</td>\n",
              "      <td>225.957785</td>\n",
              "      <td>225.957785</td>\n",
              "      <td>734.476178</td>\n",
              "      <td>288.0</td>\n",
              "      <td>645.748980</td>\n",
              "      <td>2.345732</td>\n",
              "      <td>9.980000e-01</td>\n",
              "      <td>12.262597</td>\n",
              "      <td>1.029402</td>\n",
              "      <td>33.480715</td>\n",
              "      <td>0.659100</td>\n",
              "      <td>0.975021</td>\n",
              "      <td>0.987455</td>\n",
              "    </tr>\n",
              "    <tr>\n",
              "      <th>std</th>\n",
              "      <td>2.624015</td>\n",
              "      <td>7.740467</td>\n",
              "      <td>22062.780307</td>\n",
              "      <td>772.211732</td>\n",
              "      <td>1090.569425</td>\n",
              "      <td>199.737886</td>\n",
              "      <td>199.737886</td>\n",
              "      <td>173.009157</td>\n",
              "      <td>0.0</td>\n",
              "      <td>72.483036</td>\n",
              "      <td>1.081038</td>\n",
              "      <td>2.236101e-13</td>\n",
              "      <td>5.320817</td>\n",
              "      <td>0.010353</td>\n",
              "      <td>25.721725</td>\n",
              "      <td>0.504791</td>\n",
              "      <td>0.014734</td>\n",
              "      <td>0.007510</td>\n",
              "    </tr>\n",
              "    <tr>\n",
              "      <th>min</th>\n",
              "      <td>1.138000</td>\n",
              "      <td>3.000000</td>\n",
              "      <td>253.547000</td>\n",
              "      <td>1307.675000</td>\n",
              "      <td>6589.002000</td>\n",
              "      <td>5.304000</td>\n",
              "      <td>5.304000</td>\n",
              "      <td>444.731000</td>\n",
              "      <td>288.0</td>\n",
              "      <td>540.999000</td>\n",
              "      <td>1.093000</td>\n",
              "      <td>9.980000e-01</td>\n",
              "      <td>5.828000</td>\n",
              "      <td>1.019000</td>\n",
              "      <td>0.000000</td>\n",
              "      <td>0.068000</td>\n",
              "      <td>0.950000</td>\n",
              "      <td>0.975000</td>\n",
              "    </tr>\n",
              "    <tr>\n",
              "      <th>25%</th>\n",
              "      <td>3.144000</td>\n",
              "      <td>9.000000</td>\n",
              "      <td>8375.791500</td>\n",
              "      <td>1386.758000</td>\n",
              "      <td>7056.520500</td>\n",
              "      <td>60.317000</td>\n",
              "      <td>60.317000</td>\n",
              "      <td>589.841000</td>\n",
              "      <td>288.0</td>\n",
              "      <td>577.980750</td>\n",
              "      <td>1.389000</td>\n",
              "      <td>9.980000e-01</td>\n",
              "      <td>7.445000</td>\n",
              "      <td>1.020000</td>\n",
              "      <td>13.534000</td>\n",
              "      <td>0.246000</td>\n",
              "      <td>0.962000</td>\n",
              "      <td>0.981000</td>\n",
              "    </tr>\n",
              "    <tr>\n",
              "      <th>50%</th>\n",
              "      <td>5.140000</td>\n",
              "      <td>15.000000</td>\n",
              "      <td>21630.133500</td>\n",
              "      <td>1924.325000</td>\n",
              "      <td>8480.527000</td>\n",
              "      <td>175.264000</td>\n",
              "      <td>175.264000</td>\n",
              "      <td>705.351000</td>\n",
              "      <td>288.0</td>\n",
              "      <td>636.800000</td>\n",
              "      <td>2.082000</td>\n",
              "      <td>9.980000e-01</td>\n",
              "      <td>11.086000</td>\n",
              "      <td>1.026000</td>\n",
              "      <td>25.249500</td>\n",
              "      <td>0.496000</td>\n",
              "      <td>0.975000</td>\n",
              "      <td>0.987000</td>\n",
              "    </tr>\n",
              "    <tr>\n",
              "      <th>75%</th>\n",
              "      <td>7.148000</td>\n",
              "      <td>21.000000</td>\n",
              "      <td>39000.710250</td>\n",
              "      <td>2678.078000</td>\n",
              "      <td>9132.132500</td>\n",
              "      <td>332.360000</td>\n",
              "      <td>332.360000</td>\n",
              "      <td>833.154750</td>\n",
              "      <td>288.0</td>\n",
              "      <td>693.656750</td>\n",
              "      <td>2.981000</td>\n",
              "      <td>9.980000e-01</td>\n",
              "      <td>15.649000</td>\n",
              "      <td>1.036000</td>\n",
              "      <td>44.500000</td>\n",
              "      <td>0.881000</td>\n",
              "      <td>0.988000</td>\n",
              "      <td>0.994000</td>\n",
              "    </tr>\n",
              "    <tr>\n",
              "      <th>max</th>\n",
              "      <td>9.300000</td>\n",
              "      <td>27.000000</td>\n",
              "      <td>72783.338000</td>\n",
              "      <td>3560.741000</td>\n",
              "      <td>9797.103000</td>\n",
              "      <td>645.249000</td>\n",
              "      <td>645.249000</td>\n",
              "      <td>1115.797000</td>\n",
              "      <td>288.0</td>\n",
              "      <td>789.094000</td>\n",
              "      <td>4.560000</td>\n",
              "      <td>9.980000e-01</td>\n",
              "      <td>23.140000</td>\n",
              "      <td>1.052000</td>\n",
              "      <td>92.556000</td>\n",
              "      <td>1.832000</td>\n",
              "      <td>1.000000</td>\n",
              "      <td>1.000000</td>\n",
              "    </tr>\n",
              "  </tbody>\n",
              "</table>\n",
              "</div>"
            ],
            "text/plain": [
              "       Lever position (lp) [ ]  ...  GT Turbine decay state coefficient.\n",
              "count             10000.000000  ...                         10000.000000\n",
              "mean                  5.150075  ...                             0.987455\n",
              "std                   2.624015  ...                             0.007510\n",
              "min                   1.138000  ...                             0.975000\n",
              "25%                   3.144000  ...                             0.981000\n",
              "50%                   5.140000  ...                             0.987000\n",
              "75%                   7.148000  ...                             0.994000\n",
              "max                   9.300000  ...                             1.000000\n",
              "\n",
              "[8 rows x 18 columns]"
            ]
          },
          "metadata": {
            "tags": []
          },
          "execution_count": 7
        }
      ]
    },
    {
      "cell_type": "markdown",
      "metadata": {
        "id": "kGb08MgE6lPX"
      },
      "source": [
        "##OBSERVATION\n",
        "\n",
        "* Maximum speed of ship is 27 knot while minimum is 3 knot\n",
        "* GT Compressor Inlet Air Temperature  T1 have zero-variances.\n",
        "* Standard deviation of a data set is zero if and only if all of its values are identical. This means they are constant numbers(also pointed above while finding number of uniques).\n",
        "* T1 will be removed from the data."
      ]
    },
    {
      "cell_type": "markdown",
      "metadata": {
        "id": "nHnHpLqm6K0Y"
      },
      "source": [
        "Check duplicate rows in dataset."
      ]
    },
    {
      "cell_type": "code",
      "metadata": {
        "colab": {
          "base_uri": "https://localhost:8080/"
        },
        "id": "o69d6GzLQgz0",
        "outputId": "dd96a789-3a6d-4b99-b630-f4f71754e954"
      },
      "source": [
        "df.duplicated().sum()"
      ],
      "execution_count": 8,
      "outputs": [
        {
          "output_type": "execute_result",
          "data": {
            "text/plain": [
              "0"
            ]
          },
          "metadata": {
            "tags": []
          },
          "execution_count": 8
        }
      ]
    },
    {
      "cell_type": "markdown",
      "metadata": {
        "id": "AaWz1wyZ6HYN"
      },
      "source": [
        "The data is clean with no missing values."
      ]
    },
    {
      "cell_type": "code",
      "metadata": {
        "colab": {
          "base_uri": "https://localhost:8080/"
        },
        "id": "bdFDRjqhOBEk",
        "outputId": "66897155-710e-4cef-e524-95b34902ea27"
      },
      "source": [
        "np,df.isnull().sum()"
      ],
      "execution_count": 9,
      "outputs": [
        {
          "output_type": "execute_result",
          "data": {
            "text/plain": [
              "(<module 'numpy' from '/usr/local/lib/python3.6/dist-packages/numpy/__init__.py'>,\n",
              " Lever position (lp) [ ]                          0\n",
              " Ship speed (v) [knots]                           0\n",
              " Gas Turbine shaft torque (GTT) [kN m]            0\n",
              " Gas Turbine rate of revolutions (GTn) [rpm]      0\n",
              " Gas Generator rate of revolutions (GGn) [rpm]    0\n",
              " Starboard Propeller Torque (Ts) [kN]             0\n",
              " Port Propeller Torque (Tp) [kN]                  0\n",
              " HP Turbine exit temperature (T48) [C]            0\n",
              " GT Compressor inlet air temperature (T1) [C]     0\n",
              " GT Compressor outlet air temperature (T2) [C]    0\n",
              " HP Turbine exit pressure (P48) [bar]             0\n",
              " GT Compressor inlet air pressure (P1) [bar]      0\n",
              " GT Compressor outlet air pressure (P2) [bar]     0\n",
              " Gas Turbine exhaust gas pressure (Pexh) [bar]    0\n",
              " Turbine Injecton Control (TIC) [%]               0\n",
              " Fuel flow (mf) [kg/s]                            0\n",
              " GT Compressor decay state coefficient.           0\n",
              " GT Turbine decay state coefficient.              0\n",
              " dtype: int64)"
            ]
          },
          "metadata": {
            "tags": []
          },
          "execution_count": 9
        }
      ]
    },
    {
      "cell_type": "markdown",
      "metadata": {
        "id": "Y6FkNGcx53BP"
      },
      "source": [
        "#Check the linearity between $lp$ and $v$\n",
        "We can see the **R-squared** is exactly 1, and the coefficient of linear model is approximately 3 with standard error is zero.\n",
        "$lp$ will be removed from the data"
      ]
    },
    {
      "cell_type": "code",
      "metadata": {
        "colab": {
          "base_uri": "https://localhost:8080/",
          "height": 444
        },
        "id": "LsfNW7iSQzQu",
        "outputId": "3211bcfa-410d-442c-94b1-7fb27a9fef2e"
      },
      "source": [
        "LiR_v = sm.OLS(df['Lever position (lp) [ ]'], sm.add_constant(df['Ship speed (v) [knots]'])).fit()\n",
        "LiR_v.summary()"
      ],
      "execution_count": 10,
      "outputs": [
        {
          "output_type": "execute_result",
          "data": {
            "text/html": [
              "<table class=\"simpletable\">\n",
              "<caption>OLS Regression Results</caption>\n",
              "<tr>\n",
              "  <th>Dep. Variable:</th>    <td>Lever position (lp) [ ]</td> <th>  R-squared:         </th>  <td>   1.000</td> \n",
              "</tr>\n",
              "<tr>\n",
              "  <th>Model:</th>                      <td>OLS</td>           <th>  Adj. R-squared:    </th>  <td>   1.000</td> \n",
              "</tr>\n",
              "<tr>\n",
              "  <th>Method:</th>                <td>Least Squares</td>      <th>  F-statistic:       </th>  <td>5.898e+07</td>\n",
              "</tr>\n",
              "<tr>\n",
              "  <th>Date:</th>                <td>Wed, 18 Nov 2020</td>     <th>  Prob (F-statistic):</th>   <td>  0.00</td>  \n",
              "</tr>\n",
              "<tr>\n",
              "  <th>Time:</th>                    <td>15:51:03</td>         <th>  Log-Likelihood:    </th>  <td>  19577.</td> \n",
              "</tr>\n",
              "<tr>\n",
              "  <th>No. Observations:</th>         <td> 10000</td>          <th>  AIC:               </th> <td>-3.915e+04</td>\n",
              "</tr>\n",
              "<tr>\n",
              "  <th>Df Residuals:</th>             <td>  9998</td>          <th>  BIC:               </th> <td>-3.914e+04</td>\n",
              "</tr>\n",
              "<tr>\n",
              "  <th>Df Model:</th>                 <td>     1</td>          <th>                     </th>      <td> </td>    \n",
              "</tr>\n",
              "<tr>\n",
              "  <th>Covariance Type:</th>         <td>nonrobust</td>        <th>                     </th>      <td> </td>    \n",
              "</tr>\n",
              "</table>\n",
              "<table class=\"simpletable\">\n",
              "<tr>\n",
              "             <td></td>               <th>coef</th>     <th>std err</th>      <th>t</th>      <th>P>|t|</th>  <th>[0.025</th>    <th>0.975]</th>  \n",
              "</tr>\n",
              "<tr>\n",
              "  <th>const</th>                  <td>    0.0820</td> <td>    0.001</td> <td>  110.326</td> <td> 0.000</td> <td>    0.081</td> <td>    0.083</td>\n",
              "</tr>\n",
              "<tr>\n",
              "  <th>Ship speed (v) [knots]</th> <td>    0.3390</td> <td> 4.41e-05</td> <td> 7679.646</td> <td> 0.000</td> <td>    0.339</td> <td>    0.339</td>\n",
              "</tr>\n",
              "</table>\n",
              "<table class=\"simpletable\">\n",
              "<tr>\n",
              "  <th>Omnibus:</th>       <td>595.771</td> <th>  Durbin-Watson:     </th> <td>   2.004</td>\n",
              "</tr>\n",
              "<tr>\n",
              "  <th>Prob(Omnibus):</th> <td> 0.000</td>  <th>  Jarque-Bera (JB):  </th> <td> 455.793</td>\n",
              "</tr>\n",
              "<tr>\n",
              "  <th>Skew:</th>          <td> 0.431</td>  <th>  Prob(JB):          </th> <td>1.06e-99</td>\n",
              "</tr>\n",
              "<tr>\n",
              "  <th>Kurtosis:</th>      <td> 2.407</td>  <th>  Cond. No.          </th> <td>    36.7</td>\n",
              "</tr>\n",
              "</table><br/><br/>Warnings:<br/>[1] Standard Errors assume that the covariance matrix of the errors is correctly specified."
            ],
            "text/plain": [
              "<class 'statsmodels.iolib.summary.Summary'>\n",
              "\"\"\"\n",
              "                               OLS Regression Results                              \n",
              "===================================================================================\n",
              "Dep. Variable:     Lever position (lp) [ ]   R-squared:                       1.000\n",
              "Model:                                 OLS   Adj. R-squared:                  1.000\n",
              "Method:                      Least Squares   F-statistic:                 5.898e+07\n",
              "Date:                     Wed, 18 Nov 2020   Prob (F-statistic):               0.00\n",
              "Time:                             15:51:03   Log-Likelihood:                 19577.\n",
              "No. Observations:                    10000   AIC:                        -3.915e+04\n",
              "Df Residuals:                         9998   BIC:                        -3.914e+04\n",
              "Df Model:                                1                                         \n",
              "Covariance Type:                 nonrobust                                         \n",
              "==========================================================================================\n",
              "                             coef    std err          t      P>|t|      [0.025      0.975]\n",
              "------------------------------------------------------------------------------------------\n",
              "const                      0.0820      0.001    110.326      0.000       0.081       0.083\n",
              "Ship speed (v) [knots]     0.3390   4.41e-05   7679.646      0.000       0.339       0.339\n",
              "==============================================================================\n",
              "Omnibus:                      595.771   Durbin-Watson:                   2.004\n",
              "Prob(Omnibus):                  0.000   Jarque-Bera (JB):              455.793\n",
              "Skew:                           0.431   Prob(JB):                     1.06e-99\n",
              "Kurtosis:                       2.407   Cond. No.                         36.7\n",
              "==============================================================================\n",
              "\n",
              "Warnings:\n",
              "[1] Standard Errors assume that the covariance matrix of the errors is correctly specified.\n",
              "\"\"\""
            ]
          },
          "metadata": {
            "tags": []
          },
          "execution_count": 10
        }
      ]
    },
    {
      "cell_type": "markdown",
      "metadata": {
        "id": "zMPx2iQb7H_h"
      },
      "source": [
        "# Remove redundant features\n",
        "We will remove three features from the data: $lp$, $T1$"
      ]
    },
    {
      "cell_type": "code",
      "metadata": {
        "colab": {
          "base_uri": "https://localhost:8080/"
        },
        "id": "7u8d9KU5oGEj",
        "outputId": "48f824d9-8335-48ee-d6b5-de72a9de79b3"
      },
      "source": [
        "df.drop(['Lever position (lp) [ ]','GT Compressor inlet air temperature (T1) [C]'],axis=1,inplace=True)\n",
        "df.info()"
      ],
      "execution_count": 11,
      "outputs": [
        {
          "output_type": "stream",
          "text": [
            "<class 'pandas.core.frame.DataFrame'>\n",
            "RangeIndex: 10000 entries, 0 to 9999\n",
            "Data columns (total 16 columns):\n",
            " #   Column                                         Non-Null Count  Dtype  \n",
            "---  ------                                         --------------  -----  \n",
            " 0   Ship speed (v) [knots]                         10000 non-null  float64\n",
            " 1   Gas Turbine shaft torque (GTT) [kN m]          10000 non-null  float64\n",
            " 2   Gas Turbine rate of revolutions (GTn) [rpm]    10000 non-null  float64\n",
            " 3   Gas Generator rate of revolutions (GGn) [rpm]  10000 non-null  float64\n",
            " 4   Starboard Propeller Torque (Ts) [kN]           10000 non-null  float64\n",
            " 5   Port Propeller Torque (Tp) [kN]                10000 non-null  float64\n",
            " 6   HP Turbine exit temperature (T48) [C]          10000 non-null  float64\n",
            " 7   GT Compressor outlet air temperature (T2) [C]  10000 non-null  float64\n",
            " 8   HP Turbine exit pressure (P48) [bar]           10000 non-null  float64\n",
            " 9   GT Compressor inlet air pressure (P1) [bar]    10000 non-null  float64\n",
            " 10  GT Compressor outlet air pressure (P2) [bar]   10000 non-null  float64\n",
            " 11  Gas Turbine exhaust gas pressure (Pexh) [bar]  10000 non-null  float64\n",
            " 12  Turbine Injecton Control (TIC) [%]             10000 non-null  float64\n",
            " 13  Fuel flow (mf) [kg/s]                          10000 non-null  float64\n",
            " 14  GT Compressor decay state coefficient.         10000 non-null  float64\n",
            " 15  GT Turbine decay state coefficient.            10000 non-null  float64\n",
            "dtypes: float64(16)\n",
            "memory usage: 1.2 MB\n"
          ],
          "name": "stdout"
        }
      ]
    },
    {
      "cell_type": "markdown",
      "metadata": {
        "id": "kvopMdQuJgjE"
      },
      "source": [
        "Creating **Heatmap** and find correlation"
      ]
    },
    {
      "cell_type": "code",
      "metadata": {
        "colab": {
          "base_uri": "https://localhost:8080/",
          "height": 712
        },
        "id": "HV0EHwFAC-ds",
        "outputId": "1540aaa5-8a9a-49f0-f29f-eae930f2826c"
      },
      "source": [
        "plt.figure(figsize=(14,8))\n",
        "c= df.corr()\n",
        "sns.heatmap(c,cmap=\"BrBG\",annot=True)"
      ],
      "execution_count": 13,
      "outputs": [
        {
          "output_type": "execute_result",
          "data": {
            "text/plain": [
              "<matplotlib.axes._subplots.AxesSubplot at 0x7fd93bbf78d0>"
            ]
          },
          "metadata": {
            "tags": []
          },
          "execution_count": 13
        },
        {
          "output_type": "display_data",
          "data": {
            "image/png": "[encoded data removed]",
            "text/plain": [
              "<Figure size 1008x576 with 2 Axes>"
            ]
          },
          "metadata": {
            "tags": [],
            "needs_background": "light"
          }
        }
      ]
    },
    {
      "cell_type": "markdown",
      "metadata": {
        "id": "ppwqMoMSEShj"
      },
      "source": [
        "Now we will remove features from the data:  **$P1$** becouse it is correlated with other features highly negative."
      ]
    },
    {
      "cell_type": "code",
      "metadata": {
        "colab": {
          "base_uri": "https://localhost:8080/"
        },
        "id": "wuZU0JEUDeuc",
        "outputId": "23bc70e6-8ebc-46fa-a51f-d3428dc6ed1b"
      },
      "source": [
        "df.drop(['GT Compressor inlet air pressure (P1) [bar]'],axis=1,inplace=True)\n",
        "df.info()"
      ],
      "execution_count": 14,
      "outputs": [
        {
          "output_type": "stream",
          "text": [
            "<class 'pandas.core.frame.DataFrame'>\n",
            "RangeIndex: 10000 entries, 0 to 9999\n",
            "Data columns (total 15 columns):\n",
            " #   Column                                         Non-Null Count  Dtype  \n",
            "---  ------                                         --------------  -----  \n",
            " 0   Ship speed (v) [knots]                         10000 non-null  float64\n",
            " 1   Gas Turbine shaft torque (GTT) [kN m]          10000 non-null  float64\n",
            " 2   Gas Turbine rate of revolutions (GTn) [rpm]    10000 non-null  float64\n",
            " 3   Gas Generator rate of revolutions (GGn) [rpm]  10000 non-null  float64\n",
            " 4   Starboard Propeller Torque (Ts) [kN]           10000 non-null  float64\n",
            " 5   Port Propeller Torque (Tp) [kN]                10000 non-null  float64\n",
            " 6   HP Turbine exit temperature (T48) [C]          10000 non-null  float64\n",
            " 7   GT Compressor outlet air temperature (T2) [C]  10000 non-null  float64\n",
            " 8   HP Turbine exit pressure (P48) [bar]           10000 non-null  float64\n",
            " 9   GT Compressor outlet air pressure (P2) [bar]   10000 non-null  float64\n",
            " 10  Gas Turbine exhaust gas pressure (Pexh) [bar]  10000 non-null  float64\n",
            " 11  Turbine Injecton Control (TIC) [%]             10000 non-null  float64\n",
            " 12  Fuel flow (mf) [kg/s]                          10000 non-null  float64\n",
            " 13  GT Compressor decay state coefficient.         10000 non-null  float64\n",
            " 14  GT Turbine decay state coefficient.            10000 non-null  float64\n",
            "dtypes: float64(15)\n",
            "memory usage: 1.1 MB\n"
          ],
          "name": "stdout"
        }
      ]
    },
    {
      "cell_type": "markdown",
      "metadata": {
        "id": "clXpc7eGFbOi"
      },
      "source": [
        "#**Train Models**\n",
        "## Split Data to Training and Test sets\n",
        "* There are 9.547 (80%) instances used to fit the models.\n",
        "* The remains of instances (20%) will be used to compute the accuracy scores of models to avoid **overfitting**."
      ]
    },
    {
      "cell_type": "code",
      "metadata": {
        "id": "6Iz7rsKq62XY"
      },
      "source": [
        "X=df.iloc[:,:13]\n",
        "y1=df.iloc[:,13:14]\n",
        "y2=df.iloc[:,14:]\n",
        "X_train, X_test, y1_train, y1_test, y2_train, y2_test = train_test_split(X,y1,y2,test_size=0.2,random_state=13)"
      ],
      "execution_count": 23,
      "outputs": []
    },
    {
      "cell_type": "code",
      "metadata": {
        "colab": {
          "base_uri": "https://localhost:8080/"
        },
        "id": "4iVAYzPI7oSU",
        "outputId": "42019d20-790c-483b-94c2-36b9f1aadffb"
      },
      "source": [
        "print('X_train shape =',X_train.shape)\n",
        "print('X_test shape =',X_test.shape)\n",
        "print('y1_train shape =',y1_train.shape)\n",
        "print('y1_test shape =',y1_test.shape)\n",
        "print('y2_train shape =',y2_train.shape)\n",
        "print('y2_test shape =',y2_test.shape)"
      ],
      "execution_count": 25,
      "outputs": [
        {
          "output_type": "stream",
          "text": [
            "X_train shape = (8000, 13)\n",
            "X_test shape = (2000, 13)\n",
            "y1_train shape = (8000, 1)\n",
            "y1_test shape = (2000, 1)\n",
            "y2_train shape = (8000, 1)\n",
            "y2_test shape = (2000, 1)\n"
          ],
          "name": "stdout"
        }
      ]
    },
    {
      "cell_type": "markdown",
      "metadata": {
        "id": "mumknCrXEq2i"
      },
      "source": [
        "#Train the models to predict $y1$\n",
        "Linear Regression Model\n",
        "\n",
        "R-squared = 0.791\n",
        "All coefficients are significant (nonzero) according to t-test"
      ]
    },
    {
      "cell_type": "code",
      "metadata": {
        "colab": {
          "base_uri": "https://localhost:8080/",
          "height": 730
        },
        "id": "n6zALixC72E9",
        "outputId": "9f24427c-e967-44f1-dd32-8a624042d321"
      },
      "source": [
        "LiR_y1 = sm.OLS(y1_train, sm.add_constant(X_train)).fit()\n",
        "LiR_y1_pred = LiR_y1.predict(sm.add_constant(X_test))\n",
        "LiR_y1.summary()"
      ],
      "execution_count": 26,
      "outputs": [
        {
          "output_type": "execute_result",
          "data": {
            "text/html": [
              "<table class=\"simpletable\">\n",
              "<caption>OLS Regression Results</caption>\n",
              "<tr>\n",
              "  <th>Dep. Variable:</th>    <td>GT Compressor decay state coefficient.</td> <th>  R-squared:         </th>  <td>   0.791</td> \n",
              "</tr>\n",
              "<tr>\n",
              "  <th>Model:</th>                              <td>OLS</td>                  <th>  Adj. R-squared:    </th>  <td>   0.790</td> \n",
              "</tr>\n",
              "<tr>\n",
              "  <th>Method:</th>                        <td>Least Squares</td>             <th>  F-statistic:       </th>  <td>   2514.</td> \n",
              "</tr>\n",
              "<tr>\n",
              "  <th>Date:</th>                        <td>Wed, 18 Nov 2020</td>            <th>  Prob (F-statistic):</th>   <td>  0.00</td>  \n",
              "</tr>\n",
              "<tr>\n",
              "  <th>Time:</th>                            <td>16:06:05</td>                <th>  Log-Likelihood:    </th>  <td>  28632.</td> \n",
              "</tr>\n",
              "<tr>\n",
              "  <th>No. Observations:</th>                 <td>  8000</td>                 <th>  AIC:               </th> <td>-5.724e+04</td>\n",
              "</tr>\n",
              "<tr>\n",
              "  <th>Df Residuals:</th>                     <td>  7987</td>                 <th>  BIC:               </th> <td>-5.715e+04</td>\n",
              "</tr>\n",
              "<tr>\n",
              "  <th>Df Model:</th>                         <td>    12</td>                 <th>                     </th>      <td> </td>    \n",
              "</tr>\n",
              "<tr>\n",
              "  <th>Covariance Type:</th>                 <td>nonrobust</td>               <th>                     </th>      <td> </td>    \n",
              "</tr>\n",
              "</table>\n",
              "<table class=\"simpletable\">\n",
              "<tr>\n",
              "                        <td></td>                           <th>coef</th>     <th>std err</th>      <th>t</th>      <th>P>|t|</th>  <th>[0.025</th>    <th>0.975]</th>  \n",
              "</tr>\n",
              "<tr>\n",
              "  <th>const</th>                                         <td>    4.4877</td> <td>    0.257</td> <td>   17.442</td> <td> 0.000</td> <td>    3.983</td> <td>    4.992</td>\n",
              "</tr>\n",
              "<tr>\n",
              "  <th>Ship speed (v) [knots]</th>                        <td>    0.0044</td> <td>    0.000</td> <td>   21.204</td> <td> 0.000</td> <td>    0.004</td> <td>    0.005</td>\n",
              "</tr>\n",
              "<tr>\n",
              "  <th>Gas Turbine shaft torque (GTT) [kN m]</th>         <td> 5.066e-06</td> <td> 4.54e-07</td> <td>   11.166</td> <td> 0.000</td> <td> 4.18e-06</td> <td> 5.96e-06</td>\n",
              "</tr>\n",
              "<tr>\n",
              "  <th>Gas Turbine rate of revolutions (GTn) [rpm]</th>   <td>   -0.0001</td> <td> 3.39e-06</td> <td>  -34.493</td> <td> 0.000</td> <td>   -0.000</td> <td>   -0.000</td>\n",
              "</tr>\n",
              "<tr>\n",
              "  <th>Gas Generator rate of revolutions (GGn) [rpm]</th> <td> 1.683e-05</td> <td>  1.1e-06</td> <td>   15.297</td> <td> 0.000</td> <td> 1.47e-05</td> <td>  1.9e-05</td>\n",
              "</tr>\n",
              "<tr>\n",
              "  <th>Starboard Propeller Torque (Ts) [kN]</th>          <td>   -0.0006</td> <td> 2.08e-05</td> <td>  -27.266</td> <td> 0.000</td> <td>   -0.001</td> <td>   -0.001</td>\n",
              "</tr>\n",
              "<tr>\n",
              "  <th>Port Propeller Torque (Tp) [kN]</th>               <td>   -0.0006</td> <td> 2.08e-05</td> <td>  -27.266</td> <td> 0.000</td> <td>   -0.001</td> <td>   -0.001</td>\n",
              "</tr>\n",
              "<tr>\n",
              "  <th>HP Turbine exit temperature (T48) [C]</th>         <td>   -0.0002</td> <td> 2.53e-05</td> <td>   -9.340</td> <td> 0.000</td> <td>   -0.000</td> <td>   -0.000</td>\n",
              "</tr>\n",
              "<tr>\n",
              "  <th>GT Compressor outlet air temperature (T2) [C]</th> <td>   -0.0023</td> <td> 3.27e-05</td> <td>  -71.666</td> <td> 0.000</td> <td>   -0.002</td> <td>   -0.002</td>\n",
              "</tr>\n",
              "<tr>\n",
              "  <th>HP Turbine exit pressure (P48) [bar]</th>          <td>    0.2243</td> <td>    0.012</td> <td>   18.061</td> <td> 0.000</td> <td>    0.200</td> <td>    0.249</td>\n",
              "</tr>\n",
              "<tr>\n",
              "  <th>GT Compressor outlet air pressure (P2) [bar]</th>  <td>    0.0254</td> <td>    0.001</td> <td>   23.811</td> <td> 0.000</td> <td>    0.023</td> <td>    0.028</td>\n",
              "</tr>\n",
              "<tr>\n",
              "  <th>Gas Turbine exhaust gas pressure (Pexh) [bar]</th> <td>   -2.4421</td> <td>    0.251</td> <td>   -9.738</td> <td> 0.000</td> <td>   -2.934</td> <td>   -1.950</td>\n",
              "</tr>\n",
              "<tr>\n",
              "  <th>Turbine Injecton Control (TIC) [%]</th>            <td>   -0.0005</td> <td> 2.25e-05</td> <td>  -21.726</td> <td> 0.000</td> <td>   -0.001</td> <td>   -0.000</td>\n",
              "</tr>\n",
              "<tr>\n",
              "  <th>Fuel flow (mf) [kg/s]</th>                         <td>    0.0467</td> <td>    0.015</td> <td>    3.042</td> <td> 0.002</td> <td>    0.017</td> <td>    0.077</td>\n",
              "</tr>\n",
              "</table>\n",
              "<table class=\"simpletable\">\n",
              "<tr>\n",
              "  <th>Omnibus:</th>       <td>199.135</td> <th>  Durbin-Watson:     </th> <td>   2.025</td>\n",
              "</tr>\n",
              "<tr>\n",
              "  <th>Prob(Omnibus):</th> <td> 0.000</td>  <th>  Jarque-Bera (JB):  </th> <td> 111.347</td>\n",
              "</tr>\n",
              "<tr>\n",
              "  <th>Skew:</th>          <td> 0.111</td>  <th>  Prob(JB):          </th> <td>6.63e-25</td>\n",
              "</tr>\n",
              "<tr>\n",
              "  <th>Kurtosis:</th>      <td> 2.467</td>  <th>  Cond. No.          </th> <td>4.21e+17</td>\n",
              "</tr>\n",
              "</table><br/><br/>Warnings:<br/>[1] Standard Errors assume that the covariance matrix of the errors is correctly specified.<br/>[2] The smallest eigenvalue is 5.76e-23. This might indicate that there are<br/>strong multicollinearity problems or that the design matrix is singular."
            ],
            "text/plain": [
              "<class 'statsmodels.iolib.summary.Summary'>\n",
              "\"\"\"\n",
              "                                      OLS Regression Results                                      \n",
              "==================================================================================================\n",
              "Dep. Variable:     GT Compressor decay state coefficient.   R-squared:                       0.791\n",
              "Model:                                                OLS   Adj. R-squared:                  0.790\n",
              "Method:                                     Least Squares   F-statistic:                     2514.\n",
              "Date:                                    Wed, 18 Nov 2020   Prob (F-statistic):               0.00\n",
              "Time:                                            16:06:05   Log-Likelihood:                 28632.\n",
              "No. Observations:                                    8000   AIC:                        -5.724e+04\n",
              "Df Residuals:                                        7987   BIC:                        -5.715e+04\n",
              "Df Model:                                              12                                         \n",
              "Covariance Type:                                nonrobust                                         \n",
              "=================================================================================================================\n",
              "                                                    coef    std err          t      P>|t|      [0.025      0.975]\n",
              "-----------------------------------------------------------------------------------------------------------------\n",
              "const                                             4.4877      0.257     17.442      0.000       3.983       4.992\n",
              "Ship speed (v) [knots]                            0.0044      0.000     21.204      0.000       0.004       0.005\n",
              "Gas Turbine shaft torque (GTT) [kN m]          5.066e-06   4.54e-07     11.166      0.000    4.18e-06    5.96e-06\n",
              "Gas Turbine rate of revolutions (GTn) [rpm]      -0.0001   3.39e-06    -34.493      0.000      -0.000      -0.000\n",
              "Gas Generator rate of revolutions (GGn) [rpm]  1.683e-05    1.1e-06     15.297      0.000    1.47e-05     1.9e-05\n",
              "Starboard Propeller Torque (Ts) [kN]             -0.0006   2.08e-05    -27.266      0.000      -0.001      -0.001\n",
              "Port Propeller Torque (Tp) [kN]                  -0.0006   2.08e-05    -27.266      0.000      -0.001      -0.001\n",
              "HP Turbine exit temperature (T48) [C]            -0.0002   2.53e-05     -9.340      0.000      -0.000      -0.000\n",
              "GT Compressor outlet air temperature (T2) [C]    -0.0023   3.27e-05    -71.666      0.000      -0.002      -0.002\n",
              "HP Turbine exit pressure (P48) [bar]              0.2243      0.012     18.061      0.000       0.200       0.249\n",
              "GT Compressor outlet air pressure (P2) [bar]      0.0254      0.001     23.811      0.000       0.023       0.028\n",
              "Gas Turbine exhaust gas pressure (Pexh) [bar]    -2.4421      0.251     -9.738      0.000      -2.934      -1.950\n",
              "Turbine Injecton Control (TIC) [%]               -0.0005   2.25e-05    -21.726      0.000      -0.001      -0.000\n",
              "Fuel flow (mf) [kg/s]                             0.0467      0.015      3.042      0.002       0.017       0.077\n",
              "==============================================================================\n",
              "Omnibus:                      199.135   Durbin-Watson:                   2.025\n",
              "Prob(Omnibus):                  0.000   Jarque-Bera (JB):              111.347\n",
              "Skew:                           0.111   Prob(JB):                     6.63e-25\n",
              "Kurtosis:                       2.467   Cond. No.                     4.21e+17\n",
              "==============================================================================\n",
              "\n",
              "Warnings:\n",
              "[1] Standard Errors assume that the covariance matrix of the errors is correctly specified.\n",
              "[2] The smallest eigenvalue is 5.76e-23. This might indicate that there are\n",
              "strong multicollinearity problems or that the design matrix is singular.\n",
              "\"\"\""
            ]
          },
          "metadata": {
            "tags": []
          },
          "execution_count": 26
        }
      ]
    },
    {
      "cell_type": "code",
      "metadata": {
        "colab": {
          "base_uri": "https://localhost:8080/"
        },
        "id": "TnJrVCU6BD-g",
        "outputId": "aa7bb649-506e-4edc-8a26-590b4a673250"
      },
      "source": [
        "from sklearn.linear_model import LinearRegression\n",
        "linear_reg = LinearRegression()\n",
        "linear_reg.fit(X_train, y1_train)\n",
        "y1_pred= linear_reg.predict(X_test)\n",
        "print(\"Accuracy on Traing set: \",linear_reg.score(X_train,y1_train))\n",
        "print(\"Accuracy on Testing set: \",linear_reg.score(X_test,y1_test))"
      ],
      "execution_count": 27,
      "outputs": [
        {
          "output_type": "stream",
          "text": [
            "Accuracy on Traing set:  0.7906786706617417\n",
            "Accuracy on Testing set:  0.7940914151500997\n"
          ],
          "name": "stdout"
        }
      ]
    },
    {
      "cell_type": "markdown",
      "metadata": {
        "id": "OVxj5im0JJnZ"
      },
      "source": [
        "##Random Forest Regressor for $y1$"
      ]
    },
    {
      "cell_type": "code",
      "metadata": {
        "colab": {
          "base_uri": "https://localhost:8080/"
        },
        "id": "AgneHx_M_TYH",
        "outputId": "c4a39fd6-1474-4b1b-97d8-eacde2202a62"
      },
      "source": [
        "from sklearn.ensemble import RandomForestRegressor\n",
        "rf_reg = RandomForestRegressor(n_estimators=100)\n",
        "rf_reg.fit(X_train, y1_train)\n",
        "y1_pred= rf_reg.predict(X_test)\n",
        "print(\"Accuracy on Traing set: \",rf_reg.score(X_train,y1_train))\n",
        "print(\"Accuracy on Testing set: \",rf_reg.score(X_test,y1_test))"
      ],
      "execution_count": 31,
      "outputs": [
        {
          "output_type": "stream",
          "text": [
            "/usr/local/lib/python3.6/dist-packages/ipykernel_launcher.py:3: DataConversionWarning: A column-vector y was passed when a 1d array was expected. Please change the shape of y to (n_samples,), for example using ravel().\n",
            "  This is separate from the ipykernel package so we can avoid doing imports until\n"
          ],
          "name": "stderr"
        },
        {
          "output_type": "stream",
          "text": [
            "Accuracy on Traing set:  0.9992460361629218\n",
            "Accuracy on Testing set:  0.9944579194309855\n"
          ],
          "name": "stdout"
        }
      ]
    },
    {
      "cell_type": "markdown",
      "metadata": {
        "id": "rPWrNbwzJBim"
      },
      "source": [
        "Find r2_score,mean_squared_error,mean_absolute_error from random forest regressor for  $y1$"
      ]
    },
    {
      "cell_type": "code",
      "metadata": {
        "colab": {
          "base_uri": "https://localhost:8080/"
        },
        "id": "eVfj1_99HJZV",
        "outputId": "ab24cb3d-08ff-4d33-d2f4-0cdacecd4569"
      },
      "source": [
        "from sklearn.metrics import r2_score,mean_squared_error,mean_absolute_error\n",
        "import math\n",
        "\n",
        "print(\"R2_Score : \", r2_score(y1_test,y1_pred))\n",
        "print(\"Mean Squared Error : \", mean_squared_error(y1_test,y1_pred))\n",
        "print(\"MAE : \",mean_absolute_error(y1_test,y1_pred))\n",
        "print(\"RSME : \",math.sqrt(mean_squared_error(y1_test,y1_pred)))"
      ],
      "execution_count": 33,
      "outputs": [
        {
          "output_type": "stream",
          "text": [
            "R2_Score :  0.9944579194309855\n",
            "Mean Squared Error :  1.1873278925493722e-06\n",
            "MAE :  0.0005741163459700595\n",
            "RSME :  0.0010896457647095097\n"
          ],
          "name": "stdout"
        }
      ]
    },
    {
      "cell_type": "markdown",
      "metadata": {
        "id": "UyV4mjTSDnFu"
      },
      "source": [
        "#Train the models to predict $y2$\n",
        "Train the Linear Regression model\n",
        "\n",
        "R-squared = 0.910\n",
        "All coefficients are significant (nonzero) according to t-test"
      ]
    },
    {
      "cell_type": "code",
      "metadata": {
        "colab": {
          "base_uri": "https://localhost:8080/",
          "height": 730
        },
        "id": "HcsjfashB41c",
        "outputId": "8438fa2b-1986-443a-8d33-6760f4bc452b"
      },
      "source": [
        "LiR_y2 = sm.OLS(y2_train, sm.add_constant(X_train)).fit()\n",
        "LiR_y2_pred = LiR_y2.predict(sm.add_constant(X_test))\n",
        "LiR_y2.summary()"
      ],
      "execution_count": 35,
      "outputs": [
        {
          "output_type": "execute_result",
          "data": {
            "text/html": [
              "<table class=\"simpletable\">\n",
              "<caption>OLS Regression Results</caption>\n",
              "<tr>\n",
              "  <th>Dep. Variable:</th>    <td>GT Turbine decay state coefficient.</td> <th>  R-squared:         </th>  <td>   0.910</td> \n",
              "</tr>\n",
              "<tr>\n",
              "  <th>Model:</th>                            <td>OLS</td>                 <th>  Adj. R-squared:    </th>  <td>   0.910</td> \n",
              "</tr>\n",
              "<tr>\n",
              "  <th>Method:</th>                      <td>Least Squares</td>            <th>  F-statistic:       </th>  <td>   6742.</td> \n",
              "</tr>\n",
              "<tr>\n",
              "  <th>Date:</th>                      <td>Wed, 18 Nov 2020</td>           <th>  Prob (F-statistic):</th>   <td>  0.00</td>  \n",
              "</tr>\n",
              "<tr>\n",
              "  <th>Time:</th>                          <td>16:12:09</td>               <th>  Log-Likelihood:    </th>  <td>  37418.</td> \n",
              "</tr>\n",
              "<tr>\n",
              "  <th>No. Observations:</th>               <td>  8000</td>                <th>  AIC:               </th> <td>-7.481e+04</td>\n",
              "</tr>\n",
              "<tr>\n",
              "  <th>Df Residuals:</th>                   <td>  7987</td>                <th>  BIC:               </th> <td>-7.472e+04</td>\n",
              "</tr>\n",
              "<tr>\n",
              "  <th>Df Model:</th>                       <td>    12</td>                <th>                     </th>      <td> </td>    \n",
              "</tr>\n",
              "<tr>\n",
              "  <th>Covariance Type:</th>               <td>nonrobust</td>              <th>                     </th>      <td> </td>    \n",
              "</tr>\n",
              "</table>\n",
              "<table class=\"simpletable\">\n",
              "<tr>\n",
              "                        <td></td>                           <th>coef</th>     <th>std err</th>      <th>t</th>      <th>P>|t|</th>  <th>[0.025</th>    <th>0.975]</th>  \n",
              "</tr>\n",
              "<tr>\n",
              "  <th>const</th>                                         <td>    0.0487</td> <td>    0.086</td> <td>    0.567</td> <td> 0.570</td> <td>   -0.120</td> <td>    0.217</td>\n",
              "</tr>\n",
              "<tr>\n",
              "  <th>Ship speed (v) [knots]</th>                        <td>    0.0061</td> <td> 6.94e-05</td> <td>   87.467</td> <td> 0.000</td> <td>    0.006</td> <td>    0.006</td>\n",
              "</tr>\n",
              "<tr>\n",
              "  <th>Gas Turbine shaft torque (GTT) [kN m]</th>         <td>  1.38e-05</td> <td> 1.51e-07</td> <td>   91.222</td> <td> 0.000</td> <td> 1.35e-05</td> <td> 1.41e-05</td>\n",
              "</tr>\n",
              "<tr>\n",
              "  <th>Gas Turbine rate of revolutions (GTn) [rpm]</th>   <td> 6.482e-05</td> <td> 1.13e-06</td> <td>   57.390</td> <td> 0.000</td> <td> 6.26e-05</td> <td>  6.7e-05</td>\n",
              "</tr>\n",
              "<tr>\n",
              "  <th>Gas Generator rate of revolutions (GGn) [rpm]</th> <td> 3.116e-05</td> <td> 3.67e-07</td> <td>   84.932</td> <td> 0.000</td> <td> 3.04e-05</td> <td> 3.19e-05</td>\n",
              "</tr>\n",
              "<tr>\n",
              "  <th>Starboard Propeller Torque (Ts) [kN]</th>          <td>   -0.0008</td> <td> 6.95e-06</td> <td> -113.105</td> <td> 0.000</td> <td>   -0.001</td> <td>   -0.001</td>\n",
              "</tr>\n",
              "<tr>\n",
              "  <th>Port Propeller Torque (Tp) [kN]</th>               <td>   -0.0008</td> <td> 6.95e-06</td> <td> -113.105</td> <td> 0.000</td> <td>   -0.001</td> <td>   -0.001</td>\n",
              "</tr>\n",
              "<tr>\n",
              "  <th>HP Turbine exit temperature (T48) [C]</th>         <td>   -0.0007</td> <td> 8.44e-06</td> <td>  -80.257</td> <td> 0.000</td> <td>   -0.001</td> <td>   -0.001</td>\n",
              "</tr>\n",
              "<tr>\n",
              "  <th>GT Compressor outlet air temperature (T2) [C]</th> <td>    0.0002</td> <td> 1.09e-05</td> <td>   18.441</td> <td> 0.000</td> <td>    0.000</td> <td>    0.000</td>\n",
              "</tr>\n",
              "<tr>\n",
              "  <th>HP Turbine exit pressure (P48) [bar]</th>          <td>    0.0805</td> <td>    0.004</td> <td>   19.438</td> <td> 0.000</td> <td>    0.072</td> <td>    0.089</td>\n",
              "</tr>\n",
              "<tr>\n",
              "  <th>GT Compressor outlet air pressure (P2) [bar]</th>  <td>   -0.0536</td> <td>    0.000</td> <td> -150.535</td> <td> 0.000</td> <td>   -0.054</td> <td>   -0.053</td>\n",
              "</tr>\n",
              "<tr>\n",
              "  <th>Gas Turbine exhaust gas pressure (Pexh) [bar]</th> <td>    1.0168</td> <td>    0.084</td> <td>   12.158</td> <td> 0.000</td> <td>    0.853</td> <td>    1.181</td>\n",
              "</tr>\n",
              "<tr>\n",
              "  <th>Turbine Injecton Control (TIC) [%]</th>            <td>   -0.0002</td> <td> 7.51e-06</td> <td>  -30.038</td> <td> 0.000</td> <td>   -0.000</td> <td>   -0.000</td>\n",
              "</tr>\n",
              "<tr>\n",
              "  <th>Fuel flow (mf) [kg/s]</th>                         <td>    0.3533</td> <td>    0.005</td> <td>   68.959</td> <td> 0.000</td> <td>    0.343</td> <td>    0.363</td>\n",
              "</tr>\n",
              "</table>\n",
              "<table class=\"simpletable\">\n",
              "<tr>\n",
              "  <th>Omnibus:</th>       <td>262.235</td> <th>  Durbin-Watson:     </th> <td>   1.983</td> \n",
              "</tr>\n",
              "<tr>\n",
              "  <th>Prob(Omnibus):</th> <td> 0.000</td>  <th>  Jarque-Bera (JB):  </th> <td> 666.107</td> \n",
              "</tr>\n",
              "<tr>\n",
              "  <th>Skew:</th>          <td> 0.123</td>  <th>  Prob(JB):          </th> <td>2.27e-145</td>\n",
              "</tr>\n",
              "<tr>\n",
              "  <th>Kurtosis:</th>      <td> 4.392</td>  <th>  Cond. No.          </th> <td>4.21e+17</td> \n",
              "</tr>\n",
              "</table><br/><br/>Warnings:<br/>[1] Standard Errors assume that the covariance matrix of the errors is correctly specified.<br/>[2] The smallest eigenvalue is 5.76e-23. This might indicate that there are<br/>strong multicollinearity problems or that the design matrix is singular."
            ],
            "text/plain": [
              "<class 'statsmodels.iolib.summary.Summary'>\n",
              "\"\"\"\n",
              "                                     OLS Regression Results                                    \n",
              "===============================================================================================\n",
              "Dep. Variable:     GT Turbine decay state coefficient.   R-squared:                       0.910\n",
              "Model:                                             OLS   Adj. R-squared:                  0.910\n",
              "Method:                                  Least Squares   F-statistic:                     6742.\n",
              "Date:                                 Wed, 18 Nov 2020   Prob (F-statistic):               0.00\n",
              "Time:                                         16:12:09   Log-Likelihood:                 37418.\n",
              "No. Observations:                                 8000   AIC:                        -7.481e+04\n",
              "Df Residuals:                                     7987   BIC:                        -7.472e+04\n",
              "Df Model:                                           12                                         \n",
              "Covariance Type:                             nonrobust                                         \n",
              "=================================================================================================================\n",
              "                                                    coef    std err          t      P>|t|      [0.025      0.975]\n",
              "-----------------------------------------------------------------------------------------------------------------\n",
              "const                                             0.0487      0.086      0.567      0.570      -0.120       0.217\n",
              "Ship speed (v) [knots]                            0.0061   6.94e-05     87.467      0.000       0.006       0.006\n",
              "Gas Turbine shaft torque (GTT) [kN m]           1.38e-05   1.51e-07     91.222      0.000    1.35e-05    1.41e-05\n",
              "Gas Turbine rate of revolutions (GTn) [rpm]    6.482e-05   1.13e-06     57.390      0.000    6.26e-05     6.7e-05\n",
              "Gas Generator rate of revolutions (GGn) [rpm]  3.116e-05   3.67e-07     84.932      0.000    3.04e-05    3.19e-05\n",
              "Starboard Propeller Torque (Ts) [kN]             -0.0008   6.95e-06   -113.105      0.000      -0.001      -0.001\n",
              "Port Propeller Torque (Tp) [kN]                  -0.0008   6.95e-06   -113.105      0.000      -0.001      -0.001\n",
              "HP Turbine exit temperature (T48) [C]            -0.0007   8.44e-06    -80.257      0.000      -0.001      -0.001\n",
              "GT Compressor outlet air temperature (T2) [C]     0.0002   1.09e-05     18.441      0.000       0.000       0.000\n",
              "HP Turbine exit pressure (P48) [bar]              0.0805      0.004     19.438      0.000       0.072       0.089\n",
              "GT Compressor outlet air pressure (P2) [bar]     -0.0536      0.000   -150.535      0.000      -0.054      -0.053\n",
              "Gas Turbine exhaust gas pressure (Pexh) [bar]     1.0168      0.084     12.158      0.000       0.853       1.181\n",
              "Turbine Injecton Control (TIC) [%]               -0.0002   7.51e-06    -30.038      0.000      -0.000      -0.000\n",
              "Fuel flow (mf) [kg/s]                             0.3533      0.005     68.959      0.000       0.343       0.363\n",
              "==============================================================================\n",
              "Omnibus:                      262.235   Durbin-Watson:                   1.983\n",
              "Prob(Omnibus):                  0.000   Jarque-Bera (JB):              666.107\n",
              "Skew:                           0.123   Prob(JB):                    2.27e-145\n",
              "Kurtosis:                       4.392   Cond. No.                     4.21e+17\n",
              "==============================================================================\n",
              "\n",
              "Warnings:\n",
              "[1] Standard Errors assume that the covariance matrix of the errors is correctly specified.\n",
              "[2] The smallest eigenvalue is 5.76e-23. This might indicate that there are\n",
              "strong multicollinearity problems or that the design matrix is singular.\n",
              "\"\"\""
            ]
          },
          "metadata": {
            "tags": []
          },
          "execution_count": 35
        }
      ]
    },
    {
      "cell_type": "code",
      "metadata": {
        "colab": {
          "base_uri": "https://localhost:8080/"
        },
        "id": "7XIp3ow9Df7i",
        "outputId": "92f0c502-b458-4f61-c60f-e94e23c6632b"
      },
      "source": [
        "from sklearn.linear_model import LinearRegression\n",
        "linear_reg = LinearRegression()\n",
        "linear_reg.fit(X_train, y2_train)\n",
        "y2_pred= linear_reg.predict(X_test)\n",
        "print(\"Accuracy on Traing set: \",linear_reg.score(X_train,y2_train))\n",
        "print(\"Accuracy on Testing set: \",linear_reg.score(X_test,y2_test))"
      ],
      "execution_count": 36,
      "outputs": [
        {
          "output_type": "stream",
          "text": [
            "Accuracy on Traing set:  0.9101539706927426\n",
            "Accuracy on Testing set:  0.9150652555613592\n"
          ],
          "name": "stdout"
        }
      ]
    },
    {
      "cell_type": "markdown",
      "metadata": {
        "id": "YJsFuY5eIlEK"
      },
      "source": [
        "###Random Forest Regressor"
      ]
    },
    {
      "cell_type": "code",
      "metadata": {
        "colab": {
          "base_uri": "https://localhost:8080/"
        },
        "id": "PXu5Q_-5D7GG",
        "outputId": "b65ca795-af82-402b-dbfa-5cab0eebca64"
      },
      "source": [
        "from sklearn.ensemble import RandomForestRegressor\n",
        "rf_reg = RandomForestRegressor(n_estimators=100)\n",
        "rf_reg.fit(X_train, y2_train)\n",
        "y2_pred= rf_reg.predict(X_test)\n",
        "print(\"Accuracy on Traing set: \",rf_reg.score(X_train,y2_train))\n",
        "print(\"Accuracy on Testing set: \",rf_reg.score(X_test,y2_test))"
      ],
      "execution_count": 37,
      "outputs": [
        {
          "output_type": "stream",
          "text": [
            "/usr/local/lib/python3.6/dist-packages/ipykernel_launcher.py:3: DataConversionWarning: A column-vector y was passed when a 1d array was expected. Please change the shape of y to (n_samples,), for example using ravel().\n",
            "  This is separate from the ipykernel package so we can avoid doing imports until\n"
          ],
          "name": "stderr"
        },
        {
          "output_type": "stream",
          "text": [
            "Accuracy on Traing set:  0.9983555001323531\n",
            "Accuracy on Testing set:  0.986607684158917\n"
          ],
          "name": "stdout"
        }
      ]
    },
    {
      "cell_type": "markdown",
      "metadata": {
        "id": "_yILnkuhItcf"
      },
      "source": [
        "Find r2_score,mean_squared_error,mean_absolute_error from random forest regressor for $y2$"
      ]
    },
    {
      "cell_type": "code",
      "metadata": {
        "colab": {
          "base_uri": "https://localhost:8080/"
        },
        "id": "GylmpjtjEG0y",
        "outputId": "ccfa2ade-2f8a-45fa-e816-4ab7c7dcfaa9"
      },
      "source": [
        "from sklearn.metrics import r2_score,mean_squared_error,mean_absolute_error\n",
        "import math\n",
        "\n",
        "print(\"R2_Score : \", r2_score(y2_test,y2_pred))\n",
        "print(\"Mean Squared Error : \", mean_squared_error(y2_test,y2_pred))\n",
        "print(\"MAE : \",mean_absolute_error(y2_test,y2_pred))\n",
        "print(\"RSME : \",math.sqrt(mean_squared_error(y2_test,y2_pred)))"
      ],
      "execution_count": 38,
      "outputs": [
        {
          "output_type": "stream",
          "text": [
            "R2_Score :  0.986607684158917\n",
            "Mean Squared Error :  7.536121258150292e-07\n",
            "MAE :  0.00040413286148981197\n",
            "RSME :  0.0008681083606411294\n"
          ],
          "name": "stdout"
        }
      ]
    },
    {
      "cell_type": "code",
      "metadata": {
        "id": "sy4U60KrIifi"
      },
      "source": [
        ""
      ],
      "execution_count": null,
      "outputs": []
    }
  ]
}